{
 "cells": [
  {
   "cell_type": "markdown",
   "metadata": {},
   "source": [
    "# Imports"
   ]
  },
  {
   "cell_type": "code",
   "execution_count": 2,
   "metadata": {},
   "outputs": [],
   "source": [
    "import numpy as np\n",
    "import os\n",
    "from glob import glob\n",
    "import h5py\n",
    "import tensorflow as tf\n",
    "from tensorflow.keras import layers, models\n",
    "from sklearn.model_selection import train_test_split\n",
    "from tensorflow.keras.utils import Sequence\n",
    "from sklearn.utils import shuffle\n",
    "from tqdm import tqdm\n",
    "from tensorflow.keras.callbacks import ModelCheckpoint\n",
    "from tensorflow.keras.models import load_model\n",
    "from tensorflow.keras import mixed_precision\n",
    "# mixed_precision.set_global_policy('mixed_float16')\n",
    "tf.keras.mixed_precision.set_global_policy('float32')\n",
    "import matplotlib.pyplot as plt\n",
    "import seaborn as sns\n",
    "from sklearn.metrics import confusion_matrix, ConfusionMatrixDisplay, classification_report, accuracy_score\n",
    "import gc\n",
    "from tensorflow.keras.callbacks import CSVLogger\n",
    "import tensorflow_model_optimization as tfmot"
   ]
  },
  {
   "cell_type": "code",
   "execution_count": 2,
   "metadata": {},
   "outputs": [
    {
     "name": "stdout",
     "output_type": "stream",
     "text": [
      "[PhysicalDevice(name='/physical_device:GPU:0', device_type='GPU')]\n"
     ]
    }
   ],
   "source": [
    "print(tf.config.list_physical_devices('GPU'))"
   ]
  },
  {
   "cell_type": "markdown",
   "metadata": {},
   "source": [
    "# Converting from npy to h5"
   ]
  },
  {
   "cell_type": "code",
   "execution_count": null,
   "metadata": {},
   "outputs": [],
   "source": [
    "# Datasets/\n",
    "# └── 11G-features/\n",
    "#     ├── ATM_images/\n",
    "#     ├── Center_of_Mass/\n",
    "#     ├── DTM_images/\n",
    "#     ├── Filtered_Raw_Signals/\n",
    "#     ├── RFDM_recomputed/\n",
    "#     │   ├── p0_1/\n",
    "#     │   │   ├── Circle/\n",
    "#     │   │   │   ├── sess_0/\n",
    "#     │   │   │   │   ├── sensor0/\n",
    "#     │   │   │   │   │   ├── 0.npy\n",
    "#     │   │   │   │   │   ├── 1.npy\n",
    "#     │   │   │   │   │   └── ...\n",
    "#     │   │   │   │   ├── sensor1/\n",
    "#     │   │   │   │   │   ├── 0.npy\n",
    "#     │   │   │   │   │   ├── 1.npy\n",
    "#     │   │   │   │   │   └── ...\n",
    "#     │   │   │   ├── sess_1/\n",
    "#     │   │   │   ├── sess_2/\n",
    "#     │   │   │   ├── sess_3/\n",
    "#     │   │   │   └── sess_4/\n",
    "#     │   │   ├── FastSwipeRL/\n",
    "#     │   │   ├── FingerRub/\n",
    "#     │   │   ├── FingerSlider/\n",
    "#     │   │   ├── NoHand/\n",
    "#     │   │   ├── PalmHold/\n",
    "#     │   │   ├── PalmTilt/\n",
    "#     │   │   ├── PinchIndex/\n",
    "#     │   │   ├── PinchPinkky/\n",
    "#     │   │   ├── Pull/\n",
    "#     │   │   ├── Push/\n",
    "#     │   │   ├── RandomGesture/\n",
    "#     │   │   └── SlowSwipeRL/\n",
    "#     │   ├── p0_2/\n",
    "#     │   ├── p0_3/\n",
    "#     │   ├── ...\n",
    "#     │   ├── p0_20/\n",
    "#     │   ├── p1/\n",
    "#     │   ├── ...\n",
    "#     │   └── p25/\n",
    "#     ├── RTM_images/\n",
    "#     ├── Signal_Energy_SOR/\n",
    "#     ├── Signal_Energy_SOT/\n",
    "#     ├── Signal_Variation_2D/\n",
    "#     ├── Signal_Variation_SOR/\n",
    "#     └── Signal_Variation_SOT/"
   ]
  },
  {
   "cell_type": "code",
   "execution_count": null,
   "metadata": {},
   "outputs": [],
   "source": [
    "def convert_to_hdf5(base_path, output_path, seq_len=5):\n",
    "    participants = sorted([p for p in os.listdir(base_path) if os.path.isdir(os.path.join(base_path, p))])\n",
    "    samples = []\n",
    "\n",
    "    gesture_set = set()\n",
    "    h5f = h5py.File(output_path, 'w')\n",
    "    idx = 0\n",
    "\n",
    "    for person in tqdm(participants, desc=\"Processing participants\"):\n",
    "        person_path = os.path.join(base_path, person)\n",
    "\n",
    "        for gesture in os.listdir(person_path):\n",
    "            gesture_path = os.path.join(person_path, gesture)\n",
    "            if not os.path.isdir(gesture_path): continue\n",
    "            gesture_set.add(gesture)\n",
    "\n",
    "            for session in os.listdir(gesture_path):\n",
    "                sess_path = os.path.join(gesture_path, session)\n",
    "                sensor0_files = sorted(glob(os.path.join(sess_path, 'sensor0', '*.npy')))\n",
    "                sensor1_files = sorted(glob(os.path.join(sess_path, 'sensor1', '*.npy')))\n",
    "                num_frames = min(len(sensor0_files), len(sensor1_files))\n",
    "\n",
    "                for i in range(num_frames - seq_len + 1):\n",
    "                    try:\n",
    "                        seq = []\n",
    "                        for j in range(seq_len):\n",
    "                            s0 = np.load(sensor0_files[i+j])\n",
    "                            s1 = np.load(sensor1_files[i+j])\n",
    "                            frame = np.stack((s0, s1), axis=-1)  # (32, 492, 2)\n",
    "                            seq.append(frame)\n",
    "                        seq = np.array(seq)  # (5, 32, 492, 2)\n",
    "                        h5f.create_dataset(f'sample_{idx}/X', data=seq, compression='gzip')\n",
    "                        h5f.create_dataset(f'sample_{idx}/label', data=np.string_(gesture))\n",
    "                        idx += 1\n",
    "                    except Exception as e:\n",
    "                        print(f\"Error loading sequence {i}: {e}\")\n",
    "\n",
    "    h5f.attrs['gesture_list'] = list(gesture_set)\n",
    "    h5f.close()\n",
    "    print(f\"Saved {idx} sequences to {output_path}\")\n",
    "\n",
    "# Example usage:\n",
    "convert_to_hdf5(\n",
    "    base_path=r'\\ML-on-Microcontrollers-Project-Ioana-Gidiuta\\Datasets\\11G-features\\RFDM_recomputed',\n",
    "    output_path=r'\\ML-on-Microcontrollers-Project-Ioana-Gidiuta\\Datasets\\11G-features\\rfdm_sequences.h5',\n",
    "    seq_len=5\n",
    ")"
   ]
  },
  {
   "cell_type": "code",
   "execution_count": null,
   "metadata": {},
   "outputs": [],
   "source": [
    "def recover_hdf5_data(broken_path, output_path):\n",
    "    recovered_count = 0\n",
    "\n",
    "    with h5py.File(broken_path, 'r') as src:\n",
    "        sample_keys = [k for k in src.keys() if k.startswith(\"sample_\")]\n",
    "        with h5py.File(output_path, 'w') as dst:\n",
    "            for key in tqdm(sample_keys, desc=\"Recovering samples\"):\n",
    "                try:\n",
    "                    # Read data from broken file\n",
    "                    X = src[f\"{key}/X\"][:]\n",
    "                    label = src[f\"{key}/label\"][()].decode('utf-8')\n",
    "\n",
    "                    # Save into new file\n",
    "                    dst.create_dataset(f\"{key}/X\", data=X, compression=\"gzip\")\n",
    "                    dst.create_dataset(f\"{key}/label\", data=np.string_(label))\n",
    "                    recovered_count += 1\n",
    "\n",
    "                except Exception as e:\n",
    "                    print(f\"Skipping {key}: {e}\")\n",
    "\n",
    "    print(f\"Recovered {recovered_count} samples into: {output_path}\")"
   ]
  },
  {
   "cell_type": "code",
   "execution_count": null,
   "metadata": {},
   "outputs": [],
   "source": [
    "recover_hdf5_data(\n",
    "    broken_path=r'\\ML-on-Microcontrollers-Project-Ioana-Gidiuta\\Datasets\\11G-features\\rfdm_sequences.h5',\n",
    "    output_path=r'\\ML-on-Microcontrollers-Project-Ioana-Gidiuta\\Datasets\\11G-features\\rfdm_sequences_v2.h5'\n",
    ")"
   ]
  },
  {
   "cell_type": "markdown",
   "metadata": {},
   "source": [
    "# Dataset Preparation"
   ]
  },
  {
   "cell_type": "code",
   "execution_count": 3,
   "metadata": {},
   "outputs": [],
   "source": [
    "def split_hdf5_indices(h5_path, random_state=42):\n",
    "    with h5py.File(h5_path, 'r') as h5f:\n",
    "        sample_keys = sorted([k for k in h5f.keys() if k.startswith('sample_')])\n",
    "        total_samples = len(sample_keys)\n",
    "\n",
    "        # Load labels\n",
    "        labels = []\n",
    "        for key in sample_keys:\n",
    "            label = h5f[f\"{key}/label\"][()].decode('utf-8')\n",
    "            labels.append(label)\n",
    "\n",
    "    # Create label map\n",
    "    unique_labels = sorted(set(labels))\n",
    "    label_map = {gesture: idx for idx, gesture in enumerate(unique_labels)}\n",
    "\n",
    "    indices = np.arange(total_samples)\n",
    "\n",
    "    # First split: train (70%) vs temp (30%)\n",
    "    train_idx, temp_idx, train_labels, temp_labels = train_test_split(\n",
    "        indices, [labels[i] for i in indices],\n",
    "        test_size=0.3,\n",
    "        stratify=[labels[i] for i in indices],\n",
    "        random_state=random_state\n",
    "    )\n",
    "\n",
    "    # Second split: val (20%) vs test (10%) from the temp 30%\n",
    "    val_idx, test_idx = train_test_split(\n",
    "        temp_idx,\n",
    "        test_size=1/3,  # 1/3 of 30% = 10%\n",
    "        stratify=[labels[i] for i in temp_idx],\n",
    "        random_state=random_state\n",
    "    )\n",
    "\n",
    "    return train_idx, val_idx, test_idx, label_map"
   ]
  },
  {
   "cell_type": "code",
   "execution_count": 4,
   "metadata": {},
   "outputs": [],
   "source": [
    "class HDF5SequenceGenerator(Sequence):\n",
    "    def __init__(self, h5_path, sample_keys, label_map, batch_size=128, shuffle=False):\n",
    "        \"\"\"\n",
    "        Args:\n",
    "            h5_path (str): Path to the HDF5 file.\n",
    "            sample_keys (list[str]): List of sample keys (e.g., ['sample_0', 'sample_1']) for the split.\n",
    "            label_map (dict): Map from gesture name to integer label.\n",
    "            batch_size (int): Batch size.\n",
    "            shuffle (bool): Whether to shuffle samples each epoch.\n",
    "        \"\"\"\n",
    "        self.h5_path = h5_path\n",
    "        self.sample_keys = sample_keys\n",
    "        self.label_map = label_map\n",
    "        self.batch_size = batch_size\n",
    "        self.shuffle = shuffle\n",
    "        self.on_epoch_end()\n",
    "\n",
    "    def __len__(self):\n",
    "        return int(np.ceil(len(self.sample_keys) / self.batch_size))\n",
    "\n",
    "    def __getitem__(self, index):\n",
    "        batch_keys = self.sample_keys[index * self.batch_size:(index + 1) * self.batch_size]\n",
    "        X_batch, y_batch = [], []\n",
    "\n",
    "        with h5py.File(self.h5_path, 'r') as h5f:\n",
    "            for key in batch_keys:\n",
    "                try:\n",
    "                    X = h5f[f\"{key}/X\"][:]  # Load the full frame sequence\n",
    "                    label = h5f[f\"{key}/label\"][()].decode('utf-8')\n",
    "                    X_batch.append(X)\n",
    "                    y_batch.append(self.label_map[label])\n",
    "                except KeyError:\n",
    "                    print(f\"⚠️ Skipping incomplete or corrupt sample: {key}\")\n",
    "                    gc.collect()  # only collect if needed\n",
    "\n",
    "        return np.array(X_batch), np.array(y_batch)\n",
    "\n",
    "    def on_epoch_end(self):\n",
    "        if self.shuffle:\n",
    "            np.random.shuffle(self.sample_keys)"
   ]
  },
  {
   "cell_type": "code",
   "execution_count": 5,
   "metadata": {},
   "outputs": [],
   "source": [
    "def get_valid_sample_keys(h5_path):\n",
    "    valid_keys = []\n",
    "    labels = []\n",
    "\n",
    "    with h5py.File(h5_path, 'r') as h5f:\n",
    "        for key in sorted(h5f.keys()):\n",
    "            if not key.startswith('sample_'):\n",
    "                continue\n",
    "            try:\n",
    "                _ = h5f[f\"{key}/X\"]\n",
    "                label = h5f[f\"{key}/label\"][()].decode('utf-8')\n",
    "                valid_keys.append(key)\n",
    "                labels.append(label)\n",
    "            except KeyError:\n",
    "                print(f\"⚠️ Skipping incomplete or corrupt sample: {key}\")\n",
    "        gc.collect()  \n",
    "    return valid_keys, labels"
   ]
  },
  {
   "cell_type": "code",
   "execution_count": null,
   "metadata": {},
   "outputs": [],
   "source": [
    "HDF5_PATH = r'\\ML-on-Microcontrollers-Project-Ioana-Gidiuta\\Datasets\\11G-features\\rfdm_sequences_v2.h5'\n",
    "valid_keys, labels = get_valid_sample_keys(HDF5_PATH)\n",
    "\n",
    "# Build label map\n",
    "unique_labels = sorted(set(labels))\n",
    "label_map = {g: i for i, g in enumerate(unique_labels)}\n",
    "\n",
    "# Stratified split\n",
    "indices = np.arange(len(valid_keys))\n",
    "\n",
    "train_idx, temp_idx, train_labels, temp_labels = train_test_split(\n",
    "    indices, [labels[i] for i in indices],\n",
    "    test_size=0.3,\n",
    "    stratify=[labels[i] for i in indices],\n",
    "    random_state=42\n",
    ")\n",
    "\n",
    "val_idx, test_idx = train_test_split(\n",
    "    temp_idx,\n",
    "    test_size=1/3,\n",
    "    stratify=[temp_labels[i] for i in range(len(temp_idx))],\n",
    "    random_state=42\n",
    ")\n",
    "\n",
    "# Convert to sample key lists\n",
    "train_keys = [valid_keys[i] for i in train_idx]\n",
    "val_keys   = [valid_keys[i] for i in val_idx]\n",
    "test_keys  = [valid_keys[i] for i in test_idx]"
   ]
  },
  {
   "cell_type": "code",
   "execution_count": 7,
   "metadata": {},
   "outputs": [],
   "source": [
    "train_gen = HDF5SequenceGenerator(HDF5_PATH, train_keys, label_map, batch_size=256, shuffle=True)\n",
    "val_gen   = HDF5SequenceGenerator(HDF5_PATH, val_keys, label_map, batch_size=256)\n",
    "test_gen  = HDF5SequenceGenerator(HDF5_PATH, test_keys, label_map, batch_size=256)"
   ]
  },
  {
   "cell_type": "code",
   "execution_count": 8,
   "metadata": {},
   "outputs": [
    {
     "name": "stdout",
     "output_type": "stream",
     "text": [
      "Training samples: 109922\n",
      "Validation samples: 31406\n",
      "Test samples: 15704\n"
     ]
    }
   ],
   "source": [
    "# see how many training samples we have - using just the first 13 people\n",
    "print(f\"Training samples: {len(train_idx)}\")\n",
    "print(f\"Validation samples: {len(val_idx)}\")\n",
    "print(f\"Test samples: {len(test_idx)}\")"
   ]
  },
  {
   "cell_type": "markdown",
   "metadata": {},
   "source": [
    "# Model"
   ]
  },
  {
   "cell_type": "markdown",
   "metadata": {},
   "source": [
    "| Component       | Paper                        | This Version                              | Why the Change?                              |\n",
    "| --------------- | ---------------------------- | ----------------------------------------- | -------------------------------------------- |\n",
    "| **Conv2D only** | Standard convs               | Added **BatchNorm** + **ReLU separately** | Better gradient flow and convergence         |\n",
    "| **TCN layers**  | Causal Conv1D with residuals | Uses **Dropout in residuals**             | Helps prevent overfitting                    |\n",
    "| **Conv1D type** | Standard 1D convs            | Uses **SeparableConv1D**                  | More efficient, edge-friendly                |\n",
    "| **Flatten**     | Yes                          | Same                                      | Paper uses this for dimensionality reduction |\n",
    "| **FC layers**   | 3-layer classifier           | Added **Dropout after FCs**               | Enhances generalization                      |\n",
    "| **Residuals**   | Add only                     | Dropout + Residual                        | More robust to overfitting                   |\n"
   ]
  },
  {
   "cell_type": "code",
   "execution_count": 9,
   "metadata": {},
   "outputs": [],
   "source": [
    "def build_cnn_encoder():\n",
    "    input_layer = tf.keras.Input(shape=(32, 492, 2))  # One frame\n",
    "\n",
    "    x = layers.Conv2D(16, (3, 5), padding='same')(input_layer)\n",
    "    x = layers.BatchNormalization()(x)\n",
    "    x = layers.ReLU()(x)\n",
    "    x = layers.MaxPooling2D(pool_size=(3, 5), padding='valid')(x)\n",
    "\n",
    "    x = layers.Conv2D(32, (3, 5), padding='same')(x)\n",
    "    x = layers.BatchNormalization()(x)\n",
    "    x = layers.ReLU()(x)\n",
    "    x = layers.MaxPooling2D(pool_size=(3, 5), padding='valid')(x)\n",
    "\n",
    "    x = layers.Conv2D(64, (1, 7), padding='same')(x)\n",
    "    x = layers.BatchNormalization()(x)\n",
    "    x = layers.ReLU()(x)\n",
    "    x = layers.MaxPooling2D(pool_size=(1, 7), padding='valid')(x)\n",
    "\n",
    "    x = layers.Flatten()(x)  # Output shape: (384,)\n",
    "    return models.Model(inputs=input_layer, outputs=x, name=\"Optimized_CNN_Encoder\")"
   ]
  },
  {
   "cell_type": "code",
   "execution_count": 10,
   "metadata": {},
   "outputs": [],
   "source": [
    "def build_full_cnn_tcn_model(seq_len=5, frame_shape=(32, 492, 2), num_classes=11):\n",
    "    input_layer = tf.keras.Input(shape=(seq_len, *frame_shape))  # (5, 32, 492, 2)\n",
    "\n",
    "    cnn_encoder = build_cnn_encoder()\n",
    "    x = layers.TimeDistributed(cnn_encoder)(input_layer)  # (5, 384)\n",
    "\n",
    "    # Compress channels with separable conv (more efficient)\n",
    "    x = layers.SeparableConv1D(32, 1, padding='causal', activation='relu')(x)\n",
    "    x_skip = x\n",
    "\n",
    "    # Dilated residual TCN blocks with dropout\n",
    "    for dilation_rate in [1, 2, 4]:\n",
    "        residual = layers.SeparableConv1D(\n",
    "            32, kernel_size=2, padding='causal', dilation_rate=dilation_rate,\n",
    "            activation='relu'\n",
    "        )(x)\n",
    "        residual = layers.Dropout(0.2)(residual)\n",
    "        x = layers.Add()([x, residual])\n",
    "        x_skip = x  # update skip for chained residual\n",
    "\n",
    "    # Fully connected layers with dropout\n",
    "    x = layers.Dense(64, activation='relu')(x)\n",
    "    x = layers.Dropout(0.3)(x)\n",
    "    x = layers.Dense(32, activation='relu')(x)\n",
    "\n",
    "    # Use last time step only\n",
    "    x = layers.Lambda(lambda t: t[:, -1, :])(x)\n",
    "\n",
    "    output = layers.Dense(num_classes, activation='softmax', dtype='float32')(x)\n",
    "\n",
    "    return models.Model(inputs=input_layer, outputs=output, name=\"CNN_TCN_Optimized\")\n"
   ]
  },
  {
   "cell_type": "markdown",
   "metadata": {},
   "source": [
    "# Training and testing"
   ]
  },
  {
   "cell_type": "code",
   "execution_count": 12,
   "metadata": {},
   "outputs": [],
   "source": [
    "class TQDMProgressCallback(tf.keras.callbacks.Callback):\n",
    "    def __init__(self, test_gen):\n",
    "        super().__init__()\n",
    "        self.test_gen = test_gen\n",
    "\n",
    "    def on_epoch_begin(self, epoch, logs=None):\n",
    "        self.epoch_pbar = tqdm(total=len(self.model.history.epoch) + 1, desc=f\"Epoch {epoch + 1}\", unit=\"epoch\")\n",
    "\n",
    "    def on_epoch_end(self, epoch, logs=None):\n",
    "        self.epoch_pbar.update(1)\n",
    "        self.epoch_pbar.close()\n",
    "        loss, acc = self.model.evaluate(self.test_gen, verbose=0)\n",
    "        print(f\"Epoch {epoch + 1}: Test Accuracy = {acc:.4f}\")\n",
    "\n",
    "test_callback = TQDMProgressCallback(test_gen)"
   ]
  },
  {
   "cell_type": "code",
   "execution_count": 13,
   "metadata": {},
   "outputs": [],
   "source": [
    "class BatchCheckpoint(tf.keras.callbacks.Callback):\n",
    "    def __init__(self, save_dir, label_map, every_n_batches=100):\n",
    "        super().__init__()\n",
    "        self.save_dir = save_dir\n",
    "        self.every_n_batches = every_n_batches\n",
    "        self.label_map = label_map\n",
    "        self.batch_count = 0\n",
    "        os.makedirs(save_dir, exist_ok=True)\n",
    "\n",
    "    def on_train_batch_end(self, batch, logs=None):\n",
    "        self.batch_count += 1\n",
    "        if self.batch_count % self.every_n_batches == 0:\n",
    "            acc = logs.get('accuracy', 0.0)\n",
    "            filename = f\"{self.save_dir}/epoch1/batch{self.batch_count:05d}_acc{acc:.4f}.h5\"\n",
    "            self.model.save(filename)\n",
    "            print(f\"\\n Saved checkpoint: {filename}\")"
   ]
  },
  {
   "cell_type": "code",
   "execution_count": 14,
   "metadata": {},
   "outputs": [
    {
     "name": "stdout",
     "output_type": "stream",
     "text": [
      "Model: \"CNN_TCN_Optimized\"\n",
      "__________________________________________________________________________________________________\n",
      " Layer (type)                   Output Shape         Param #     Connected to                     \n",
      "==================================================================================================\n",
      " input_1 (InputLayer)           [(None, 5, 32, 492,  0           []                               \n",
      "                                 2)]                                                              \n",
      "                                                                                                  \n",
      " time_distributed (TimeDistribu  (None, 5, 384)      23056       ['input_1[0][0]']                \n",
      " ted)                                                                                             \n",
      "                                                                                                  \n",
      " separable_conv1d (SeparableCon  (None, 5, 32)       12704       ['time_distributed[0][0]']       \n",
      " v1D)                                                                                             \n",
      "                                                                                                  \n",
      " separable_conv1d_1 (SeparableC  (None, 5, 32)       1120        ['separable_conv1d[0][0]']       \n",
      " onv1D)                                                                                           \n",
      "                                                                                                  \n",
      " dropout (Dropout)              (None, 5, 32)        0           ['separable_conv1d_1[0][0]']     \n",
      "                                                                                                  \n",
      " add (Add)                      (None, 5, 32)        0           ['separable_conv1d[0][0]',       \n",
      "                                                                  'dropout[0][0]']                \n",
      "                                                                                                  \n",
      " separable_conv1d_2 (SeparableC  (None, 5, 32)       1120        ['add[0][0]']                    \n",
      " onv1D)                                                                                           \n",
      "                                                                                                  \n",
      " dropout_1 (Dropout)            (None, 5, 32)        0           ['separable_conv1d_2[0][0]']     \n",
      "                                                                                                  \n",
      " add_1 (Add)                    (None, 5, 32)        0           ['add[0][0]',                    \n",
      "                                                                  'dropout_1[0][0]']              \n",
      "                                                                                                  \n",
      " separable_conv1d_3 (SeparableC  (None, 5, 32)       1120        ['add_1[0][0]']                  \n",
      " onv1D)                                                                                           \n",
      "                                                                                                  \n",
      " dropout_2 (Dropout)            (None, 5, 32)        0           ['separable_conv1d_3[0][0]']     \n",
      "                                                                                                  \n",
      " add_2 (Add)                    (None, 5, 32)        0           ['add_1[0][0]',                  \n",
      "                                                                  'dropout_2[0][0]']              \n",
      "                                                                                                  \n",
      " dense (Dense)                  (None, 5, 64)        2112        ['add_2[0][0]']                  \n",
      "                                                                                                  \n",
      " dropout_3 (Dropout)            (None, 5, 64)        0           ['dense[0][0]']                  \n",
      "                                                                                                  \n",
      " dense_1 (Dense)                (None, 5, 32)        2080        ['dropout_3[0][0]']              \n",
      "                                                                                                  \n",
      " lambda (Lambda)                (None, 32)           0           ['dense_1[0][0]']                \n",
      "                                                                                                  \n",
      " dense_2 (Dense)                (None, 14)           462         ['lambda[0][0]']                 \n",
      "                                                                                                  \n",
      "==================================================================================================\n",
      "Total params: 43,774\n",
      "Trainable params: 43,550\n",
      "Non-trainable params: 224\n",
      "__________________________________________________________________________________________________\n"
     ]
    }
   ],
   "source": [
    "# model = load_model(r'C:\\Users\\ioana\\Documents\\VS Projects\\ML-on-Microcontrollers-Project-Ioana-Gidiuta\\Code\\model_training\\Models\\tiny_radar_NN\\batch_checkpoints\\batch01600_acc0.8072.h5')\n",
    "model = build_full_cnn_tcn_model(seq_len=5, num_classes=len(label_map))\n",
    "model.compile(\n",
    "    optimizer='adam',\n",
    "    loss='sparse_categorical_crossentropy',\n",
    "    metrics=['accuracy']\n",
    ")\n",
    "model.summary()"
   ]
  },
  {
   "cell_type": "code",
   "execution_count": null,
   "metadata": {},
   "outputs": [],
   "source": [
    "# Add CSVLogger to save training metrics\n",
    "csv_logger = CSVLogger('Models/tiny_radar_NN/training_log.csv', append=True)\n",
    "\n",
    "# Build and compile model\n",
    "checkpoint_cb = ModelCheckpoint(\n",
    "    filepath='Models/tiny_radar_NN/best_model_epoch_{epoch:02d}_valacc{val_accuracy:.4f}.h5',\n",
    "    monitor='val_accuracy',\n",
    "    save_best_only=True,\n",
    "    save_weights_only=False,\n",
    "    verbose=1\n",
    ")\n",
    "\n",
    "batch_checkpoint_cb = BatchCheckpoint(\n",
    "    save_dir='Models/tiny_radar_NN/new_batch_checkpoints',\n",
    "    label_map=label_map,\n",
    "    every_n_batches=100  # saves every 100 batches (roughly 3x per epoch)\n",
    ")\n",
    "\n",
    "model.fit(\n",
    "    train_gen,\n",
    "    validation_data=val_gen,\n",
    "    epochs=30,\n",
    "    callbacks=[\n",
    "        test_callback,\n",
    "        checkpoint_cb,\n",
    "        batch_checkpoint_cb,\n",
    "        csv_logger  # Add this to log metrics\n",
    "    ],\n",
    "    workers=0, \n",
    "    use_multiprocessing=False,  # Enable multiprocessing\n",
    "    max_queue_size=20  # Increase queue size to prevent bottlenecks\n",
    ")"
   ]
  },
  {
   "cell_type": "code",
   "execution_count": 17,
   "metadata": {},
   "outputs": [
    {
     "name": "stdout",
     "output_type": "stream",
     "text": [
      "62/62 [==============================] - 73s 1s/step - loss: 0.1813 - accuracy: 0.9433\n",
      "\n",
      " Final Test Accuracy: 0.9433\n"
     ]
    }
   ],
   "source": [
    "test_loss, test_acc = model.evaluate(test_gen)\n",
    "print(f\"\\n Final Test Accuracy: {test_acc:.4f}\")"
   ]
  },
  {
   "cell_type": "code",
   "execution_count": null,
   "metadata": {},
   "outputs": [],
   "source": [
    "y_true = []\n",
    "y_pred = []\n",
    "\n",
    "for X_batch, y_batch in test_gen:\n",
    "    X_corrected = X_batch.reshape(-1,5,32,492,2)\n",
    "    preds = model.predict(X_corrected, verbose=0)\n",
    "    y_true.extend(y_batch)\n",
    "    y_pred.extend(np.argmax(preds, axis=1))\n",
    "\n",
    "y_true = np.array(y_true)\n",
    "y_pred = np.array(y_pred)"
   ]
  },
  {
   "cell_type": "code",
   "execution_count": 30,
   "metadata": {},
   "outputs": [
    {
     "data": {
      "image/png": "[encoded data removed]",
      "text/plain": [
       "<Figure size 1000x800 with 2 Axes>"
      ]
     },
     "metadata": {},
     "output_type": "display_data"
    }
   ],
   "source": [
    "valid_mask = y_true != 0\n",
    "y_true_clean = y_true[valid_mask]\n",
    "y_pred_clean = y_pred[valid_mask]\n",
    "\n",
    "gesture_names = [name for name, idx in sorted(label_map.items(), key=lambda x: x[1]) if idx != 0]\n",
    "cm = confusion_matrix(y_true_clean, y_pred_clean)\n",
    "cm_percent = cm.astype('float') / cm.sum(axis=1, keepdims=True) * 100\n",
    "\n",
    "plt.figure(figsize=(10, 8))\n",
    "sns.heatmap(cm_percent, annot=True, fmt=\".1f\", cmap=\"Blues\",\n",
    "            xticklabels=gesture_names, yticklabels=gesture_names)\n",
    "plt.xlabel(\"Predicted Label\")\n",
    "plt.ylabel(\"True Label\")\n",
    "plt.title(\"Confusion Matrix (%)\")\n",
    "plt.tight_layout()\n",
    "plt.show()\n"
   ]
  },
  {
   "cell_type": "code",
   "execution_count": 31,
   "metadata": {},
   "outputs": [
    {
     "name": "stdout",
     "output_type": "stream",
     "text": [
      "\n",
      "Classification Report (Excluding invalid class):\n",
      "               precision    recall  f1-score   support\n",
      "\n",
      "       Circle     0.8848    0.9362    0.9098      1427\n",
      "  FastSwipeRL     0.9421    0.8655    0.9022       357\n",
      "    FingerRub     1.0000    0.8363    0.9108      1142\n",
      " FingerSlider     0.9282    0.9827    0.9547      1329\n",
      "       NoHand     0.9897    1.0000    0.9948      2893\n",
      "     PalmHold     1.0000    0.9753    0.9875      1091\n",
      "     PalmTilt     0.9927    0.9504    0.9711      1150\n",
      "   PinchIndex     0.9282    0.8071    0.8634       705\n",
      "   PinchPinky     0.8374    0.8126    0.8248       811\n",
      "         Pull     0.9961    0.9736    0.9848      1062\n",
      "         Push     0.9478    0.9874    0.9672      1029\n",
      "RandomGesture     0.8682    0.8933    0.8806      1003\n",
      "  SlowSwipeRL     0.9010    0.9906    0.9437      1699\n",
      "\n",
      "     accuracy                         0.9436     15698\n",
      "    macro avg     0.9397    0.9239    0.9304     15698\n",
      " weighted avg     0.9453    0.9436    0.9432     15698\n",
      "\n"
     ]
    }
   ],
   "source": [
    "print(\"\\nClassification Report (Excluding invalid class):\")\n",
    "print(classification_report(y_true_clean, y_pred_clean, target_names=gesture_names, digits=4))\n"
   ]
  },
  {
   "cell_type": "code",
   "execution_count": 32,
   "metadata": {},
   "outputs": [
    {
     "name": "stdout",
     "output_type": "stream",
     "text": [
      "Model: \"CNN_TCN_Optimized\"\n",
      "__________________________________________________________________________________________________\n",
      " Layer (type)                   Output Shape         Param #     Connected to                     \n",
      "==================================================================================================\n",
      " input_3 (InputLayer)           [(None, 5, 32, 492,  0           []                               \n",
      "                                 2)]                                                              \n",
      "                                                                                                  \n",
      " time_distributed_1 (TimeDistri  (None, 5, 384)      23056       ['input_3[0][0]']                \n",
      " buted)                                                                                           \n",
      "                                                                                                  \n",
      " separable_conv1d_4 (SeparableC  (None, 5, 32)       12704       ['time_distributed_1[0][0]']     \n",
      " onv1D)                                                                                           \n",
      "                                                                                                  \n",
      " separable_conv1d_5 (SeparableC  (None, 5, 32)       1120        ['separable_conv1d_4[0][0]']     \n",
      " onv1D)                                                                                           \n",
      "                                                                                                  \n",
      " dropout_4 (Dropout)            (None, 5, 32)        0           ['separable_conv1d_5[0][0]']     \n",
      "                                                                                                  \n",
      " add_3 (Add)                    (None, 5, 32)        0           ['separable_conv1d_4[0][0]',     \n",
      "                                                                  'dropout_4[0][0]']              \n",
      "                                                                                                  \n",
      " separable_conv1d_6 (SeparableC  (None, 5, 32)       1120        ['add_3[0][0]']                  \n",
      " onv1D)                                                                                           \n",
      "                                                                                                  \n",
      " dropout_5 (Dropout)            (None, 5, 32)        0           ['separable_conv1d_6[0][0]']     \n",
      "                                                                                                  \n",
      " add_4 (Add)                    (None, 5, 32)        0           ['add_3[0][0]',                  \n",
      "                                                                  'dropout_5[0][0]']              \n",
      "                                                                                                  \n",
      " separable_conv1d_7 (SeparableC  (None, 5, 32)       1120        ['add_4[0][0]']                  \n",
      " onv1D)                                                                                           \n",
      "                                                                                                  \n",
      " dropout_6 (Dropout)            (None, 5, 32)        0           ['separable_conv1d_7[0][0]']     \n",
      "                                                                                                  \n",
      " add_5 (Add)                    (None, 5, 32)        0           ['add_4[0][0]',                  \n",
      "                                                                  'dropout_6[0][0]']              \n",
      "                                                                                                  \n",
      " dense_3 (Dense)                (None, 5, 64)        2112        ['add_5[0][0]']                  \n",
      "                                                                                                  \n",
      " dropout_7 (Dropout)            (None, 5, 64)        0           ['dense_3[0][0]']                \n",
      "                                                                                                  \n",
      " dense_4 (Dense)                (None, 5, 32)        2080        ['dropout_7[0][0]']              \n",
      "                                                                                                  \n",
      " lambda_1 (Lambda)              (None, 32)           0           ['dense_4[0][0]']                \n",
      "                                                                                                  \n",
      " dense_5 (Dense)                (None, 14)           462         ['lambda_1[0][0]']               \n",
      "                                                                                                  \n",
      "==================================================================================================\n",
      "Total params: 43,774\n",
      "Trainable params: 43,550\n",
      "Non-trainable params: 224\n",
      "__________________________________________________________________________________________________\n"
     ]
    }
   ],
   "source": [
    "model.summary()"
   ]
  },
  {
   "cell_type": "code",
   "execution_count": null,
   "metadata": {},
   "outputs": [
    {
     "name": "stdout",
     "output_type": "stream",
     "text": [
      "Model size: 0.64 MB\n"
     ]
    }
   ],
   "source": [
    "model_path = r'\\Code\\model_training\\Models\\tiny_radar_NN\\best_model_epoch_09_valacc0.9544.h5'\n",
    "size_mb = os.path.getsize(model_path) / (1024 * 1024)\n",
    "print(f\"Model size: {size_mb:.2f} MB\")"
   ]
  },
  {
   "cell_type": "markdown",
   "metadata": {},
   "source": [
    "# Transforming to Tflite"
   ]
  },
  {
   "cell_type": "code",
   "execution_count": null,
   "metadata": {},
   "outputs": [],
   "source": [
    "model_path = r'\\Code\\model_training\\Models\\tiny_radar_NN\\best_model_epoch_09_valacc0.9544.h5'"
   ]
  },
  {
   "cell_type": "code",
   "execution_count": null,
   "metadata": {},
   "outputs": [
    {
     "name": "stderr",
     "output_type": "stream",
     "text": [
      "WARNING:absl:Found untraced functions such as _jit_compiled_convolution_op, _jit_compiled_convolution_op, _jit_compiled_convolution_op, _jit_compiled_convolution_op, _jit_compiled_convolution_op while saving (showing 5 of 7). These functions will not be directly callable after loading.\n"
     ]
    },
    {
     "name": "stdout",
     "output_type": "stream",
     "text": [
      "INFO:tensorflow:Assets written to: C:\\Users\\ioana\\AppData\\Local\\Temp\\tmpuar79kta\\assets\n"
     ]
    },
    {
     "name": "stderr",
     "output_type": "stream",
     "text": [
      "INFO:tensorflow:Assets written to: C:\\Users\\ioana\\AppData\\Local\\Temp\\tmpuar79kta\\assets\n"
     ]
    }
   ],
   "source": [
    "model = tf.keras.models.load_model(model_path)\n",
    "converter = tf.lite.TFLiteConverter.from_keras_model(model)\n",
    "converter.target_spec.supported_ops = [\n",
    "    tf.lite.OpsSet.TFLITE_BUILTINS,     # enable standard ops\n",
    "    tf.lite.OpsSet.SELECT_TF_OPS        # enable TensorFlow fallback ops\n",
    "]\n",
    "converter.optimizations = [tf.lite.Optimize.DEFAULT]\n",
    "converter.target_spec.supported_types = [tf.float32]\n",
    "\n",
    "tflite_model = converter.convert()\n",
    "with open(\"tinyNN_float32.tflite\", \"wb\") as f:\n",
    "    f.write(tflite_model)"
   ]
  },
  {
   "cell_type": "markdown",
   "metadata": {},
   "source": [
    "# Quantization Float 16"
   ]
  },
  {
   "cell_type": "code",
   "execution_count": 10,
   "metadata": {},
   "outputs": [],
   "source": [
    "def build_full_cnn_tcn_model_mod(seq_len=5, frame_shape=(32, 492, 2), num_classes=11):\n",
    "    input_layer = tf.keras.Input(shape=(seq_len, *frame_shape))  # (5, 32, 492, 2)\n",
    "\n",
    "    cnn_encoder = build_cnn_encoder()\n",
    "    x = layers.TimeDistributed(cnn_encoder)(input_layer)  # (5, 384)\n",
    "\n",
    "    # Compress channels with separable conv (more efficient)\n",
    "    x = layers.SeparableConv1D(32, 1, padding='same', activation='relu')(x)\n",
    "    x_skip = x\n",
    "\n",
    "    # Dilated residual TCN blocks with dropout\n",
    "    for dilation_rate in [1, 2, 4]:\n",
    "        residual = layers.SeparableConv1D(\n",
    "            32, kernel_size=2, padding='same', dilation_rate=dilation_rate,\n",
    "            activation='relu'\n",
    "        )(x)\n",
    "        residual = layers.Dropout(0.2)(residual)\n",
    "        x = layers.Add()([x, residual])\n",
    "        x_skip = x  # update skip for chained residual\n",
    "\n",
    "    # Fully connected layers with dropout\n",
    "    x = layers.Dense(64, activation='relu')(x)\n",
    "    x = layers.Dropout(0.3)(x)\n",
    "    x = layers.Dense(32, activation='relu')(x)\n",
    "\n",
    "    # Use last time step only\n",
    "    x = layers.GlobalAveragePooling1D()(x)\n",
    "\n",
    "    output = layers.Dense(num_classes, activation='softmax', dtype='float32')(x)\n",
    "\n",
    "    return models.Model(inputs=input_layer, outputs=output, name=\"CNN_TCN_Optimized\")\n"
   ]
  },
  {
   "cell_type": "code",
   "execution_count": null,
   "metadata": {},
   "outputs": [],
   "source": [
    "model_path = r'\\Code\\model_training\\Models\\tiny_radar_NN\\best_model_epoch_09_valacc0.9544.h5'\n",
    "model = tf.keras.models.load_model(model_path)"
   ]
  },
  {
   "cell_type": "code",
   "execution_count": 11,
   "metadata": {},
   "outputs": [
    {
     "name": "stderr",
     "output_type": "stream",
     "text": [
      "WARNING:absl:Found untraced functions such as _jit_compiled_convolution_op, _jit_compiled_convolution_op, _jit_compiled_convolution_op, _jit_compiled_convolution_op, _jit_compiled_convolution_op while saving (showing 5 of 7). These functions will not be directly callable after loading.\n"
     ]
    },
    {
     "name": "stdout",
     "output_type": "stream",
     "text": [
      "INFO:tensorflow:Assets written to: C:\\Users\\ioana\\AppData\\Local\\Temp\\tmpfdwiahhp\\assets\n"
     ]
    },
    {
     "name": "stderr",
     "output_type": "stream",
     "text": [
      "INFO:tensorflow:Assets written to: C:\\Users\\ioana\\AppData\\Local\\Temp\\tmpfdwiahhp\\assets\n"
     ]
    }
   ],
   "source": [
    "converter = tf.lite.TFLiteConverter.from_keras_model(model)\n",
    "converter.target_spec.supported_ops = [\n",
    "    tf.lite.OpsSet.TFLITE_BUILTINS,     # enable standard ops\n",
    "    tf.lite.OpsSet.SELECT_TF_OPS        # enable TensorFlow fallback ops\n",
    "]\n",
    "converter.optimizations = [tf.lite.Optimize.DEFAULT]\n",
    "converter.target_spec.supported_types = [tf.float16]\n",
    "\n",
    "tflite_model = converter.convert()\n",
    "with open(\"model_fp16_flex.tflite\", \"wb\") as f:\n",
    "    f.write(tflite_model)"
   ]
  },
  {
   "cell_type": "code",
   "execution_count": 24,
   "metadata": {},
   "outputs": [
    {
     "name": "stdout",
     "output_type": "stream",
     "text": [
      "TFLite model manual accuracy: 0.9593\n"
     ]
    }
   ],
   "source": [
    "def predict_with_correction_tflite(interpreter, generator):\n",
    "    y_true, y_pred = [], []\n",
    "\n",
    "    input_details = interpreter.get_input_details()\n",
    "    output_details = interpreter.get_output_details()\n",
    "    input_dtype = input_details[0]['dtype']\n",
    "    input_index = input_details[0]['index']\n",
    "    output_index = output_details[0]['index']\n",
    "\n",
    "    for X_batch, y_batch in generator:\n",
    "        X_corrected = X_batch.reshape(-1, 5, 32, 492, 2).astype(input_dtype)\n",
    "\n",
    "        for i in range(X_corrected.shape[0]):\n",
    "            sample = X_corrected[i:i+1]  # Single sample, still 5D\n",
    "            interpreter.set_tensor(input_index, sample)\n",
    "            interpreter.invoke()\n",
    "            output = interpreter.get_tensor(output_index)\n",
    "            y_pred.append(np.argmax(output))\n",
    "            y_true.append(y_batch[i])\n",
    "        \n",
    "        gc.collect()  # Clean up batch memory\n",
    "\n",
    "    return np.array(y_true), np.array(y_pred)\n",
    "\n",
    "interpreter = tf.lite.Interpreter(model_path=\"model_fp16_flex.tflite\")\n",
    "interpreter.allocate_tensors()\n",
    "\n",
    "y_true, y_pred = predict_with_correction_tflite(interpreter, test_gen)\n",
    "manual_acc = np.mean(y_true == y_pred)\n",
    "print(f\"TFLite model manual accuracy: {manual_acc:.4f}\")"
   ]
  },
  {
   "cell_type": "code",
   "execution_count": 25,
   "metadata": {},
   "outputs": [
    {
     "data": {
      "image/png": "[encoded data removed]",
      "text/plain": [
       "<Figure size 1000x800 with 2 Axes>"
      ]
     },
     "metadata": {},
     "output_type": "display_data"
    },
    {
     "name": "stdout",
     "output_type": "stream",
     "text": [
      "\n",
      "Classification Report (Excluding invalid class):\n",
      "               precision    recall  f1-score   support\n",
      "\n",
      "       Circle     0.9245    0.9608    0.9423      1427\n",
      "  FastSwipeRL     0.9515    0.8796    0.9141       357\n",
      "    FingerRub     1.0000    0.9755    0.9876      1142\n",
      " FingerSlider     0.9864    0.9812    0.9838      1329\n",
      "       NoHand     0.9986    1.0000    0.9993      2893\n",
      "     PalmHold     0.9927    0.9963    0.9945      1091\n",
      "     PalmTilt     0.9852    0.9835    0.9843      1150\n",
      "   PinchIndex     0.7412    0.9546    0.8345       705\n",
      "   PinchPinky     0.9448    0.7386    0.8291       811\n",
      "         Pull     0.9835    0.9557    0.9694      1062\n",
      "         Push     0.9451    0.9874    0.9658      1029\n",
      "RandomGesture     0.9457    0.8504    0.8955      1003\n",
      "  SlowSwipeRL     0.9642    0.9976    0.9806      1699\n",
      "\n",
      "     accuracy                         0.9597     15698\n",
      "    macro avg     0.9510    0.9432    0.9447     15698\n",
      " weighted avg     0.9625    0.9597    0.9595     15698\n",
      "\n"
     ]
    }
   ],
   "source": [
    "valid_mask = y_true != 0\n",
    "y_true_clean = y_true[valid_mask]\n",
    "y_pred_clean = y_pred[valid_mask]\n",
    "\n",
    "# Get gesture names (excluding label 0)\n",
    "gesture_names = [name for name, idx in sorted(label_map.items(), key=lambda x: x[1]) if idx != 0]\n",
    "\n",
    "# Compute normalized confusion matrix\n",
    "cm = confusion_matrix(y_true_clean, y_pred_clean)\n",
    "cm_percent = cm.astype('float') / cm.sum(axis=1, keepdims=True) * 100\n",
    "\n",
    "# Plot\n",
    "plt.figure(figsize=(10, 8))\n",
    "sns.heatmap(cm_percent, annot=True, fmt=\".1f\", cmap=\"Blues\",\n",
    "            xticklabels=gesture_names, yticklabels=gesture_names)\n",
    "plt.xlabel(\"Predicted Label\")\n",
    "plt.ylabel(\"True Label\")\n",
    "plt.title(\"TFLite Model Confusion Matrix (%)\")\n",
    "plt.tight_layout()\n",
    "plt.show()\n",
    "\n",
    "# Optional: Classification report\n",
    "print(\"\\nClassification Report (Excluding invalid class):\")\n",
    "print(classification_report(y_true_clean, y_pred_clean, target_names=gesture_names, digits=4))"
   ]
  },
  {
   "cell_type": "code",
   "execution_count": 27,
   "metadata": {},
   "outputs": [
    {
     "name": "stdout",
     "output_type": "stream",
     "text": [
      "TFLite model size: 0.12 MB\n"
     ]
    }
   ],
   "source": [
    "# check model size\n",
    "model_size_mb = os.path.getsize(\"model_fp16_flex.tflite\") / (1024 * 1024)\n",
    "print(f\"TFLite model size: {model_size_mb:.2f} MB\")"
   ]
  },
  {
   "cell_type": "markdown",
   "metadata": {},
   "source": [
    "# Quantize Int8"
   ]
  },
  {
   "cell_type": "code",
   "execution_count": null,
   "metadata": {},
   "outputs": [
    {
     "name": "stdout",
     "output_type": "stream",
     "text": [
      "INFO:tensorflow:Mixed precision compatibility check (mixed_float16): OK\n",
      "Your GPU will likely run quickly with dtype policy mixed_float16 as it has compute capability of at least 7.0. Your GPU: NVIDIA GeForce RTX 4060 Laptop GPU, compute capability 8.9\n"
     ]
    }
   ],
   "source": [
    "model_path = r'\\Code\\model_training\\Models\\tiny_radar_NN\\best_model_epoch_09_valacc0.9544.h5'\n",
    "model = tf.keras.models.load_model(model_path)"
   ]
  },
  {
   "cell_type": "code",
   "execution_count": 20,
   "metadata": {},
   "outputs": [],
   "source": [
    "def convert_model_to_fp32(model_path):\n",
    "    # Load model with explicit float32 policy\n",
    "    policy = tf.keras.mixed_precision.Policy('float32')\n",
    "    tf.keras.mixed_precision.set_global_policy(policy)\n",
    "    \n",
    "    # Load model with new policy\n",
    "    model = tf.keras.models.load_model(model_path)\n",
    "    return model\n",
    "\n",
    "model = convert_model_to_fp32(model_path)"
   ]
  },
  {
   "cell_type": "code",
   "execution_count": 12,
   "metadata": {},
   "outputs": [
    {
     "name": "stderr",
     "output_type": "stream",
     "text": [
      "WARNING:absl:Found untraced functions such as _jit_compiled_convolution_op, _jit_compiled_convolution_op, _jit_compiled_convolution_op, _jit_compiled_convolution_op, _jit_compiled_convolution_op while saving (showing 5 of 7). These functions will not be directly callable after loading.\n"
     ]
    },
    {
     "name": "stdout",
     "output_type": "stream",
     "text": [
      "INFO:tensorflow:Assets written to: C:\\Users\\ioana\\AppData\\Local\\Temp\\tmp02umjfmz\\assets\n"
     ]
    },
    {
     "name": "stderr",
     "output_type": "stream",
     "text": [
      "INFO:tensorflow:Assets written to: C:\\Users\\ioana\\AppData\\Local\\Temp\\tmp02umjfmz\\assets\n",
      "c:\\Users\\ioana\\anaconda3\\envs\\tiny_radar\\lib\\site-packages\\tensorflow\\lite\\python\\convert.py:766: UserWarning: Statistics for quantized inputs were expected, but not specified; continuing anyway.\n",
      "  warnings.warn(\"Statistics for quantized inputs were expected, but not \"\n"
     ]
    },
    {
     "name": "stdout",
     "output_type": "stream",
     "text": [
      "Model successfully quantized to INT8 with TF ops fallback\n",
      "Model size: 88.78 KB\n"
     ]
    }
   ],
   "source": [
    "def representative_data_gen():\n",
    "    for X_batch, _ in test_gen:\n",
    "        X_corrected = X_batch.reshape(-1, 5, 32, 492, 2).astype(np.float32)\n",
    "        for i in range(min(100, X_corrected.shape[0])):\n",
    "            yield [X_corrected[i:i+1]]\n",
    "        break\n",
    "\n",
    "converter = tf.lite.TFLiteConverter.from_keras_model(model)\n",
    "converter.optimizations = [tf.lite.Optimize.DEFAULT]\n",
    "converter.representative_dataset = representative_data_gen\n",
    "\n",
    "# Fallback to float ops for unsupported layers\n",
    "converter.target_spec.supported_ops = [\n",
    "    tf.lite.OpsSet.TFLITE_BUILTINS_INT8,\n",
    "    #tf.lite.OpsSet.TFLITE_BUILTINS,\n",
    "    tf.lite.OpsSet.SELECT_TF_OPS\n",
    "]\n",
    "\n",
    "# Keep input/output as float32 for safety\n",
    "converter.inference_input_type = tf.float32\n",
    "converter.inference_output_type = tf.float32\n",
    "\n",
    "# Convert\n",
    "try:\n",
    "    tflite_model = converter.convert()\n",
    "    with open(\"quantized_model_int8_corrected.tflite\", \"wb\") as f:\n",
    "        f.write(tflite_model)\n",
    "    print(\"Model successfully quantized to INT8 with TF ops fallback\")\n",
    "    \n",
    "    # Verify model size\n",
    "    import os\n",
    "    print(f\"Model size: {os.path.getsize('quantized_model_int8_corrected.tflite')/1024:.2f} KB\")\n",
    "    \n",
    "except Exception as e:\n",
    "    print(f\"Conversion failed: {str(e)}\")"
   ]
  },
  {
   "cell_type": "code",
   "execution_count": 13,
   "metadata": {},
   "outputs": [
    {
     "name": "stdout",
     "output_type": "stream",
     "text": [
      "Delegates used: []\n"
     ]
    }
   ],
   "source": [
    "interpreter = tf.lite.Interpreter(model_path=\"quantized_model_int8_corrected.tflite\")\n",
    "interpreter.allocate_tensors()\n",
    "# Get input details\n",
    "input_details = interpreter.get_input_details()\n",
    "output_details = interpreter.get_output_details()\n",
    "\n",
    "delegates = interpreter._delegates if hasattr(interpreter, '_delegates') else []\n",
    "print(\"Delegates used:\", delegates)"
   ]
  },
  {
   "cell_type": "code",
   "execution_count": 14,
   "metadata": {},
   "outputs": [
    {
     "name": "stdout",
     "output_type": "stream",
     "text": [
      "Input details: [{'name': 'serving_default_input_3:0', 'index': 0, 'shape': array([  1,   5,  32, 492,   2]), 'shape_signature': array([ -1,   5,  32, 492,   2]), 'dtype': <class 'numpy.float32'>, 'quantization': (0.0, 0), 'quantization_parameters': {'scales': array([], dtype=float32), 'zero_points': array([], dtype=int32), 'quantized_dimension': 0}, 'sparsity_parameters': {}}]\n",
      "Output details: [{'name': 'StatefulPartitionedCall:0', 'index': 178, 'shape': array([ 1, 14]), 'shape_signature': array([-1, 14]), 'dtype': <class 'numpy.float32'>, 'quantization': (0.0, 0), 'quantization_parameters': {'scales': array([], dtype=float32), 'zero_points': array([], dtype=int32), 'quantized_dimension': 0}, 'sparsity_parameters': {}}]\n"
     ]
    }
   ],
   "source": [
    "print(\"Input details:\", input_details)\n",
    "print(\"Output details:\", output_details)"
   ]
  },
  {
   "cell_type": "code",
   "execution_count": null,
   "metadata": {},
   "outputs": [],
   "source": [
    "# Load model WITHOUT any delegates (no GPU, no XNNPACK)\n",
    "interpreter = tf.lite.Interpreter(\n",
    "    model_path=\"quantized_model_int8_corrected.tflite\",\n",
    "    experimental_delegates=[]\n",
    ")\n",
    "interpreter.allocate_tensors()\n",
    "\n",
    "input_details = interpreter.get_input_details()\n",
    "output_details = interpreter.get_output_details()\n",
    "\n",
    "output_scale, output_zero_point = output_details[0]['quantization']\n",
    "\n",
    "# Prepare sample input\n",
    "sample_input, _ = next(iter(test_gen))\n",
    "sample_input = sample_input.reshape(-1, 5, 32, 492, 2).astype(np.float32)\n",
    "\n",
    "# Run inference\n",
    "interpreter.set_tensor(input_details[0]['index'], sample_input[:1])\n",
    "interpreter.invoke()\n",
    "\n",
    "# Output\n",
    "quant_output = interpreter.get_tensor(output_details[0]['index'])\n",
    "dequant_output = (quant_output.astype(np.float32) - output_zero_point) * output_scale\n",
    "\n",
    "# Original model\n",
    "float_output = model.predict(sample_input[:1])\n",
    "\n",
    "print(\"Original model output:\", float_output.argmax())\n",
    "print(\"Quantized model output:\", dequant_output.argmax())\n",
    "print(\"Output similarity:\", np.allclose(float_output, dequant_output, atol=0.1))\n"
   ]
  }
 ],
 "metadata": {
  "kernelspec": {
   "display_name": "tiny_radar",
   "language": "python",
   "name": "python3"
  },
  "language_info": {
   "codemirror_mode": {
    "name": "ipython",
    "version": 3
   },
   "file_extension": ".py",
   "mimetype": "text/x-python",
   "name": "python",
   "nbconvert_exporter": "python",
   "pygments_lexer": "ipython3",
   "version": "3.10.18"
  }
 },
 "nbformat": 4,
 "nbformat_minor": 2
}
