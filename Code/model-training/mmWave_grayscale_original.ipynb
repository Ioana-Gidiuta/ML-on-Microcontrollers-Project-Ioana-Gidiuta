{
 "cells": [
  {
   "cell_type": "markdown",
   "id": "3a45e2eb",
   "metadata": {},
   "source": [
    "# Imports"
   ]
  },
  {
   "cell_type": "code",
   "execution_count": 1,
   "id": "8b25a5e3",
   "metadata": {},
   "outputs": [
    {
     "name": "stdout",
     "output_type": "stream",
     "text": [
      "WARNING:tensorflow:From c:\\Users\\ioana\\anaconda3\\envs\\tiny_radar\\lib\\site-packages\\keras\\src\\losses.py:2976: The name tf.losses.sparse_softmax_cross_entropy is deprecated. Please use tf.compat.v1.losses.sparse_softmax_cross_entropy instead.\n",
      "\n"
     ]
    }
   ],
   "source": [
    "import os\n",
    "os.environ['TF_XLA_FLAGS'] = '--tf_xla_auto_jit=0'\n",
    "import tensorflow as tf\n",
    "from tensorflow.keras import layers, models\n",
    "from PIL import ImageFont\n",
    "from tensorflow.keras.preprocessing.image import load_img, img_to_array\n",
    "from tensorflow.keras.callbacks import Callback, ModelCheckpoint\n",
    "from sklearn.metrics import confusion_matrix, classification_report\n",
    "from tensorflow.keras.callbacks import ModelCheckpoint\n",
    "from sklearn.model_selection import train_test_split\n",
    "from tensorflow.keras.utils import Sequence\n",
    "from sklearn.utils import shuffle\n",
    "from tqdm import tqdm\n",
    "from glob import glob\n",
    "import numpy as np\n",
    "import seaborn as sns\n",
    "import matplotlib.pyplot as plt\n",
    "import visualkeras\n",
    "from tensorflow.keras import layers\n",
    "import pandas as pd\n",
    "import tensorflow_model_optimization as tfmot\n",
    "from tqdm.keras import TqdmCallback"
   ]
  },
  {
   "cell_type": "markdown",
   "id": "155a4af3",
   "metadata": {},
   "source": [
    "# Data Preparation"
   ]
  },
  {
   "cell_type": "code",
   "execution_count": null,
   "id": "56e2ec22",
   "metadata": {},
   "outputs": [],
   "source": [
    "# Constants\n",
    "RTM_PATH = r'\\\\ML-on-Microcontrollers-Project-Ioana-Gidiuta\\\\Datasets\\\\11G-features\\\\RTM_images'\n",
    "DTM_PATH = r'\\\\ML-on-Microcontrollers-Project-Ioana-Gidiuta\\\\Datasets\\\\11G-features\\\\DTM_images'\n",
    "ATM_PATH = r'\\\\ML-on-Microcontrollers-Project-Ioana-Gidiuta\\\\Datasets\\\\11G-features\\\\ATM_images'\n",
    "\n",
    "IMG_SIZE = (32, 32)\n",
    "SEQ_LEN = 5"
   ]
  },
  {
   "cell_type": "code",
   "execution_count": null,
   "id": "20d0bb26",
   "metadata": {},
   "outputs": [],
   "source": [
    "# Datasets/\n",
    "# └── 11G-features/\n",
    "#     ├── ATM_images/\n",
    "#     ├── Center_of_Mass/\n",
    "#     ├── DTM_images/\n",
    "#     ├── Filtered_Raw_Signals/\n",
    "#     ├── RFDM_recomputed/\n",
    "#     │   ├── p0_1/\n",
    "#     │   │   ├── Circle/\n",
    "#     │   │   │   ├── sess_0/\n",
    "#     │   │   │   │   ├── sensor0/\n",
    "#     │   │   │   │   │   ├── 0.npy\n",
    "#     │   │   │   │   │   ├── 1.npy\n",
    "#     │   │   │   │   │   └── ...\n",
    "#     │   │   │   │   ├── sensor1/\n",
    "#     │   │   │   │   │   ├── 0.npy\n",
    "#     │   │   │   │   │   ├── 1.npy\n",
    "#     │   │   │   │   │   └── ...\n",
    "#     │   │   │   ├── sess_1/\n",
    "#     │   │   │   ├── sess_2/\n",
    "#     │   │   │   ├── sess_3/\n",
    "#     │   │   │   └── sess_4/\n",
    "#     │   │   ├── FastSwipeRL/\n",
    "#     │   │   ├── FingerRub/\n",
    "#     │   │   ├── FingerSlider/\n",
    "#     │   │   ├── NoHand/\n",
    "#     │   │   ├── PalmHold/\n",
    "#     │   │   ├── PalmTilt/\n",
    "#     │   │   ├── PinchIndex/\n",
    "#     │   │   ├── PinchPinkky/\n",
    "#     │   │   ├── Pull/\n",
    "#     │   │   ├── Push/\n",
    "#     │   │   ├── RandomGesture/\n",
    "#     │   │   └── SlowSwipeRL/\n",
    "#     │   ├── p0_2/\n",
    "#     │   ├── p0_3/\n",
    "#     │   ├── ...\n",
    "#     │   ├── p0_20/\n",
    "#     │   ├── p1/\n",
    "#     │   ├── ...\n",
    "#     │   └── p25/\n",
    "#     ├── RTM_images/\n",
    "#     ├── Signal_Energy_SOR/\n",
    "#     ├── Signal_Energy_SOT/\n",
    "#     ├── Signal_Variation_2D/\n",
    "#     ├── Signal_Variation_SOR/\n",
    "#     └── Signal_Variation_SOT/"
   ]
  },
  {
   "cell_type": "code",
   "execution_count": 3,
   "id": "ee5c4639",
   "metadata": {},
   "outputs": [],
   "source": [
    "# Function to load image and resize to 32X32X1 - grayscale\n",
    "def load_and_resize_image(path):\n",
    "    img = load_img(path, color_mode='grayscale', target_size=(32, 32))\n",
    "    return img_to_array(img) / 255.0\n",
    "\n",
    "# Index data correctly with session under person -> session -> gesture\n",
    "def index_multi_image_sequences(rtm_path, dtm_path, atm_path, seq_len=5, exclude_participants=None):\n",
    "    all_train_samples, test_samples = [], []\n",
    "    gesture_set = set()\n",
    "    exclude_participants = set(exclude_participants or [])\n",
    "\n",
    "    participants = sorted([p for p in os.listdir(rtm_path) if os.path.isdir(os.path.join(rtm_path, p))])  \n",
    "\n",
    "    for person in participants:\n",
    "        print(f\"Processing participant: {person}\")\n",
    "        is_test_person = person in exclude_participants\n",
    "        rtm_person_path = os.path.join(rtm_path, person)\n",
    "\n",
    "        for session in os.listdir(rtm_person_path):\n",
    "            rtm_sess_path = os.path.join(rtm_person_path, session)\n",
    "            if not os.path.isdir(rtm_sess_path):\n",
    "                continue\n",
    "\n",
    "            for gesture in os.listdir(rtm_sess_path):\n",
    "                rtm_gesture_path = os.path.join(rtm_sess_path, gesture)\n",
    "                dtm_gesture_path = os.path.join(dtm_path, person, session, gesture)\n",
    "                atm_gesture_path = os.path.join(atm_path, person, session, gesture)\n",
    "\n",
    "                if not all(map(os.path.isdir, [rtm_gesture_path, dtm_gesture_path, atm_gesture_path])):\n",
    "                    continue\n",
    "\n",
    "                gesture_set.add(gesture)\n",
    "\n",
    "                rtm_files = sorted(glob(os.path.join(rtm_gesture_path, '*.png')))\n",
    "                dtm_files = sorted(glob(os.path.join(dtm_gesture_path, '*.png')))\n",
    "                atm_files = sorted(glob(os.path.join(atm_gesture_path, '*.png')))\n",
    "\n",
    "                num_frames = min(len(rtm_files), len(dtm_files), len(atm_files))\n",
    "                for i in range(num_frames - seq_len + 1):\n",
    "                    sample = {\n",
    "                        'rtm': rtm_files[i:i+seq_len],\n",
    "                        'dtm': dtm_files[i:i+seq_len],\n",
    "                        'atm': atm_files[i:i+seq_len],\n",
    "                        'label': gesture\n",
    "                    }\n",
    "                    if is_test_person:\n",
    "                        test_samples.append(sample)\n",
    "                    else:\n",
    "                        all_train_samples.append(sample)\n",
    "\n",
    "    # 80/20 train/val split\n",
    "    train_samples, val_samples = train_test_split(\n",
    "        all_train_samples, test_size=0.2, random_state=42, shuffle=True\n",
    "    )\n",
    "\n",
    "    label_map = {gesture: idx for idx, gesture in enumerate(sorted(gesture_set))}\n",
    "    return train_samples, val_samples, test_samples, label_map\n",
    "\n",
    "# DataLoader\n",
    "class MultiRadarSequenceGenerator(Sequence):\n",
    "    def __init__(self, samples, label_map, batch_size=32, seq_len=SEQ_LEN, shuffle_data=False):\n",
    "        self.samples = samples\n",
    "        self.label_map = label_map\n",
    "        self.batch_size = batch_size\n",
    "        self.seq_len = seq_len\n",
    "        self.shuffle_data = shuffle_data\n",
    "        self.on_epoch_end()\n",
    "\n",
    "    def __len__(self):\n",
    "        return int(np.ceil(len(self.samples) / self.batch_size))\n",
    "\n",
    "    def __getitem__(self, index):\n",
    "        batch_samples = self.samples[index * self.batch_size:(index + 1) * self.batch_size]\n",
    "        X_rtm, X_dtm, X_atm, y = self.__load_batch(batch_samples)\n",
    "        return [X_rtm, X_dtm, X_atm], y\n",
    "\n",
    "    def on_epoch_end(self):\n",
    "        if self.shuffle_data:\n",
    "            self.samples = shuffle(self.samples)\n",
    "\n",
    "    def __load_batch(self, batch_samples):\n",
    "        X_rtm, X_dtm, X_atm, y = [], [], [], []\n",
    "        for sample in batch_samples:\n",
    "            try:\n",
    "                rtm_seq = [load_and_resize_image(p) for p in sample['rtm']]\n",
    "                dtm_seq = [load_and_resize_image(p) for p in sample['dtm']]\n",
    "                atm_seq = [load_and_resize_image(p) for p in sample['atm']]\n",
    "                if len(rtm_seq) == self.seq_len:\n",
    "                    X_rtm.append(rtm_seq)\n",
    "                    X_dtm.append(dtm_seq)\n",
    "                    X_atm.append(atm_seq)\n",
    "                    y.append(self.label_map[sample['label']])\n",
    "            except Exception as e:\n",
    "                print(f\"Error loading sample: {e}\")\n",
    "        return (\n",
    "            np.array(X_rtm),\n",
    "            np.array(X_dtm),\n",
    "            np.array(X_atm),\n",
    "            np.array(y)\n",
    "        )"
   ]
  },
  {
   "cell_type": "code",
   "execution_count": 4,
   "id": "260242fa",
   "metadata": {},
   "outputs": [
    {
     "name": "stdout",
     "output_type": "stream",
     "text": [
      "Processing participant: p0_1\n",
      "Processing participant: p0_10\n",
      "Processing participant: p0_11\n",
      "Processing participant: p0_12\n",
      "Processing participant: p0_13\n",
      "Processing participant: p0_14\n",
      "Processing participant: p0_15\n",
      "Processing participant: p0_16\n",
      "Processing participant: p0_17\n",
      "Processing participant: p0_18\n",
      "Processing participant: p0_19\n",
      "Processing participant: p0_2\n",
      "Processing participant: p0_20\n",
      "Processing participant: p0_3\n",
      "Processing participant: p0_4\n",
      "Processing participant: p0_5\n",
      "Processing participant: p0_6\n",
      "Processing participant: p0_7\n",
      "Processing participant: p0_8\n",
      "Processing participant: p0_9\n",
      "Processing participant: p1\n",
      "Processing participant: p10\n",
      "Processing participant: p11\n",
      "Processing participant: p12\n",
      "Processing participant: p13\n",
      "Processing participant: p14\n",
      "Processing participant: p15\n",
      "Processing participant: p16\n",
      "Processing participant: p17\n",
      "Processing participant: p18\n",
      "Processing participant: p19\n",
      "Processing participant: p2\n",
      "Processing participant: p20\n",
      "Processing participant: p21\n",
      "Processing participant: p22\n",
      "Processing participant: p23\n",
      "Processing participant: p24\n",
      "Processing participant: p25\n",
      "Processing participant: p3\n",
      "Processing participant: p4\n",
      "Processing participant: p5\n",
      "Processing participant: p6\n",
      "Processing participant: p7\n",
      "Processing participant: p8\n",
      "Processing participant: p9\n"
     ]
    }
   ],
   "source": [
    "# Index sequences\n",
    "excluded = {f'p0_{i}' for i in range(15, 21)}  # p0_15 to p0_20\n",
    "train_samples, val_samples, test_samples, label_map = index_multi_image_sequences(\n",
    "    RTM_PATH, DTM_PATH, ATM_PATH, seq_len=5, exclude_participants=excluded\n",
    ")\n",
    "\n",
    "# Create generators\n",
    "train_gen = MultiRadarSequenceGenerator(train_samples, label_map, batch_size=256, shuffle_data=True)\n",
    "val_gen = MultiRadarSequenceGenerator(val_samples, label_map, batch_size=256, shuffle_data=False)"
   ]
  },
  {
   "cell_type": "code",
   "execution_count": 5,
   "id": "17cb5ad7",
   "metadata": {},
   "outputs": [
    {
     "name": "stdout",
     "output_type": "stream",
     "text": [
      "Number of training samples: 6489\n",
      "Number of val samples: 1623\n",
      "Number of test samples: 1166\n",
      "Shape of a single sample: (256, 5, 32, 32, 1)\n"
     ]
    }
   ],
   "source": [
    "# how many train samples are there?\n",
    "print(f\"Number of training samples: {len(train_samples)}\")\n",
    "# how many test samples are there?\n",
    "print(f\"Number of val samples: {len(val_samples)}\")\n",
    "# how many test samples are there?\n",
    "print(f\"Number of test samples: {len(test_samples)}\")\n",
    "# what is the shape of the sample?\n",
    "print(f\"Shape of a single sample: {train_gen[0][0][0].shape}\")"
   ]
  },
  {
   "cell_type": "markdown",
   "id": "687c4f2b",
   "metadata": {},
   "source": [
    "# Model"
   ]
  },
  {
   "cell_type": "code",
   "execution_count": 6,
   "id": "98dc1fdc",
   "metadata": {},
   "outputs": [],
   "source": [
    "# Build CNN encoder for each input stream\n",
    "def build_single_cnn(input_shape=(32, 32, 1)):\n",
    "    input_layer = tf.keras.Input(shape=input_shape)\n",
    "    x = layers.Conv2D(16, (5, 5), activation='relu', padding='same')(input_layer)\n",
    "    x = layers.MaxPooling2D((2, 2))(x)\n",
    "    x = layers.Dropout(0.4)(x)\n",
    "    x = layers.Flatten()(x)\n",
    "    x = layers.Dense(128, activation='relu')(x)\n",
    "    return models.Model(inputs=input_layer, outputs=x)\n",
    "\n",
    "# Multi-CNN-LSTM model\n",
    "def build_multi_cnn_lstm(seq_len=5, img_shape=(32, 32, 1), num_classes=13):\n",
    "    # Inputs\n",
    "    rtm_input = tf.keras.Input(shape=(seq_len, *img_shape), name=\"rtm_input\")\n",
    "    dtm_input = tf.keras.Input(shape=(seq_len, *img_shape), name=\"dtm_input\")\n",
    "    atm_input = tf.keras.Input(shape=(seq_len, *img_shape), name=\"atm_input\")\n",
    "\n",
    "    cnn_encoder = build_single_cnn(img_shape)\n",
    "\n",
    "    # Apply TimeDistributed CNN\n",
    "    rtm_encoded = layers.TimeDistributed(cnn_encoder)(rtm_input)\n",
    "    dtm_encoded = layers.TimeDistributed(cnn_encoder)(dtm_input)\n",
    "    atm_encoded = layers.TimeDistributed(cnn_encoder)(atm_input)\n",
    "\n",
    "    # Fuse the three features\n",
    "    merged = layers.Concatenate(axis=-1)([rtm_encoded, dtm_encoded, atm_encoded])\n",
    "\n",
    "    # LSTM\n",
    "    x = layers.LSTM(128, return_sequences=False)(merged)\n",
    "    x = layers.Dense(64, activation='relu')(x)\n",
    "    output = layers.Dense(num_classes, activation='softmax')(x)\n",
    "\n",
    "    return models.Model(inputs=[rtm_input, dtm_input, atm_input], outputs=output)"
   ]
  },
  {
   "cell_type": "markdown",
   "id": "6cc23764",
   "metadata": {},
   "source": [
    "# Training and Testing"
   ]
  },
  {
   "cell_type": "code",
   "execution_count": 7,
   "id": "7fc69ad7",
   "metadata": {},
   "outputs": [],
   "source": [
    "# Custom TQDM callback\n",
    "class TQDMProgressCallback(tf.keras.callbacks.Callback):\n",
    "    def __init__(self, test_gen):\n",
    "        super().__init__()\n",
    "        self.test_gen = test_gen\n",
    "\n",
    "    def on_epoch_begin(self, epoch, logs=None):\n",
    "        self.epoch_pbar = tqdm(total=1, desc=f\"Epoch {epoch+1}\", unit=\"epoch\")\n",
    "\n",
    "    def on_epoch_end(self, epoch, logs=None):\n",
    "        self.epoch_pbar.update(1)\n",
    "        self.epoch_pbar.close()\n",
    "        loss, acc = self.model.evaluate(self.test_gen, verbose=0)\n",
    "        print(f\"Epoch {epoch+1}: Test Accuracy = {acc:.4f}\")\n",
    "\n",
    "class BatchCheckpoint(Callback):\n",
    "    def __init__(self, save_dir, label_map, every_n_batches=100):\n",
    "        super().__init__()\n",
    "        self.save_dir = save_dir\n",
    "        self.every_n_batches = every_n_batches\n",
    "        self.batch_count = 0\n",
    "        self.label_map = label_map\n",
    "        os.makedirs(save_dir, exist_ok=True)\n",
    "\n",
    "    def on_train_batch_end(self, batch, logs=None):\n",
    "        self.batch_count += 1\n",
    "        if self.batch_count % self.every_n_batches == 0:\n",
    "            filename = os.path.join(self.save_dir, f\"batch_{self.batch_count:06d}.h5\")\n",
    "            self.model.save(filename, save_format=\"tf\")\n",
    "            print(f\"Saved model at batch {self.batch_count} to {filename}\")"
   ]
  },
  {
   "cell_type": "code",
   "execution_count": 8,
   "id": "0e846737",
   "metadata": {},
   "outputs": [],
   "source": [
    "class SaveLossAccuracy(tf.keras.callbacks.Callback):\n",
    "    def __init__(self, filepath='training_log.txt'):\n",
    "        super().__init__()\n",
    "        self.filepath = filepath\n",
    "        with open(self.filepath, 'w') as f:\n",
    "            f.write(\"epoch,loss,accuracy,val_loss,val_accuracy\\n\")\n",
    "\n",
    "    def on_epoch_end(self, epoch, logs=None):\n",
    "        logs = logs or {}\n",
    "        line = f\"{epoch+1},{logs.get('loss'):.4f},{logs.get('accuracy'):.4f},{logs.get('val_loss'):.4f},{logs.get('val_accuracy'):.4f}\\n\"\n",
    "        with open(self.filepath, 'a') as f:\n",
    "            f.write(line)"
   ]
  },
  {
   "cell_type": "code",
   "execution_count": 9,
   "id": "7c4f075b",
   "metadata": {},
   "outputs": [
    {
     "name": "stdout",
     "output_type": "stream",
     "text": [
      "WARNING:tensorflow:From c:\\Users\\ioana\\anaconda3\\envs\\tiny_radar\\lib\\site-packages\\keras\\src\\backend.py:1398: The name tf.executing_eagerly_outside_functions is deprecated. Please use tf.compat.v1.executing_eagerly_outside_functions instead.\n",
      "\n",
      "WARNING:tensorflow:From c:\\Users\\ioana\\anaconda3\\envs\\tiny_radar\\lib\\site-packages\\keras\\src\\layers\\pooling\\max_pooling2d.py:161: The name tf.nn.max_pool is deprecated. Please use tf.nn.max_pool2d instead.\n",
      "\n",
      "WARNING:tensorflow:From c:\\Users\\ioana\\anaconda3\\envs\\tiny_radar\\lib\\site-packages\\keras\\src\\optimizers\\__init__.py:309: The name tf.train.Optimizer is deprecated. Please use tf.compat.v1.train.Optimizer instead.\n",
      "\n"
     ]
    },
    {
     "name": "stderr",
     "output_type": "stream",
     "text": [
      "Epoch 1:   0%|          | 0/1 [00:00<?, ?epoch/s]"
     ]
    },
    {
     "name": "stdout",
     "output_type": "stream",
     "text": [
      "Epoch 1/50\n",
      "WARNING:tensorflow:From c:\\Users\\ioana\\anaconda3\\envs\\tiny_radar\\lib\\site-packages\\keras\\src\\utils\\tf_utils.py:492: The name tf.ragged.RaggedTensorValue is deprecated. Please use tf.compat.v1.ragged.RaggedTensorValue instead.\n",
      "\n",
      "WARNING:tensorflow:From c:\\Users\\ioana\\anaconda3\\envs\\tiny_radar\\lib\\site-packages\\keras\\src\\engine\\base_layer_utils.py:384: The name tf.executing_eagerly_outside_functions is deprecated. Please use tf.compat.v1.executing_eagerly_outside_functions instead.\n",
      "\n",
      "26/26 [==============================] - ETA: 0s - loss: 1.7992 - accuracy: 0.4202"
     ]
    },
    {
     "name": "stderr",
     "output_type": "stream",
     "text": [
      "Epoch 1: 100%|██████████| 1/1 [00:45<00:00, 45.01s/epoch]\n"
     ]
    },
    {
     "name": "stdout",
     "output_type": "stream",
     "text": [
      "Epoch 1: Test Accuracy = 0.6063\n",
      "\n",
      "Epoch 1: val_accuracy improved from -inf to 0.60628, saving model to Models/3_radar_CNN\\best_model_epoch01_valacc0.6063.h5\n",
      "WARNING:tensorflow:Found duplicated `Variable`s in Model's `weights`. This is usually caused by `Variable`s being shared by Layers in the Model. These `Variable`s will be treated as separate `Variable`s when the Model is restored. To avoid this, please save with `save_format=\"tf\"`.\n",
      "26/26 [==============================] - 51s 2s/step - loss: 1.7992 - accuracy: 0.4202 - val_loss: 1.1267 - val_accuracy: 0.6063\n"
     ]
    },
    {
     "name": "stderr",
     "output_type": "stream",
     "text": [
      "c:\\Users\\ioana\\anaconda3\\envs\\tiny_radar\\lib\\site-packages\\keras\\src\\engine\\training.py:3103: UserWarning: You are saving your model as an HDF5 file via `model.save()`. This file format is considered legacy. We recommend using instead the native Keras format, e.g. `model.save('my_model.keras')`.\n",
      "  saving_api.save_model(\n",
      "Epoch 2:   0%|          | 0/1 [00:00<?, ?epoch/s]"
     ]
    },
    {
     "name": "stdout",
     "output_type": "stream",
     "text": [
      "Epoch 2/50\n",
      "26/26 [==============================] - ETA: 0s - loss: 0.9472 - accuracy: 0.6676"
     ]
    },
    {
     "name": "stderr",
     "output_type": "stream",
     "text": [
      "Epoch 2: 100%|██████████| 1/1 [00:34<00:00, 34.56s/epoch]\n"
     ]
    },
    {
     "name": "stdout",
     "output_type": "stream",
     "text": [
      "Epoch 2: Test Accuracy = 0.7221\n",
      "\n",
      "Epoch 2: val_accuracy improved from 0.60628 to 0.72212, saving model to Models/3_radar_CNN\\best_model_epoch02_valacc0.7221.h5\n",
      "WARNING:tensorflow:Found duplicated `Variable`s in Model's `weights`. This is usually caused by `Variable`s being shared by Layers in the Model. These `Variable`s will be treated as separate `Variable`s when the Model is restored. To avoid this, please save with `save_format=\"tf\"`.\n",
      "26/26 [==============================] - 42s 2s/step - loss: 0.9472 - accuracy: 0.6676 - val_loss: 0.7900 - val_accuracy: 0.7221\n"
     ]
    },
    {
     "name": "stderr",
     "output_type": "stream",
     "text": [
      "Epoch 3:   0%|          | 0/1 [00:00<?, ?epoch/s]"
     ]
    },
    {
     "name": "stdout",
     "output_type": "stream",
     "text": [
      "Epoch 3/50\n",
      "26/26 [==============================] - ETA: 0s - loss: 0.6977 - accuracy: 0.7479"
     ]
    },
    {
     "name": "stderr",
     "output_type": "stream",
     "text": [
      "Epoch 3: 100%|██████████| 1/1 [00:33<00:00, 33.92s/epoch]\n"
     ]
    },
    {
     "name": "stdout",
     "output_type": "stream",
     "text": [
      "Epoch 3: Test Accuracy = 0.7474\n",
      "\n",
      "Epoch 3: val_accuracy improved from 0.72212 to 0.74738, saving model to Models/3_radar_CNN\\best_model_epoch03_valacc0.7474.h5\n",
      "WARNING:tensorflow:Found duplicated `Variable`s in Model's `weights`. This is usually caused by `Variable`s being shared by Layers in the Model. These `Variable`s will be treated as separate `Variable`s when the Model is restored. To avoid this, please save with `save_format=\"tf\"`.\n",
      "26/26 [==============================] - 40s 1s/step - loss: 0.6977 - accuracy: 0.7479 - val_loss: 0.6611 - val_accuracy: 0.7474\n"
     ]
    },
    {
     "name": "stderr",
     "output_type": "stream",
     "text": [
      "Epoch 4:   0%|          | 0/1 [00:00<?, ?epoch/s]"
     ]
    },
    {
     "name": "stdout",
     "output_type": "stream",
     "text": [
      "Epoch 4/50\n",
      "26/26 [==============================] - ETA: 0s - loss: 0.5688 - accuracy: 0.7981"
     ]
    },
    {
     "name": "stderr",
     "output_type": "stream",
     "text": [
      "Epoch 4: 100%|██████████| 1/1 [00:33<00:00, 33.97s/epoch]\n"
     ]
    },
    {
     "name": "stdout",
     "output_type": "stream",
     "text": [
      "Epoch 4: Test Accuracy = 0.8250\n",
      "\n",
      "Epoch 4: val_accuracy improved from 0.74738 to 0.82502, saving model to Models/3_radar_CNN\\best_model_epoch04_valacc0.8250.h5\n",
      "WARNING:tensorflow:Found duplicated `Variable`s in Model's `weights`. This is usually caused by `Variable`s being shared by Layers in the Model. These `Variable`s will be treated as separate `Variable`s when the Model is restored. To avoid this, please save with `save_format=\"tf\"`.\n",
      "26/26 [==============================] - 40s 1s/step - loss: 0.5688 - accuracy: 0.7981 - val_loss: 0.5218 - val_accuracy: 0.8250\n"
     ]
    },
    {
     "name": "stderr",
     "output_type": "stream",
     "text": [
      "Epoch 5:   0%|          | 0/1 [00:00<?, ?epoch/s]"
     ]
    },
    {
     "name": "stdout",
     "output_type": "stream",
     "text": [
      "Epoch 5/50\n",
      "26/26 [==============================] - ETA: 0s - loss: 0.4595 - accuracy: 0.8353"
     ]
    },
    {
     "name": "stderr",
     "output_type": "stream",
     "text": [
      "Epoch 5: 100%|██████████| 1/1 [00:34<00:00, 34.72s/epoch]\n"
     ]
    },
    {
     "name": "stdout",
     "output_type": "stream",
     "text": [
      "Epoch 5: Test Accuracy = 0.8355\n",
      "\n",
      "Epoch 5: val_accuracy improved from 0.82502 to 0.83549, saving model to Models/3_radar_CNN\\best_model_epoch05_valacc0.8355.h5\n",
      "WARNING:tensorflow:Found duplicated `Variable`s in Model's `weights`. This is usually caused by `Variable`s being shared by Layers in the Model. These `Variable`s will be treated as separate `Variable`s when the Model is restored. To avoid this, please save with `save_format=\"tf\"`.\n",
      "26/26 [==============================] - 41s 2s/step - loss: 0.4595 - accuracy: 0.8353 - val_loss: 0.4726 - val_accuracy: 0.8355\n"
     ]
    },
    {
     "name": "stderr",
     "output_type": "stream",
     "text": [
      "Epoch 6:   0%|          | 0/1 [00:00<?, ?epoch/s]"
     ]
    },
    {
     "name": "stdout",
     "output_type": "stream",
     "text": [
      "Epoch 6/50\n",
      "26/26 [==============================] - ETA: 0s - loss: 0.3891 - accuracy: 0.8596"
     ]
    },
    {
     "name": "stderr",
     "output_type": "stream",
     "text": [
      "Epoch 6: 100%|██████████| 1/1 [00:34<00:00, 34.29s/epoch]\n"
     ]
    },
    {
     "name": "stdout",
     "output_type": "stream",
     "text": [
      "Epoch 6: Test Accuracy = 0.8521\n",
      "\n",
      "Epoch 6: val_accuracy improved from 0.83549 to 0.85213, saving model to Models/3_radar_CNN\\best_model_epoch06_valacc0.8521.h5\n",
      "WARNING:tensorflow:Found duplicated `Variable`s in Model's `weights`. This is usually caused by `Variable`s being shared by Layers in the Model. These `Variable`s will be treated as separate `Variable`s when the Model is restored. To avoid this, please save with `save_format=\"tf\"`.\n",
      "26/26 [==============================] - 40s 1s/step - loss: 0.3891 - accuracy: 0.8596 - val_loss: 0.4121 - val_accuracy: 0.8521\n"
     ]
    },
    {
     "name": "stderr",
     "output_type": "stream",
     "text": [
      "Epoch 7:   0%|          | 0/1 [00:00<?, ?epoch/s]"
     ]
    },
    {
     "name": "stdout",
     "output_type": "stream",
     "text": [
      "Epoch 7/50\n",
      "26/26 [==============================] - ETA: 0s - loss: 0.3381 - accuracy: 0.8779"
     ]
    },
    {
     "name": "stderr",
     "output_type": "stream",
     "text": [
      "Epoch 7: 100%|██████████| 1/1 [00:34<00:00, 34.57s/epoch]\n"
     ]
    },
    {
     "name": "stdout",
     "output_type": "stream",
     "text": [
      "Epoch 7: Test Accuracy = 0.8509\n",
      "\n",
      "Epoch 7: val_accuracy did not improve from 0.85213\n",
      "26/26 [==============================] - 40s 2s/step - loss: 0.3381 - accuracy: 0.8779 - val_loss: 0.3980 - val_accuracy: 0.8509\n"
     ]
    },
    {
     "name": "stderr",
     "output_type": "stream",
     "text": [
      "Epoch 8:   0%|          | 0/1 [00:00<?, ?epoch/s]"
     ]
    },
    {
     "name": "stdout",
     "output_type": "stream",
     "text": [
      "Epoch 8/50\n",
      "26/26 [==============================] - ETA: 0s - loss: 0.3080 - accuracy: 0.8857"
     ]
    },
    {
     "name": "stderr",
     "output_type": "stream",
     "text": [
      "Epoch 8: 100%|██████████| 1/1 [00:35<00:00, 35.30s/epoch]\n"
     ]
    },
    {
     "name": "stdout",
     "output_type": "stream",
     "text": [
      "Epoch 8: Test Accuracy = 0.8755\n",
      "\n",
      "Epoch 8: val_accuracy improved from 0.85213 to 0.87554, saving model to Models/3_radar_CNN\\best_model_epoch08_valacc0.8755.h5\n",
      "WARNING:tensorflow:Found duplicated `Variable`s in Model's `weights`. This is usually caused by `Variable`s being shared by Layers in the Model. These `Variable`s will be treated as separate `Variable`s when the Model is restored. To avoid this, please save with `save_format=\"tf\"`.\n",
      "26/26 [==============================] - 43s 2s/step - loss: 0.3080 - accuracy: 0.8857 - val_loss: 0.3276 - val_accuracy: 0.8755\n"
     ]
    },
    {
     "name": "stderr",
     "output_type": "stream",
     "text": [
      "Epoch 9:   0%|          | 0/1 [00:00<?, ?epoch/s]"
     ]
    },
    {
     "name": "stdout",
     "output_type": "stream",
     "text": [
      "Epoch 9/50\n",
      "26/26 [==============================] - ETA: 0s - loss: 0.2496 - accuracy: 0.9149"
     ]
    },
    {
     "name": "stderr",
     "output_type": "stream",
     "text": [
      "Epoch 9: 100%|██████████| 1/1 [00:38<00:00, 38.11s/epoch]\n"
     ]
    },
    {
     "name": "stdout",
     "output_type": "stream",
     "text": [
      "Epoch 9: Test Accuracy = 0.8990\n",
      "\n",
      "Epoch 9: val_accuracy improved from 0.87554 to 0.89895, saving model to Models/3_radar_CNN\\best_model_epoch09_valacc0.8990.h5\n",
      "WARNING:tensorflow:Found duplicated `Variable`s in Model's `weights`. This is usually caused by `Variable`s being shared by Layers in the Model. These `Variable`s will be treated as separate `Variable`s when the Model is restored. To avoid this, please save with `save_format=\"tf\"`.\n",
      "26/26 [==============================] - 46s 2s/step - loss: 0.2496 - accuracy: 0.9149 - val_loss: 0.2942 - val_accuracy: 0.8990\n"
     ]
    },
    {
     "name": "stderr",
     "output_type": "stream",
     "text": [
      "Epoch 10:   0%|          | 0/1 [00:00<?, ?epoch/s]"
     ]
    },
    {
     "name": "stdout",
     "output_type": "stream",
     "text": [
      "Epoch 10/50\n",
      "26/26 [==============================] - ETA: 0s - loss: 0.2143 - accuracy: 0.9276"
     ]
    },
    {
     "name": "stderr",
     "output_type": "stream",
     "text": [
      "Epoch 10: 100%|██████████| 1/1 [00:34<00:00, 34.97s/epoch]\n"
     ]
    },
    {
     "name": "stdout",
     "output_type": "stream",
     "text": [
      "Epoch 10: Test Accuracy = 0.9094\n",
      "\n",
      "Epoch 10: val_accuracy improved from 0.89895 to 0.90943, saving model to Models/3_radar_CNN\\best_model_epoch10_valacc0.9094.h5\n",
      "WARNING:tensorflow:Found duplicated `Variable`s in Model's `weights`. This is usually caused by `Variable`s being shared by Layers in the Model. These `Variable`s will be treated as separate `Variable`s when the Model is restored. To avoid this, please save with `save_format=\"tf\"`.\n",
      "26/26 [==============================] - 41s 2s/step - loss: 0.2143 - accuracy: 0.9276 - val_loss: 0.2727 - val_accuracy: 0.9094\n"
     ]
    },
    {
     "name": "stderr",
     "output_type": "stream",
     "text": [
      "Epoch 11:   0%|          | 0/1 [00:00<?, ?epoch/s]"
     ]
    },
    {
     "name": "stdout",
     "output_type": "stream",
     "text": [
      "Epoch 11/50\n",
      "26/26 [==============================] - ETA: 0s - loss: 0.1742 - accuracy: 0.9405"
     ]
    },
    {
     "name": "stderr",
     "output_type": "stream",
     "text": [
      "Epoch 11: 100%|██████████| 1/1 [00:34<00:00, 34.29s/epoch]\n"
     ]
    },
    {
     "name": "stdout",
     "output_type": "stream",
     "text": [
      "Epoch 11: Test Accuracy = 0.9107\n",
      "\n",
      "Epoch 11: val_accuracy improved from 0.90943 to 0.91066, saving model to Models/3_radar_CNN\\best_model_epoch11_valacc0.9107.h5\n",
      "WARNING:tensorflow:Found duplicated `Variable`s in Model's `weights`. This is usually caused by `Variable`s being shared by Layers in the Model. These `Variable`s will be treated as separate `Variable`s when the Model is restored. To avoid this, please save with `save_format=\"tf\"`.\n",
      "26/26 [==============================] - 40s 2s/step - loss: 0.1742 - accuracy: 0.9405 - val_loss: 0.2511 - val_accuracy: 0.9107\n"
     ]
    },
    {
     "name": "stderr",
     "output_type": "stream",
     "text": [
      "Epoch 12:   0%|          | 0/1 [00:00<?, ?epoch/s]"
     ]
    },
    {
     "name": "stdout",
     "output_type": "stream",
     "text": [
      "Epoch 12/50\n",
      "26/26 [==============================] - ETA: 0s - loss: 0.1528 - accuracy: 0.9464"
     ]
    },
    {
     "name": "stderr",
     "output_type": "stream",
     "text": [
      "Epoch 12: 100%|██████████| 1/1 [00:36<00:00, 36.84s/epoch]\n"
     ]
    },
    {
     "name": "stdout",
     "output_type": "stream",
     "text": [
      "Epoch 12: Test Accuracy = 0.9168\n",
      "\n",
      "Epoch 12: val_accuracy improved from 0.91066 to 0.91682, saving model to Models/3_radar_CNN\\best_model_epoch12_valacc0.9168.h5\n",
      "WARNING:tensorflow:Found duplicated `Variable`s in Model's `weights`. This is usually caused by `Variable`s being shared by Layers in the Model. These `Variable`s will be treated as separate `Variable`s when the Model is restored. To avoid this, please save with `save_format=\"tf\"`.\n",
      "26/26 [==============================] - 43s 2s/step - loss: 0.1528 - accuracy: 0.9464 - val_loss: 0.2274 - val_accuracy: 0.9168\n"
     ]
    },
    {
     "name": "stderr",
     "output_type": "stream",
     "text": [
      "Epoch 13:   0%|          | 0/1 [00:00<?, ?epoch/s]"
     ]
    },
    {
     "name": "stdout",
     "output_type": "stream",
     "text": [
      "Epoch 13/50\n",
      "26/26 [==============================] - ETA: 0s - loss: 0.1258 - accuracy: 0.9593"
     ]
    },
    {
     "name": "stderr",
     "output_type": "stream",
     "text": [
      "Epoch 13: 100%|██████████| 1/1 [00:36<00:00, 36.34s/epoch]\n"
     ]
    },
    {
     "name": "stdout",
     "output_type": "stream",
     "text": [
      "Epoch 13: Test Accuracy = 0.9267\n",
      "\n",
      "Epoch 13: val_accuracy improved from 0.91682 to 0.92668, saving model to Models/3_radar_CNN\\best_model_epoch13_valacc0.9267.h5\n",
      "WARNING:tensorflow:Found duplicated `Variable`s in Model's `weights`. This is usually caused by `Variable`s being shared by Layers in the Model. These `Variable`s will be treated as separate `Variable`s when the Model is restored. To avoid this, please save with `save_format=\"tf\"`.\n",
      "26/26 [==============================] - 42s 2s/step - loss: 0.1258 - accuracy: 0.9593 - val_loss: 0.2118 - val_accuracy: 0.9267\n"
     ]
    },
    {
     "name": "stderr",
     "output_type": "stream",
     "text": [
      "Epoch 14:   0%|          | 0/1 [00:00<?, ?epoch/s]"
     ]
    },
    {
     "name": "stdout",
     "output_type": "stream",
     "text": [
      "Epoch 14/50\n",
      "26/26 [==============================] - ETA: 0s - loss: 0.1044 - accuracy: 0.9712"
     ]
    },
    {
     "name": "stderr",
     "output_type": "stream",
     "text": [
      "Epoch 14: 100%|██████████| 1/1 [00:35<00:00, 35.78s/epoch]\n"
     ]
    },
    {
     "name": "stdout",
     "output_type": "stream",
     "text": [
      "Epoch 14: Test Accuracy = 0.9359\n",
      "\n",
      "Epoch 14: val_accuracy improved from 0.92668 to 0.93592, saving model to Models/3_radar_CNN\\best_model_epoch14_valacc0.9359.h5\n",
      "WARNING:tensorflow:Found duplicated `Variable`s in Model's `weights`. This is usually caused by `Variable`s being shared by Layers in the Model. These `Variable`s will be treated as separate `Variable`s when the Model is restored. To avoid this, please save with `save_format=\"tf\"`.\n",
      "26/26 [==============================] - 42s 2s/step - loss: 0.1044 - accuracy: 0.9712 - val_loss: 0.1894 - val_accuracy: 0.9359\n"
     ]
    },
    {
     "name": "stderr",
     "output_type": "stream",
     "text": [
      "Epoch 15:   0%|          | 0/1 [00:00<?, ?epoch/s]"
     ]
    },
    {
     "name": "stdout",
     "output_type": "stream",
     "text": [
      "Epoch 15/50\n",
      "26/26 [==============================] - ETA: 0s - loss: 0.0742 - accuracy: 0.9793"
     ]
    },
    {
     "name": "stderr",
     "output_type": "stream",
     "text": [
      "Epoch 15: 100%|██████████| 1/1 [00:36<00:00, 36.61s/epoch]\n"
     ]
    },
    {
     "name": "stdout",
     "output_type": "stream",
     "text": [
      "Epoch 15: Test Accuracy = 0.9433\n",
      "\n",
      "Epoch 15: val_accuracy improved from 0.93592 to 0.94331, saving model to Models/3_radar_CNN\\best_model_epoch15_valacc0.9433.h5\n",
      "WARNING:tensorflow:Found duplicated `Variable`s in Model's `weights`. This is usually caused by `Variable`s being shared by Layers in the Model. These `Variable`s will be treated as separate `Variable`s when the Model is restored. To avoid this, please save with `save_format=\"tf\"`.\n",
      "26/26 [==============================] - 44s 2s/step - loss: 0.0742 - accuracy: 0.9793 - val_loss: 0.1646 - val_accuracy: 0.9433\n"
     ]
    },
    {
     "name": "stderr",
     "output_type": "stream",
     "text": [
      "Epoch 16:   0%|          | 0/1 [00:00<?, ?epoch/s]"
     ]
    },
    {
     "name": "stdout",
     "output_type": "stream",
     "text": [
      "Epoch 16/50\n",
      "26/26 [==============================] - ETA: 0s - loss: 0.0664 - accuracy: 0.9824"
     ]
    },
    {
     "name": "stderr",
     "output_type": "stream",
     "text": [
      "Epoch 16: 100%|██████████| 1/1 [00:35<00:00, 35.89s/epoch]\n"
     ]
    },
    {
     "name": "stdout",
     "output_type": "stream",
     "text": [
      "Epoch 16: Test Accuracy = 0.9458\n",
      "\n",
      "Epoch 16: val_accuracy improved from 0.94331 to 0.94578, saving model to Models/3_radar_CNN\\best_model_epoch16_valacc0.9458.h5\n",
      "WARNING:tensorflow:Found duplicated `Variable`s in Model's `weights`. This is usually caused by `Variable`s being shared by Layers in the Model. These `Variable`s will be treated as separate `Variable`s when the Model is restored. To avoid this, please save with `save_format=\"tf\"`.\n",
      "26/26 [==============================] - 42s 2s/step - loss: 0.0664 - accuracy: 0.9824 - val_loss: 0.1535 - val_accuracy: 0.9458\n"
     ]
    },
    {
     "name": "stderr",
     "output_type": "stream",
     "text": [
      "Epoch 17:   0%|          | 0/1 [00:00<?, ?epoch/s]"
     ]
    },
    {
     "name": "stdout",
     "output_type": "stream",
     "text": [
      "Epoch 17/50\n",
      "26/26 [==============================] - ETA: 0s - loss: 0.0538 - accuracy: 0.9869"
     ]
    },
    {
     "name": "stderr",
     "output_type": "stream",
     "text": [
      "Epoch 17: 100%|██████████| 1/1 [00:36<00:00, 36.21s/epoch]\n"
     ]
    },
    {
     "name": "stdout",
     "output_type": "stream",
     "text": [
      "Epoch 17: Test Accuracy = 0.9458\n",
      "\n",
      "Epoch 17: val_accuracy did not improve from 0.94578\n",
      "26/26 [==============================] - 42s 2s/step - loss: 0.0538 - accuracy: 0.9869 - val_loss: 0.1599 - val_accuracy: 0.9458\n"
     ]
    },
    {
     "name": "stderr",
     "output_type": "stream",
     "text": [
      "Epoch 18:   0%|          | 0/1 [00:00<?, ?epoch/s]"
     ]
    },
    {
     "name": "stdout",
     "output_type": "stream",
     "text": [
      "Epoch 18/50\n",
      "26/26 [==============================] - ETA: 0s - loss: 0.0443 - accuracy: 0.9901"
     ]
    },
    {
     "name": "stderr",
     "output_type": "stream",
     "text": [
      "Epoch 18: 100%|██████████| 1/1 [00:36<00:00, 36.74s/epoch]\n"
     ]
    },
    {
     "name": "stdout",
     "output_type": "stream",
     "text": [
      "Epoch 18: Test Accuracy = 0.9476\n",
      "\n",
      "Epoch 18: val_accuracy improved from 0.94578 to 0.94763, saving model to Models/3_radar_CNN\\best_model_epoch18_valacc0.9476.h5\n",
      "WARNING:tensorflow:Found duplicated `Variable`s in Model's `weights`. This is usually caused by `Variable`s being shared by Layers in the Model. These `Variable`s will be treated as separate `Variable`s when the Model is restored. To avoid this, please save with `save_format=\"tf\"`.\n",
      "26/26 [==============================] - 43s 2s/step - loss: 0.0443 - accuracy: 0.9901 - val_loss: 0.1573 - val_accuracy: 0.9476\n"
     ]
    },
    {
     "name": "stderr",
     "output_type": "stream",
     "text": [
      "Epoch 19:   0%|          | 0/1 [00:00<?, ?epoch/s]"
     ]
    },
    {
     "name": "stdout",
     "output_type": "stream",
     "text": [
      "Epoch 19/50\n",
      "26/26 [==============================] - ETA: 0s - loss: 0.0383 - accuracy: 0.9917"
     ]
    },
    {
     "name": "stderr",
     "output_type": "stream",
     "text": [
      "Epoch 19: 100%|██████████| 1/1 [00:42<00:00, 42.88s/epoch]\n"
     ]
    },
    {
     "name": "stdout",
     "output_type": "stream",
     "text": [
      "Epoch 19: Test Accuracy = 0.9563\n",
      "\n",
      "Epoch 19: val_accuracy improved from 0.94763 to 0.95625, saving model to Models/3_radar_CNN\\best_model_epoch19_valacc0.9563.h5\n",
      "WARNING:tensorflow:Found duplicated `Variable`s in Model's `weights`. This is usually caused by `Variable`s being shared by Layers in the Model. These `Variable`s will be treated as separate `Variable`s when the Model is restored. To avoid this, please save with `save_format=\"tf\"`.\n",
      "26/26 [==============================] - 51s 2s/step - loss: 0.0383 - accuracy: 0.9917 - val_loss: 0.1314 - val_accuracy: 0.9563\n"
     ]
    },
    {
     "name": "stderr",
     "output_type": "stream",
     "text": [
      "Epoch 20:   0%|          | 0/1 [00:00<?, ?epoch/s]"
     ]
    },
    {
     "name": "stdout",
     "output_type": "stream",
     "text": [
      "Epoch 20/50\n",
      "26/26 [==============================] - ETA: 0s - loss: 0.0308 - accuracy: 0.9937"
     ]
    },
    {
     "name": "stderr",
     "output_type": "stream",
     "text": [
      "Epoch 20: 100%|██████████| 1/1 [00:40<00:00, 40.25s/epoch]\n"
     ]
    },
    {
     "name": "stdout",
     "output_type": "stream",
     "text": [
      "Epoch 20: Test Accuracy = 0.9489\n",
      "\n",
      "Epoch 20: val_accuracy did not improve from 0.95625\n",
      "26/26 [==============================] - 46s 2s/step - loss: 0.0308 - accuracy: 0.9937 - val_loss: 0.1624 - val_accuracy: 0.9489\n"
     ]
    },
    {
     "name": "stderr",
     "output_type": "stream",
     "text": [
      "Epoch 21:   0%|          | 0/1 [00:00<?, ?epoch/s]"
     ]
    },
    {
     "name": "stdout",
     "output_type": "stream",
     "text": [
      "Epoch 21/50\n",
      "26/26 [==============================] - ETA: 0s - loss: 0.0214 - accuracy: 0.9971"
     ]
    },
    {
     "name": "stderr",
     "output_type": "stream",
     "text": [
      "Epoch 21: 100%|██████████| 1/1 [00:38<00:00, 38.01s/epoch]\n"
     ]
    },
    {
     "name": "stdout",
     "output_type": "stream",
     "text": [
      "Epoch 21: Test Accuracy = 0.9612\n",
      "\n",
      "Epoch 21: val_accuracy improved from 0.95625 to 0.96118, saving model to Models/3_radar_CNN\\best_model_epoch21_valacc0.9612.h5\n",
      "WARNING:tensorflow:Found duplicated `Variable`s in Model's `weights`. This is usually caused by `Variable`s being shared by Layers in the Model. These `Variable`s will be treated as separate `Variable`s when the Model is restored. To avoid this, please save with `save_format=\"tf\"`.\n",
      "26/26 [==============================] - 44s 2s/step - loss: 0.0214 - accuracy: 0.9971 - val_loss: 0.1219 - val_accuracy: 0.9612\n"
     ]
    },
    {
     "name": "stderr",
     "output_type": "stream",
     "text": [
      "Epoch 22:   0%|          | 0/1 [00:00<?, ?epoch/s]"
     ]
    },
    {
     "name": "stdout",
     "output_type": "stream",
     "text": [
      "Epoch 22/50\n",
      "26/26 [==============================] - ETA: 0s - loss: 0.0219 - accuracy: 0.9958"
     ]
    },
    {
     "name": "stderr",
     "output_type": "stream",
     "text": [
      "Epoch 22: 100%|██████████| 1/1 [00:37<00:00, 37.70s/epoch]\n"
     ]
    },
    {
     "name": "stdout",
     "output_type": "stream",
     "text": [
      "Epoch 22: Test Accuracy = 0.9544\n",
      "\n",
      "Epoch 22: val_accuracy did not improve from 0.96118\n",
      "26/26 [==============================] - 44s 2s/step - loss: 0.0219 - accuracy: 0.9958 - val_loss: 0.1397 - val_accuracy: 0.9544\n"
     ]
    },
    {
     "name": "stderr",
     "output_type": "stream",
     "text": [
      "Epoch 23:   0%|          | 0/1 [00:00<?, ?epoch/s]"
     ]
    },
    {
     "name": "stdout",
     "output_type": "stream",
     "text": [
      "Epoch 23/50\n",
      "26/26 [==============================] - ETA: 0s - loss: 0.0198 - accuracy: 0.9966"
     ]
    },
    {
     "name": "stderr",
     "output_type": "stream",
     "text": [
      "Epoch 23: 100%|██████████| 1/1 [00:35<00:00, 35.55s/epoch]\n"
     ]
    },
    {
     "name": "stdout",
     "output_type": "stream",
     "text": [
      "Epoch 23: Test Accuracy = 0.9612\n",
      "\n",
      "Epoch 23: val_accuracy did not improve from 0.96118\n",
      "26/26 [==============================] - 42s 2s/step - loss: 0.0198 - accuracy: 0.9966 - val_loss: 0.1301 - val_accuracy: 0.9612\n"
     ]
    },
    {
     "name": "stderr",
     "output_type": "stream",
     "text": [
      "Epoch 24:   0%|          | 0/1 [00:00<?, ?epoch/s]"
     ]
    },
    {
     "name": "stdout",
     "output_type": "stream",
     "text": [
      "Epoch 24/50\n",
      "26/26 [==============================] - ETA: 0s - loss: 0.0157 - accuracy: 0.9986"
     ]
    },
    {
     "name": "stderr",
     "output_type": "stream",
     "text": [
      "Epoch 24: 100%|██████████| 1/1 [00:35<00:00, 35.31s/epoch]\n"
     ]
    },
    {
     "name": "stdout",
     "output_type": "stream",
     "text": [
      "Epoch 24: Test Accuracy = 0.9686\n",
      "\n",
      "Epoch 24: val_accuracy improved from 0.96118 to 0.96858, saving model to Models/3_radar_CNN\\best_model_epoch24_valacc0.9686.h5\n",
      "WARNING:tensorflow:Found duplicated `Variable`s in Model's `weights`. This is usually caused by `Variable`s being shared by Layers in the Model. These `Variable`s will be treated as separate `Variable`s when the Model is restored. To avoid this, please save with `save_format=\"tf\"`.\n",
      "26/26 [==============================] - 41s 2s/step - loss: 0.0157 - accuracy: 0.9986 - val_loss: 0.1191 - val_accuracy: 0.9686\n"
     ]
    },
    {
     "name": "stderr",
     "output_type": "stream",
     "text": [
      "Epoch 25:   0%|          | 0/1 [00:00<?, ?epoch/s]"
     ]
    },
    {
     "name": "stdout",
     "output_type": "stream",
     "text": [
      "Epoch 25/50\n",
      "26/26 [==============================] - ETA: 0s - loss: 0.0093 - accuracy: 0.9998"
     ]
    },
    {
     "name": "stderr",
     "output_type": "stream",
     "text": [
      "Epoch 25: 100%|██████████| 1/1 [00:36<00:00, 36.68s/epoch]\n"
     ]
    },
    {
     "name": "stdout",
     "output_type": "stream",
     "text": [
      "Epoch 25: Test Accuracy = 0.9692\n",
      "\n",
      "Epoch 25: val_accuracy improved from 0.96858 to 0.96919, saving model to Models/3_radar_CNN\\best_model_epoch25_valacc0.9692.h5\n",
      "WARNING:tensorflow:Found duplicated `Variable`s in Model's `weights`. This is usually caused by `Variable`s being shared by Layers in the Model. These `Variable`s will be treated as separate `Variable`s when the Model is restored. To avoid this, please save with `save_format=\"tf\"`.\n",
      "26/26 [==============================] - 43s 2s/step - loss: 0.0093 - accuracy: 0.9998 - val_loss: 0.1061 - val_accuracy: 0.9692\n"
     ]
    },
    {
     "name": "stderr",
     "output_type": "stream",
     "text": [
      "Epoch 26:   0%|          | 0/1 [00:00<?, ?epoch/s]"
     ]
    },
    {
     "name": "stdout",
     "output_type": "stream",
     "text": [
      "Epoch 26/50\n",
      "26/26 [==============================] - ETA: 0s - loss: 0.0075 - accuracy: 0.9995"
     ]
    },
    {
     "name": "stderr",
     "output_type": "stream",
     "text": [
      "Epoch 26: 100%|██████████| 1/1 [00:36<00:00, 36.72s/epoch]\n"
     ]
    },
    {
     "name": "stdout",
     "output_type": "stream",
     "text": [
      "Epoch 26: Test Accuracy = 0.9680\n",
      "\n",
      "Epoch 26: val_accuracy did not improve from 0.96919\n",
      "26/26 [==============================] - 43s 2s/step - loss: 0.0075 - accuracy: 0.9995 - val_loss: 0.1024 - val_accuracy: 0.9680\n"
     ]
    },
    {
     "name": "stderr",
     "output_type": "stream",
     "text": [
      "Epoch 27:   0%|          | 0/1 [00:00<?, ?epoch/s]"
     ]
    },
    {
     "name": "stdout",
     "output_type": "stream",
     "text": [
      "Epoch 27/50\n",
      "26/26 [==============================] - ETA: 0s - loss: 0.0053 - accuracy: 1.0000"
     ]
    },
    {
     "name": "stderr",
     "output_type": "stream",
     "text": [
      "Epoch 27: 100%|██████████| 1/1 [00:36<00:00, 36.73s/epoch]\n"
     ]
    },
    {
     "name": "stdout",
     "output_type": "stream",
     "text": [
      "Epoch 27: Test Accuracy = 0.9710\n",
      "\n",
      "Epoch 27: val_accuracy improved from 0.96919 to 0.97104, saving model to Models/3_radar_CNN\\best_model_epoch27_valacc0.9710.h5\n",
      "WARNING:tensorflow:Found duplicated `Variable`s in Model's `weights`. This is usually caused by `Variable`s being shared by Layers in the Model. These `Variable`s will be treated as separate `Variable`s when the Model is restored. To avoid this, please save with `save_format=\"tf\"`.\n",
      "26/26 [==============================] - 43s 2s/step - loss: 0.0053 - accuracy: 1.0000 - val_loss: 0.1025 - val_accuracy: 0.9710\n"
     ]
    },
    {
     "name": "stderr",
     "output_type": "stream",
     "text": [
      "Epoch 28:   0%|          | 0/1 [00:00<?, ?epoch/s]"
     ]
    },
    {
     "name": "stdout",
     "output_type": "stream",
     "text": [
      "Epoch 28/50\n",
      "26/26 [==============================] - ETA: 0s - loss: 0.0045 - accuracy: 0.9998"
     ]
    },
    {
     "name": "stderr",
     "output_type": "stream",
     "text": [
      "Epoch 28: 100%|██████████| 1/1 [00:36<00:00, 36.85s/epoch]\n"
     ]
    },
    {
     "name": "stdout",
     "output_type": "stream",
     "text": [
      "Epoch 28: Test Accuracy = 0.9680\n",
      "\n",
      "Epoch 28: val_accuracy did not improve from 0.97104\n",
      "26/26 [==============================] - 43s 2s/step - loss: 0.0045 - accuracy: 0.9998 - val_loss: 0.1096 - val_accuracy: 0.9680\n"
     ]
    },
    {
     "name": "stderr",
     "output_type": "stream",
     "text": [
      "Epoch 29:   0%|          | 0/1 [00:00<?, ?epoch/s]"
     ]
    },
    {
     "name": "stdout",
     "output_type": "stream",
     "text": [
      "Epoch 29/50\n",
      "26/26 [==============================] - ETA: 0s - loss: 0.0045 - accuracy: 0.9998"
     ]
    },
    {
     "name": "stderr",
     "output_type": "stream",
     "text": [
      "Epoch 29: 100%|██████████| 1/1 [00:36<00:00, 36.09s/epoch]\n"
     ]
    },
    {
     "name": "stdout",
     "output_type": "stream",
     "text": [
      "Epoch 29: Test Accuracy = 0.9717\n",
      "\n",
      "Epoch 29: val_accuracy improved from 0.97104 to 0.97166, saving model to Models/3_radar_CNN\\best_model_epoch29_valacc0.9717.h5\n",
      "WARNING:tensorflow:Found duplicated `Variable`s in Model's `weights`. This is usually caused by `Variable`s being shared by Layers in the Model. These `Variable`s will be treated as separate `Variable`s when the Model is restored. To avoid this, please save with `save_format=\"tf\"`.\n",
      "26/26 [==============================] - 42s 2s/step - loss: 0.0045 - accuracy: 0.9998 - val_loss: 0.1009 - val_accuracy: 0.9717\n"
     ]
    },
    {
     "name": "stderr",
     "output_type": "stream",
     "text": [
      "Epoch 30:   0%|          | 0/1 [00:00<?, ?epoch/s]"
     ]
    },
    {
     "name": "stdout",
     "output_type": "stream",
     "text": [
      "Epoch 30/50\n",
      "26/26 [==============================] - ETA: 0s - loss: 0.0049 - accuracy: 0.9995"
     ]
    },
    {
     "name": "stderr",
     "output_type": "stream",
     "text": [
      "Epoch 30: 100%|██████████| 1/1 [00:36<00:00, 36.56s/epoch]\n"
     ]
    },
    {
     "name": "stdout",
     "output_type": "stream",
     "text": [
      "Epoch 30: Test Accuracy = 0.9636\n",
      "\n",
      "Epoch 30: val_accuracy did not improve from 0.97166\n",
      "26/26 [==============================] - 43s 2s/step - loss: 0.0049 - accuracy: 0.9995 - val_loss: 0.1196 - val_accuracy: 0.9636\n"
     ]
    },
    {
     "name": "stderr",
     "output_type": "stream",
     "text": [
      "Epoch 31:   0%|          | 0/1 [00:00<?, ?epoch/s]"
     ]
    },
    {
     "name": "stdout",
     "output_type": "stream",
     "text": [
      "Epoch 31/50\n",
      "26/26 [==============================] - ETA: 0s - loss: 0.0381 - accuracy: 0.9877"
     ]
    },
    {
     "name": "stderr",
     "output_type": "stream",
     "text": [
      "Epoch 31: 100%|██████████| 1/1 [00:40<00:00, 40.60s/epoch]\n"
     ]
    },
    {
     "name": "stdout",
     "output_type": "stream",
     "text": [
      "Epoch 31: Test Accuracy = 0.9464\n",
      "\n",
      "Epoch 31: val_accuracy did not improve from 0.97166\n",
      "26/26 [==============================] - 49s 2s/step - loss: 0.0381 - accuracy: 0.9877 - val_loss: 0.1735 - val_accuracy: 0.9464\n"
     ]
    },
    {
     "name": "stderr",
     "output_type": "stream",
     "text": [
      "Epoch 32:   0%|          | 0/1 [00:00<?, ?epoch/s]"
     ]
    },
    {
     "name": "stdout",
     "output_type": "stream",
     "text": [
      "Epoch 32/50\n",
      "26/26 [==============================] - ETA: 0s - loss: 0.0536 - accuracy: 0.9829"
     ]
    },
    {
     "name": "stderr",
     "output_type": "stream",
     "text": [
      "Epoch 32: 100%|██████████| 1/1 [00:36<00:00, 36.99s/epoch]\n"
     ]
    },
    {
     "name": "stdout",
     "output_type": "stream",
     "text": [
      "Epoch 32: Test Accuracy = 0.9556\n",
      "\n",
      "Epoch 32: val_accuracy did not improve from 0.97166\n",
      "26/26 [==============================] - 43s 2s/step - loss: 0.0536 - accuracy: 0.9829 - val_loss: 0.1530 - val_accuracy: 0.9556\n"
     ]
    },
    {
     "name": "stderr",
     "output_type": "stream",
     "text": [
      "Epoch 33:   0%|          | 0/1 [00:00<?, ?epoch/s]"
     ]
    },
    {
     "name": "stdout",
     "output_type": "stream",
     "text": [
      "Epoch 33/50\n",
      "26/26 [==============================] - ETA: 0s - loss: 0.0234 - accuracy: 0.9940"
     ]
    },
    {
     "name": "stderr",
     "output_type": "stream",
     "text": [
      "Epoch 33: 100%|██████████| 1/1 [00:36<00:00, 36.03s/epoch]\n"
     ]
    },
    {
     "name": "stdout",
     "output_type": "stream",
     "text": [
      "Epoch 33: Test Accuracy = 0.9655\n",
      "\n",
      "Epoch 33: val_accuracy did not improve from 0.97166\n",
      "26/26 [==============================] - 42s 2s/step - loss: 0.0234 - accuracy: 0.9940 - val_loss: 0.1089 - val_accuracy: 0.9655\n"
     ]
    },
    {
     "name": "stderr",
     "output_type": "stream",
     "text": [
      "Epoch 34:   0%|          | 0/1 [00:00<?, ?epoch/s]"
     ]
    },
    {
     "name": "stdout",
     "output_type": "stream",
     "text": [
      "Epoch 34/50\n",
      "26/26 [==============================] - ETA: 0s - loss: 0.0129 - accuracy: 0.9972"
     ]
    },
    {
     "name": "stderr",
     "output_type": "stream",
     "text": [
      "Epoch 34: 100%|██████████| 1/1 [00:36<00:00, 36.22s/epoch]\n"
     ]
    },
    {
     "name": "stdout",
     "output_type": "stream",
     "text": [
      "Epoch 34: Test Accuracy = 0.9692\n",
      "\n",
      "Epoch 34: val_accuracy did not improve from 0.97166\n",
      "26/26 [==============================] - 42s 2s/step - loss: 0.0129 - accuracy: 0.9972 - val_loss: 0.1044 - val_accuracy: 0.9692\n"
     ]
    },
    {
     "name": "stderr",
     "output_type": "stream",
     "text": [
      "Epoch 35:   0%|          | 0/1 [00:00<?, ?epoch/s]"
     ]
    },
    {
     "name": "stdout",
     "output_type": "stream",
     "text": [
      "Epoch 35/50\n",
      "26/26 [==============================] - ETA: 0s - loss: 0.0058 - accuracy: 0.9995"
     ]
    },
    {
     "name": "stderr",
     "output_type": "stream",
     "text": [
      "Epoch 35: 100%|██████████| 1/1 [00:38<00:00, 38.40s/epoch]\n"
     ]
    },
    {
     "name": "stdout",
     "output_type": "stream",
     "text": [
      "Epoch 35: Test Accuracy = 0.9698\n",
      "\n",
      "Epoch 35: val_accuracy did not improve from 0.97166\n",
      "26/26 [==============================] - 46s 2s/step - loss: 0.0058 - accuracy: 0.9995 - val_loss: 0.0960 - val_accuracy: 0.9698\n"
     ]
    },
    {
     "name": "stderr",
     "output_type": "stream",
     "text": [
      "Epoch 36:   0%|          | 0/1 [00:00<?, ?epoch/s]"
     ]
    },
    {
     "name": "stdout",
     "output_type": "stream",
     "text": [
      "Epoch 36/50\n",
      "26/26 [==============================] - ETA: 0s - loss: 0.0028 - accuracy: 1.0000"
     ]
    },
    {
     "name": "stderr",
     "output_type": "stream",
     "text": [
      "Epoch 36: 100%|██████████| 1/1 [00:36<00:00, 36.89s/epoch]\n"
     ]
    },
    {
     "name": "stdout",
     "output_type": "stream",
     "text": [
      "Epoch 36: Test Accuracy = 0.9754\n",
      "\n",
      "Epoch 36: val_accuracy improved from 0.97166 to 0.97535, saving model to Models/3_radar_CNN\\best_model_epoch36_valacc0.9754.h5\n",
      "WARNING:tensorflow:Found duplicated `Variable`s in Model's `weights`. This is usually caused by `Variable`s being shared by Layers in the Model. These `Variable`s will be treated as separate `Variable`s when the Model is restored. To avoid this, please save with `save_format=\"tf\"`.\n",
      "26/26 [==============================] - 43s 2s/step - loss: 0.0028 - accuracy: 1.0000 - val_loss: 0.0894 - val_accuracy: 0.9754\n"
     ]
    },
    {
     "name": "stderr",
     "output_type": "stream",
     "text": [
      "Epoch 37:   0%|          | 0/1 [00:00<?, ?epoch/s]"
     ]
    },
    {
     "name": "stdout",
     "output_type": "stream",
     "text": [
      "Epoch 37/50\n",
      "26/26 [==============================] - ETA: 0s - loss: 0.0019 - accuracy: 1.0000"
     ]
    },
    {
     "name": "stderr",
     "output_type": "stream",
     "text": [
      "Epoch 37: 100%|██████████| 1/1 [00:37<00:00, 37.35s/epoch]\n"
     ]
    },
    {
     "name": "stdout",
     "output_type": "stream",
     "text": [
      "Epoch 37: Test Accuracy = 0.9766\n",
      "\n",
      "Epoch 37: val_accuracy improved from 0.97535 to 0.97659, saving model to Models/3_radar_CNN\\best_model_epoch37_valacc0.9766.h5\n",
      "WARNING:tensorflow:Found duplicated `Variable`s in Model's `weights`. This is usually caused by `Variable`s being shared by Layers in the Model. These `Variable`s will be treated as separate `Variable`s when the Model is restored. To avoid this, please save with `save_format=\"tf\"`.\n",
      "26/26 [==============================] - 44s 2s/step - loss: 0.0019 - accuracy: 1.0000 - val_loss: 0.0843 - val_accuracy: 0.9766\n"
     ]
    },
    {
     "name": "stderr",
     "output_type": "stream",
     "text": [
      "Epoch 38:   0%|          | 0/1 [00:00<?, ?epoch/s]"
     ]
    },
    {
     "name": "stdout",
     "output_type": "stream",
     "text": [
      "Epoch 38/50\n",
      "26/26 [==============================] - ETA: 0s - loss: 0.0016 - accuracy: 1.0000"
     ]
    },
    {
     "name": "stderr",
     "output_type": "stream",
     "text": [
      "Epoch 38: 100%|██████████| 1/1 [00:36<00:00, 36.21s/epoch]\n"
     ]
    },
    {
     "name": "stdout",
     "output_type": "stream",
     "text": [
      "Epoch 38: Test Accuracy = 0.9747\n",
      "\n",
      "Epoch 38: val_accuracy did not improve from 0.97659\n",
      "26/26 [==============================] - 42s 2s/step - loss: 0.0016 - accuracy: 1.0000 - val_loss: 0.0864 - val_accuracy: 0.9747\n"
     ]
    },
    {
     "name": "stderr",
     "output_type": "stream",
     "text": [
      "Epoch 39:   0%|          | 0/1 [00:00<?, ?epoch/s]"
     ]
    },
    {
     "name": "stdout",
     "output_type": "stream",
     "text": [
      "Epoch 39/50\n",
      "26/26 [==============================] - ETA: 0s - loss: 0.0014 - accuracy: 1.0000"
     ]
    },
    {
     "name": "stderr",
     "output_type": "stream",
     "text": [
      "Epoch 39: 100%|██████████| 1/1 [00:36<00:00, 36.39s/epoch]\n"
     ]
    },
    {
     "name": "stdout",
     "output_type": "stream",
     "text": [
      "Epoch 39: Test Accuracy = 0.9772\n",
      "\n",
      "Epoch 39: val_accuracy improved from 0.97659 to 0.97720, saving model to Models/3_radar_CNN\\best_model_epoch39_valacc0.9772.h5\n",
      "WARNING:tensorflow:Found duplicated `Variable`s in Model's `weights`. This is usually caused by `Variable`s being shared by Layers in the Model. These `Variable`s will be treated as separate `Variable`s when the Model is restored. To avoid this, please save with `save_format=\"tf\"`.\n",
      "26/26 [==============================] - 43s 2s/step - loss: 0.0014 - accuracy: 1.0000 - val_loss: 0.0839 - val_accuracy: 0.9772\n"
     ]
    },
    {
     "name": "stderr",
     "output_type": "stream",
     "text": [
      "Epoch 40:   0%|          | 0/1 [00:00<?, ?epoch/s]"
     ]
    },
    {
     "name": "stdout",
     "output_type": "stream",
     "text": [
      "Epoch 40/50\n",
      "26/26 [==============================] - ETA: 0s - loss: 0.0012 - accuracy: 1.0000"
     ]
    },
    {
     "name": "stderr",
     "output_type": "stream",
     "text": [
      "Epoch 40: 100%|██████████| 1/1 [00:36<00:00, 36.57s/epoch]\n"
     ]
    },
    {
     "name": "stdout",
     "output_type": "stream",
     "text": [
      "Epoch 40: Test Accuracy = 0.9760\n",
      "\n",
      "Epoch 40: val_accuracy did not improve from 0.97720\n",
      "26/26 [==============================] - 43s 2s/step - loss: 0.0012 - accuracy: 1.0000 - val_loss: 0.0877 - val_accuracy: 0.9760\n"
     ]
    },
    {
     "name": "stderr",
     "output_type": "stream",
     "text": [
      "Epoch 41:   0%|          | 0/1 [00:00<?, ?epoch/s]"
     ]
    },
    {
     "name": "stdout",
     "output_type": "stream",
     "text": [
      "Epoch 41/50\n",
      "26/26 [==============================] - ETA: 0s - loss: 0.0011 - accuracy: 1.0000"
     ]
    },
    {
     "name": "stderr",
     "output_type": "stream",
     "text": [
      "Epoch 41: 100%|██████████| 1/1 [00:38<00:00, 38.07s/epoch]\n"
     ]
    },
    {
     "name": "stdout",
     "output_type": "stream",
     "text": [
      "Epoch 41: Test Accuracy = 0.9778\n",
      "\n",
      "Epoch 41: val_accuracy improved from 0.97720 to 0.97782, saving model to Models/3_radar_CNN\\best_model_epoch41_valacc0.9778.h5\n",
      "WARNING:tensorflow:Found duplicated `Variable`s in Model's `weights`. This is usually caused by `Variable`s being shared by Layers in the Model. These `Variable`s will be treated as separate `Variable`s when the Model is restored. To avoid this, please save with `save_format=\"tf\"`.\n",
      "26/26 [==============================] - 44s 2s/step - loss: 0.0011 - accuracy: 1.0000 - val_loss: 0.0834 - val_accuracy: 0.9778\n"
     ]
    },
    {
     "name": "stderr",
     "output_type": "stream",
     "text": [
      "Epoch 42:   0%|          | 0/1 [00:00<?, ?epoch/s]"
     ]
    },
    {
     "name": "stdout",
     "output_type": "stream",
     "text": [
      "Epoch 42/50\n",
      "26/26 [==============================] - ETA: 0s - loss: 0.0010 - accuracy: 1.0000"
     ]
    },
    {
     "name": "stderr",
     "output_type": "stream",
     "text": [
      "Epoch 42: 100%|██████████| 1/1 [00:36<00:00, 36.43s/epoch]\n"
     ]
    },
    {
     "name": "stdout",
     "output_type": "stream",
     "text": [
      "Epoch 42: Test Accuracy = 0.9778\n",
      "\n",
      "Epoch 42: val_accuracy did not improve from 0.97782\n",
      "26/26 [==============================] - 43s 2s/step - loss: 0.0010 - accuracy: 1.0000 - val_loss: 0.0838 - val_accuracy: 0.9778\n"
     ]
    },
    {
     "name": "stderr",
     "output_type": "stream",
     "text": [
      "Epoch 43:   0%|          | 0/1 [00:00<?, ?epoch/s]"
     ]
    },
    {
     "name": "stdout",
     "output_type": "stream",
     "text": [
      "Epoch 43/50\n",
      "26/26 [==============================] - ETA: 0s - loss: 0.0010 - accuracy: 1.0000"
     ]
    },
    {
     "name": "stderr",
     "output_type": "stream",
     "text": [
      "Epoch 43: 100%|██████████| 1/1 [00:36<00:00, 36.59s/epoch]\n"
     ]
    },
    {
     "name": "stdout",
     "output_type": "stream",
     "text": [
      "Epoch 43: Test Accuracy = 0.9791\n",
      "\n",
      "Epoch 43: val_accuracy improved from 0.97782 to 0.97905, saving model to Models/3_radar_CNN\\best_model_epoch43_valacc0.9791.h5\n",
      "WARNING:tensorflow:Found duplicated `Variable`s in Model's `weights`. This is usually caused by `Variable`s being shared by Layers in the Model. These `Variable`s will be treated as separate `Variable`s when the Model is restored. To avoid this, please save with `save_format=\"tf\"`.\n",
      "26/26 [==============================] - 43s 2s/step - loss: 0.0010 - accuracy: 1.0000 - val_loss: 0.0854 - val_accuracy: 0.9791\n"
     ]
    },
    {
     "name": "stderr",
     "output_type": "stream",
     "text": [
      "Epoch 44:   0%|          | 0/1 [00:00<?, ?epoch/s]"
     ]
    },
    {
     "name": "stdout",
     "output_type": "stream",
     "text": [
      "Epoch 44/50\n",
      "26/26 [==============================] - ETA: 0s - loss: 9.5865e-04 - accuracy: 1.0000"
     ]
    },
    {
     "name": "stderr",
     "output_type": "stream",
     "text": [
      "Epoch 44: 100%|██████████| 1/1 [00:36<00:00, 36.69s/epoch]\n"
     ]
    },
    {
     "name": "stdout",
     "output_type": "stream",
     "text": [
      "Epoch 44: Test Accuracy = 0.9760\n",
      "\n",
      "Epoch 44: val_accuracy did not improve from 0.97905\n",
      "26/26 [==============================] - 43s 2s/step - loss: 9.5865e-04 - accuracy: 1.0000 - val_loss: 0.0879 - val_accuracy: 0.9760\n"
     ]
    },
    {
     "name": "stderr",
     "output_type": "stream",
     "text": [
      "Epoch 45:   0%|          | 0/1 [00:00<?, ?epoch/s]"
     ]
    },
    {
     "name": "stdout",
     "output_type": "stream",
     "text": [
      "Epoch 45/50\n",
      "26/26 [==============================] - ETA: 0s - loss: 9.6298e-04 - accuracy: 1.0000"
     ]
    },
    {
     "name": "stderr",
     "output_type": "stream",
     "text": [
      "Epoch 45: 100%|██████████| 1/1 [00:37<00:00, 37.56s/epoch]\n"
     ]
    },
    {
     "name": "stdout",
     "output_type": "stream",
     "text": [
      "Epoch 45: Test Accuracy = 0.9747\n",
      "\n",
      "Epoch 45: val_accuracy did not improve from 0.97905\n",
      "26/26 [==============================] - 45s 2s/step - loss: 9.6298e-04 - accuracy: 1.0000 - val_loss: 0.0850 - val_accuracy: 0.9747\n"
     ]
    },
    {
     "name": "stderr",
     "output_type": "stream",
     "text": [
      "Epoch 46:   0%|          | 0/1 [00:00<?, ?epoch/s]"
     ]
    },
    {
     "name": "stdout",
     "output_type": "stream",
     "text": [
      "Epoch 46/50\n",
      "26/26 [==============================] - ETA: 0s - loss: 9.4688e-04 - accuracy: 1.0000"
     ]
    },
    {
     "name": "stderr",
     "output_type": "stream",
     "text": [
      "Epoch 46: 100%|██████████| 1/1 [00:38<00:00, 38.17s/epoch]\n"
     ]
    },
    {
     "name": "stdout",
     "output_type": "stream",
     "text": [
      "Epoch 46: Test Accuracy = 0.9803\n",
      "\n",
      "Epoch 46: val_accuracy improved from 0.97905 to 0.98028, saving model to Models/3_radar_CNN\\best_model_epoch46_valacc0.9803.h5\n",
      "WARNING:tensorflow:Found duplicated `Variable`s in Model's `weights`. This is usually caused by `Variable`s being shared by Layers in the Model. These `Variable`s will be treated as separate `Variable`s when the Model is restored. To avoid this, please save with `save_format=\"tf\"`.\n",
      "26/26 [==============================] - 45s 2s/step - loss: 9.4688e-04 - accuracy: 1.0000 - val_loss: 0.0799 - val_accuracy: 0.9803\n"
     ]
    },
    {
     "name": "stderr",
     "output_type": "stream",
     "text": [
      "Epoch 47:   0%|          | 0/1 [00:00<?, ?epoch/s]"
     ]
    },
    {
     "name": "stdout",
     "output_type": "stream",
     "text": [
      "Epoch 47/50\n",
      "26/26 [==============================] - ETA: 0s - loss: 9.6071e-04 - accuracy: 1.0000"
     ]
    },
    {
     "name": "stderr",
     "output_type": "stream",
     "text": [
      "Epoch 47: 100%|██████████| 1/1 [00:37<00:00, 37.05s/epoch]\n"
     ]
    },
    {
     "name": "stdout",
     "output_type": "stream",
     "text": [
      "Epoch 47: Test Accuracy = 0.9754\n",
      "\n",
      "Epoch 47: val_accuracy did not improve from 0.98028\n",
      "26/26 [==============================] - 43s 2s/step - loss: 9.6071e-04 - accuracy: 1.0000 - val_loss: 0.0887 - val_accuracy: 0.9754\n"
     ]
    },
    {
     "name": "stderr",
     "output_type": "stream",
     "text": [
      "Epoch 48:   0%|          | 0/1 [00:00<?, ?epoch/s]"
     ]
    },
    {
     "name": "stdout",
     "output_type": "stream",
     "text": [
      "Epoch 48/50\n",
      "26/26 [==============================] - ETA: 0s - loss: 8.3158e-04 - accuracy: 1.0000"
     ]
    },
    {
     "name": "stderr",
     "output_type": "stream",
     "text": [
      "Epoch 48: 100%|██████████| 1/1 [00:36<00:00, 36.80s/epoch]\n"
     ]
    },
    {
     "name": "stdout",
     "output_type": "stream",
     "text": [
      "Epoch 48: Test Accuracy = 0.9772\n",
      "\n",
      "Epoch 48: val_accuracy did not improve from 0.98028\n",
      "26/26 [==============================] - 43s 2s/step - loss: 8.3158e-04 - accuracy: 1.0000 - val_loss: 0.0815 - val_accuracy: 0.9772\n"
     ]
    },
    {
     "name": "stderr",
     "output_type": "stream",
     "text": [
      "Epoch 49:   0%|          | 0/1 [00:00<?, ?epoch/s]"
     ]
    },
    {
     "name": "stdout",
     "output_type": "stream",
     "text": [
      "Epoch 49/50\n",
      "26/26 [==============================] - ETA: 0s - loss: 7.9400e-04 - accuracy: 1.0000"
     ]
    },
    {
     "name": "stderr",
     "output_type": "stream",
     "text": [
      "Epoch 49: 100%|██████████| 1/1 [00:37<00:00, 37.24s/epoch]\n"
     ]
    },
    {
     "name": "stdout",
     "output_type": "stream",
     "text": [
      "Epoch 49: Test Accuracy = 0.9784\n",
      "\n",
      "Epoch 49: val_accuracy did not improve from 0.98028\n",
      "26/26 [==============================] - 44s 2s/step - loss: 7.9400e-04 - accuracy: 1.0000 - val_loss: 0.0819 - val_accuracy: 0.9784\n"
     ]
    },
    {
     "name": "stderr",
     "output_type": "stream",
     "text": [
      "Epoch 50:   0%|          | 0/1 [00:00<?, ?epoch/s]"
     ]
    },
    {
     "name": "stdout",
     "output_type": "stream",
     "text": [
      "Epoch 50/50\n",
      "26/26 [==============================] - ETA: 0s - loss: 7.5373e-04 - accuracy: 1.0000"
     ]
    },
    {
     "name": "stderr",
     "output_type": "stream",
     "text": [
      "Epoch 50: 100%|██████████| 1/1 [00:37<00:00, 37.88s/epoch]\n"
     ]
    },
    {
     "name": "stdout",
     "output_type": "stream",
     "text": [
      "Epoch 50: Test Accuracy = 0.9766\n",
      "\n",
      "Epoch 50: val_accuracy did not improve from 0.98028\n",
      "26/26 [==============================] - 44s 2s/step - loss: 7.5373e-04 - accuracy: 1.0000 - val_loss: 0.0839 - val_accuracy: 0.9766\n",
      "WARNING:tensorflow:Found duplicated `Variable`s in Model's `weights`. This is usually caused by `Variable`s being shared by Layers in the Model. These `Variable`s will be treated as separate `Variable`s when the Model is restored. To avoid this, please save with `save_format=\"tf\"`.\n"
     ]
    }
   ],
   "source": [
    "import warnings\n",
    "warnings.filterwarnings(\"ignore\", category=FutureWarning)\n",
    "model = build_multi_cnn_lstm(num_classes=len(label_map))\n",
    "model.compile(optimizer='adam', loss='sparse_categorical_crossentropy', metrics=['accuracy'])\n",
    "\n",
    "# Checkpoint callbacks\n",
    "checkpoint_cb = ModelCheckpoint(\n",
    "    filepath='Models/3_radar_CNN/best_model_epoch{epoch:02d}_valacc{val_accuracy:.4f}.h5',\n",
    "    monitor='val_accuracy',\n",
    "    save_best_only=True,\n",
    "    save_weights_only=False,\n",
    "    verbose=1\n",
    ")\n",
    "\n",
    "batch_checkpoint_cb = BatchCheckpoint(\n",
    "    save_dir='Models/3_radar_CNN/batch_checkpoints',\n",
    "    label_map=label_map,\n",
    "    every_n_batches=2500\n",
    ")\n",
    "\n",
    "log_callback = SaveLossAccuracy(r\"C:\\Users\\ioana\\Documents\\VS Projects\\ML-on-Microcontrollers-Project-Ioana-Gidiuta\\Code\\model_training_grayscale_images\\Models\\3_radar_CNN\\training_log.txt\")\n",
    "\n",
    "model.fit(\n",
    "    train_gen,\n",
    "    validation_data=val_gen,\n",
    "    epochs=50,\n",
    "    callbacks=[\n",
    "        TQDMProgressCallback(val_gen),\n",
    "        checkpoint_cb,\n",
    "        batch_checkpoint_cb,\n",
    "        log_callback\n",
    "    ],\n",
    "    workers=4,\n",
    "    use_multiprocessing=False,\n",
    ")\n",
    "model.save(\"Models/3_radar_CNN/final_model.h5\", save_format=\"tf\")"
   ]
  },
  {
   "cell_type": "code",
   "execution_count": 10,
   "id": "073fb97a",
   "metadata": {},
   "outputs": [
    {
     "data": {
      "image/png": "[encoded data removed]",
      "text/plain": [
       "<Figure size 1200x600 with 2 Axes>"
      ]
     },
     "metadata": {},
     "output_type": "display_data"
    }
   ],
   "source": [
    "# Load the training log\n",
    "log_df = pd.read_csv(r\"C:\\Users\\ioana\\Documents\\VS Projects\\ML-on-Microcontrollers-Project-Ioana-Gidiuta\\Code\\model_training_grayscale_images\\Models\\3_radar_CNN\\training_log.txt\")#, sep=\"\\t\")\n",
    "\n",
    "# Plot\n",
    "if 'epoch' not in log_df.columns:\n",
    "    log_df['epoch'] = range(1, len(log_df) + 1)\n",
    "\n",
    "# Plot\n",
    "plt.figure(figsize=(12, 6))\n",
    "\n",
    "# Loss\n",
    "plt.subplot(1, 2, 1)\n",
    "plt.plot(log_df['epoch'], log_df['loss'], label='Train Loss')\n",
    "plt.plot(log_df['epoch'], log_df['val_loss'], label='Validation Loss')\n",
    "plt.title('Loss over Epochs')\n",
    "plt.xlabel('Epoch')\n",
    "plt.ylabel('Loss')\n",
    "plt.legend()\n",
    "plt.grid(True)\n",
    "\n",
    "# Accuracy\n",
    "plt.subplot(1, 2, 2)\n",
    "plt.plot(log_df['epoch'], log_df['accuracy'], label='Train Accuracy')\n",
    "plt.plot(log_df['epoch'], log_df['val_accuracy'], label='Validation Accuracy')\n",
    "plt.title('Accuracy over Epochs')\n",
    "plt.xlabel('Epoch')\n",
    "plt.ylabel('Accuracy')\n",
    "plt.legend()\n",
    "plt.grid(True)\n",
    "\n",
    "plt.tight_layout()\n",
    "plt.show()"
   ]
  },
  {
   "cell_type": "markdown",
   "id": "8cd13633",
   "metadata": {},
   "source": [
    "# Testing"
   ]
  },
  {
   "cell_type": "code",
   "execution_count": 12,
   "id": "cd3fcad9",
   "metadata": {},
   "outputs": [
    {
     "name": "stdout",
     "output_type": "stream",
     "text": [
      "WARNING:tensorflow:Error in loading the saved optimizer state. As a result, your model is starting with a freshly initialized optimizer.\n"
     ]
    },
    {
     "data": {
      "image/png": "[encoded data removed]",
      "text/plain": [
       "<Figure size 1000x800 with 2 Axes>"
      ]
     },
     "metadata": {},
     "output_type": "display_data"
    },
    {
     "name": "stdout",
     "output_type": "stream",
     "text": [
      "               precision    recall  f1-score   support\n",
      "\n",
      "       Circle       1.00      1.00      1.00        90\n",
      "  FastSwipeRL       0.98      1.00      0.99        90\n",
      "    FingerRub       0.83      0.96      0.89        90\n",
      " FingerSlider       0.98      0.93      0.95        87\n",
      "       NoHand       1.00      1.00      1.00        90\n",
      "     PalmHold       1.00      1.00      1.00        89\n",
      "     PalmTilt       0.83      1.00      0.91        90\n",
      "   PinchIndex       0.71      0.52      0.60        90\n",
      "   PinchPinky       0.60      0.68      0.64        90\n",
      "         Pull       0.99      0.97      0.98        90\n",
      "         Push       1.00      0.99      0.99        90\n",
      "RandomGesture       0.91      0.78      0.84        90\n",
      "  SlowSwipeRL       1.00      0.98      0.99        90\n",
      "\n",
      "     accuracy                           0.91      1166\n",
      "    macro avg       0.91      0.91      0.91      1166\n",
      " weighted avg       0.91      0.91      0.91      1166\n",
      "\n"
     ]
    }
   ],
   "source": [
    "test_gen = MultiRadarSequenceGenerator(\n",
    "    test_samples,\n",
    "    label_map,\n",
    "    batch_size=32,\n",
    "    seq_len=SEQ_LEN,\n",
    "    shuffle_data=False\n",
    ")\n",
    "\n",
    "best_model_path = r'C:\\Users\\ioana\\Documents\\VS Projects\\ML-on-Microcontrollers-Project-Ioana-Gidiuta\\Code\\model_training_grayscale_images\\Models\\3_radar_CNN\\best_model_epoch46_valacc0.9803.h5'\n",
    "model = tf.keras.models.load_model(best_model_path)\n",
    "\n",
    "# Predict on test generator\n",
    "y_true = []\n",
    "y_pred = []\n",
    "\n",
    "for X, y in test_gen:\n",
    "    preds = model.predict(X, verbose=0)\n",
    "    y_true.extend(y)\n",
    "    y_pred.extend(np.argmax(preds, axis=1))\n",
    "\n",
    "y_true = np.array(y_true)\n",
    "y_pred = np.array(y_pred)\n",
    "\n",
    "# Confusion matrix\n",
    "cm = confusion_matrix(y_true, y_pred)\n",
    "cm_percent = cm.astype('float') / cm.sum(axis=1, keepdims=True)\n",
    "gesture_names = list(label_map.keys())\n",
    "\n",
    "# Plot\n",
    "plt.figure(figsize=(10, 8))\n",
    "sns.heatmap(cm_percent, annot=True, fmt='.1f', cmap='Blues',\n",
    "            xticklabels=gesture_names, yticklabels=gesture_names)\n",
    "plt.xlabel('Predicted Label')\n",
    "plt.ylabel('True Label')\n",
    "plt.title('Confusion Matrix (%) on Test Set')\n",
    "plt.tight_layout()\n",
    "plt.show()\n",
    "\n",
    "# Classification report\n",
    "print(classification_report(y_true, y_pred, target_names=gesture_names))"
   ]
  },
  {
   "cell_type": "code",
   "execution_count": 13,
   "id": "7d820faa",
   "metadata": {},
   "outputs": [
    {
     "name": "stdout",
     "output_type": "stream",
     "text": [
      "Model: \"model_1\"\n",
      "__________________________________________________________________________________________________\n",
      " Layer (type)                Output Shape                 Param #   Connected to                  \n",
      "==================================================================================================\n",
      " rtm_input (InputLayer)      [(None, 5, 32, 32, 1)]       0         []                            \n",
      "                                                                                                  \n",
      " dtm_input (InputLayer)      [(None, 5, 32, 32, 1)]       0         []                            \n",
      "                                                                                                  \n",
      " atm_input (InputLayer)      [(None, 5, 32, 32, 1)]       0         []                            \n",
      "                                                                                                  \n",
      " time_distributed (TimeDist  (None, 5, 128)               524832    ['rtm_input[0][0]']           \n",
      " ributed)                                                                                         \n",
      "                                                                                                  \n",
      " time_distributed_1 (TimeDi  (None, 5, 128)               524832    ['dtm_input[0][0]']           \n",
      " stributed)                                                                                       \n",
      "                                                                                                  \n",
      " time_distributed_2 (TimeDi  (None, 5, 128)               524832    ['atm_input[0][0]']           \n",
      " stributed)                                                                                       \n",
      "                                                                                                  \n",
      " concatenate (Concatenate)   (None, 5, 384)               0         ['time_distributed[0][0]',    \n",
      "                                                                     'time_distributed_1[0][0]',  \n",
      "                                                                     'time_distributed_2[0][0]']  \n",
      "                                                                                                  \n",
      " lstm (LSTM)                 (None, 128)                  262656    ['concatenate[0][0]']         \n",
      "                                                                                                  \n",
      " dense_1 (Dense)             (None, 64)                   8256      ['lstm[0][0]']                \n",
      "                                                                                                  \n",
      " dense_2 (Dense)             (None, 13)                   845       ['dense_1[0][0]']             \n",
      "                                                                                                  \n",
      "==================================================================================================\n",
      "Total params: 1846253 (7.04 MB)\n",
      "Trainable params: 1846253 (7.04 MB)\n",
      "Non-trainable params: 0 (0.00 Byte)\n",
      "__________________________________________________________________________________________________\n"
     ]
    }
   ],
   "source": [
    "model.summary()"
   ]
  },
  {
   "cell_type": "code",
   "execution_count": 14,
   "id": "1e1c61d7",
   "metadata": {},
   "outputs": [
    {
     "name": "stdout",
     "output_type": "stream",
     "text": [
      "float32\n"
     ]
    }
   ],
   "source": [
    "print(model.layers[1].dtype)  #"
   ]
  },
  {
   "cell_type": "markdown",
   "id": "87319664",
   "metadata": {},
   "source": [
    "# Coversion to TFlite"
   ]
  },
  {
   "cell_type": "code",
   "execution_count": 15,
   "id": "0f8a7201",
   "metadata": {},
   "outputs": [
    {
     "name": "stdout",
     "output_type": "stream",
     "text": [
      "WARNING:tensorflow:Error in loading the saved optimizer state. As a result, your model is starting with a freshly initialized optimizer.\n",
      "INFO:tensorflow:Assets written to: C:\\Users\\ioana\\AppData\\Local\\Temp\\tmp3fp6f8iv\\assets\n"
     ]
    },
    {
     "name": "stderr",
     "output_type": "stream",
     "text": [
      "INFO:tensorflow:Assets written to: C:\\Users\\ioana\\AppData\\Local\\Temp\\tmp3fp6f8iv\\assets\n"
     ]
    },
    {
     "name": "stdout",
     "output_type": "stream",
     "text": [
      "Float32 TFLite model saved successfully\n",
      "Model size: 3128.57 KB\n"
     ]
    }
   ],
   "source": [
    "model = tf.keras.models.load_model(\n",
    "    r'C:\\Users\\ioana\\Documents\\VS Projects\\ML-on-Microcontrollers-Project-Ioana-Gidiuta\\Code\\model_training_grayscale_images\\Models\\3_radar_CNN\\best_model_epoch46_valacc0.9803.h5'\n",
    ")\n",
    "\n",
    "# Define input signature for LSTM-safe tracing\n",
    "# @tf.function(input_signature=[\n",
    "#     tf.TensorSpec(shape=[1, 5, 32, 32, 3], dtype=tf.float32, name=\"rtm_input\"),\n",
    "#     tf.TensorSpec(shape=[1, 5, 32, 32, 3], dtype=tf.float32, name=\"dtm_input\"),\n",
    "#     tf.TensorSpec(shape=[1, 5, 32, 32, 3], dtype=tf.float32, name=\"atm_input\")\n",
    "# ])\n",
    "# def wrapped_model(rtm, dtm, atm):\n",
    "#     return model([rtm, dtm, atm])\n",
    "\n",
    "# # Get concrete function\n",
    "# concrete_func = wrapped_model.get_concrete_function()\n",
    "\n",
    "# Set up converter\n",
    "# converter = tf.lite.TFLiteConverter.from_concrete_functions([concrete_func])\n",
    "converter = tf.lite.TFLiteConverter.from_keras_model(model)\n",
    "converter.target_spec.supported_ops = [\n",
    "    tf.lite.OpsSet.TFLITE_BUILTINS,\n",
    "    tf.lite.OpsSet.SELECT_TF_OPS\n",
    "]\n",
    "converter._experimental_lower_tensor_list_ops = False\n",
    "\n",
    "# Keep everything float32\n",
    "converter.inference_input_type = tf.float32\n",
    "converter.inference_output_type = tf.float32\n",
    "\n",
    "# Convert\n",
    "tflite_model = converter.convert()\n",
    "\n",
    "# Save\n",
    "save_path = \"mmWave_orig_float32.tflite\"\n",
    "with open(save_path, \"wb\") as f:\n",
    "    f.write(tflite_model)\n",
    "\n",
    "print(\"Float32 TFLite model saved successfully\")\n",
    "print(f\"Model size: {os.path.getsize(save_path) / 1024:.2f} KB\")"
   ]
  },
  {
   "cell_type": "markdown",
   "id": "5b76eed1",
   "metadata": {},
   "source": [
    "# Float 16 Quantizatoin"
   ]
  },
  {
   "cell_type": "code",
   "execution_count": 29,
   "id": "5e5b5dd9",
   "metadata": {},
   "outputs": [
    {
     "name": "stdout",
     "output_type": "stream",
     "text": [
      "WARNING:tensorflow:Error in loading the saved optimizer state. As a result, your model is starting with a freshly initialized optimizer.\n"
     ]
    },
    {
     "name": "stderr",
     "output_type": "stream",
     "text": [
      "WARNING:tensorflow:Error in loading the saved optimizer state. As a result, your model is starting with a freshly initialized optimizer.\n",
      "WARNING:absl:Please consider providing the trackable_obj argument in the from_concrete_functions. Providing without the trackable_obj argument is deprecated and it will use the deprecated conversion path.\n"
     ]
    },
    {
     "name": "stdout",
     "output_type": "stream",
     "text": [
      "Float16 quantization successful\n",
      "Model size: 1571.89 KB\n"
     ]
    }
   ],
   "source": [
    "# Load your model\n",
    "best_model_path = r'C:\\Users\\ioana\\Documents\\VS Projects\\ML-on-Microcontrollers-Project-Ioana-Gidiuta\\Code\\model_training_grayscale_images\\Models\\3_radar_CNN\\best_model_epoch46_valacc0.9803.h5'\n",
    "model = tf.keras.models.load_model(best_model_path)\n",
    "\n",
    "# Wrap the model in a tf.function with a defined input signature\n",
    "@tf.function(input_signature=[\n",
    "    tf.TensorSpec(shape=[1, 5, 32, 32, 1], dtype=tf.float32, name=\"rtm_input\"),\n",
    "    tf.TensorSpec(shape=[1, 5, 32, 32, 1], dtype=tf.float32, name=\"dtm_input\"),\n",
    "    tf.TensorSpec(shape=[1, 5, 32, 32, 1], dtype=tf.float32, name=\"atm_input\")\n",
    "])\n",
    "def wrapped_model(rtm, dtm, atm):\n",
    "    return model([rtm, dtm, atm])\n",
    "\n",
    "# Extract a concrete function\n",
    "concrete_func = wrapped_model.get_concrete_function()\n",
    "\n",
    "# Set up the converter from the concrete function\n",
    "converter = tf.lite.TFLiteConverter.from_concrete_functions([concrete_func])\n",
    "# converter = tf.lite.TFLiteConverter.from_keras_model(model)\n",
    "converter.optimizations = [tf.lite.Optimize.DEFAULT]\n",
    "converter.target_spec.supported_types = [tf.float16]\n",
    "\n",
    "# Needed for models with LSTM\n",
    "converter.target_spec.supported_ops = [\n",
    "    tf.lite.OpsSet.TFLITE_BUILTINS,\n",
    "    tf.lite.OpsSet.SELECT_TF_OPS\n",
    "]\n",
    "converter._experimental_lower_tensor_list_ops = False\n",
    "\n",
    "# Keep float32 I/O for compatibility (optional)\n",
    "converter.inference_input_type = tf.float32\n",
    "converter.inference_output_type = tf.float32\n",
    "\n",
    "# Convert the model\n",
    "try:\n",
    "    tflite_model_fp16 = converter.convert()\n",
    "    save_path = \"mmWave_orig_float16.tflite\"\n",
    "    with open(save_path, \"wb\") as f:\n",
    "        f.write(tflite_model_fp16)\n",
    "    print(\"Float16 quantization successful\")\n",
    "    print(f\"Model size: {os.path.getsize(save_path) / 1024:.2f} KB\")\n",
    "except Exception as e:\n",
    "    print(f\"Float16 quantization failed: {str(e)}\")"
   ]
  },
  {
   "cell_type": "code",
   "execution_count": 30,
   "id": "74425c20",
   "metadata": {},
   "outputs": [],
   "source": [
    "interpreter = tf.lite.Interpreter(model_path=r\"C:\\Users\\ioana\\Documents\\VS Projects\\ML-on-Microcontrollers-Project-Ioana-Gidiuta\\Code\\model_training_grayscale_images\\mmWave_orig_float16.tflite\")\n",
    "interpreter.allocate_tensors()\n",
    "\n",
    "# Get input and output tensor details\n",
    "input_details = interpreter.get_input_details()\n",
    "output_details = interpreter.get_output_details()"
   ]
  },
  {
   "cell_type": "code",
   "execution_count": 31,
   "id": "c90763de",
   "metadata": {},
   "outputs": [
    {
     "name": "stdout",
     "output_type": "stream",
     "text": [
      "Input 0: shape=[ 1  5 32 32  1], dtype=<class 'numpy.float32'>, quant=(0.0, 0)\n",
      "Input 1: shape=[ 1  5 32 32  1], dtype=<class 'numpy.float32'>, quant=(0.0, 0)\n",
      "Input 2: shape=[ 1  5 32 32  1], dtype=<class 'numpy.float32'>, quant=(0.0, 0)\n",
      "Output 0: shape=[ 1 13], dtype=<class 'numpy.float32'>, quant=(0.0, 0)\n"
     ]
    }
   ],
   "source": [
    "for i, d in enumerate(input_details):\n",
    "    print(f\"Input {i}: shape={d['shape']}, dtype={d['dtype']}, quant={d['quantization']}\")\n",
    "\n",
    "for i, d in enumerate(output_details):\n",
    "    print(f\"Output {i}: shape={d['shape']}, dtype={d['dtype']}, quant={d['quantization']}\")"
   ]
  },
  {
   "cell_type": "code",
   "execution_count": 32,
   "id": "71e2ea07",
   "metadata": {},
   "outputs": [],
   "source": [
    "test_gen = MultiRadarSequenceGenerator(\n",
    "    test_samples,\n",
    "    label_map,\n",
    "    batch_size=32,\n",
    "    seq_len=SEQ_LEN,\n",
    "    shuffle_data=False\n",
    ")"
   ]
  },
  {
   "cell_type": "code",
   "execution_count": 34,
   "id": "85e92421",
   "metadata": {},
   "outputs": [
    {
     "data": {
      "image/png": "[encoded data removed]",
      "text/plain": [
       "<Figure size 1000x800 with 2 Axes>"
      ]
     },
     "metadata": {},
     "output_type": "display_data"
    },
    {
     "name": "stdout",
     "output_type": "stream",
     "text": [
      "               precision    recall  f1-score   support\n",
      "\n",
      "       Circle       1.00      1.00      1.00        90\n",
      "  FastSwipeRL       0.98      1.00      0.99        90\n",
      "    FingerRub       0.83      0.96      0.89        90\n",
      " FingerSlider       0.98      0.93      0.95        87\n",
      "       NoHand       1.00      1.00      1.00        90\n",
      "     PalmHold       1.00      1.00      1.00        89\n",
      "     PalmTilt       0.83      1.00      0.91        90\n",
      "   PinchIndex       0.71      0.52      0.60        90\n",
      "   PinchPinky       0.60      0.68      0.64        90\n",
      "         Pull       0.99      0.97      0.98        90\n",
      "         Push       1.00      0.99      0.99        90\n",
      "RandomGesture       0.91      0.78      0.84        90\n",
      "  SlowSwipeRL       1.00      0.98      0.99        90\n",
      "\n",
      "     accuracy                           0.91      1166\n",
      "    macro avg       0.91      0.91      0.91      1166\n",
      " weighted avg       0.91      0.91      0.91      1166\n",
      "\n"
     ]
    }
   ],
   "source": [
    "def run_tflite_inference(rtm, dtm, atm):\n",
    "    interpreter.set_tensor(input_details[0]['index'], rtm.astype(input_details[0]['dtype']))\n",
    "    interpreter.set_tensor(input_details[1]['index'], dtm.astype(input_details[1]['dtype']))\n",
    "    interpreter.set_tensor(input_details[2]['index'], atm.astype(input_details[2]['dtype']))\n",
    "    interpreter.invoke()\n",
    "    output_data = interpreter.get_tensor(output_details[0]['index'])\n",
    "    return output_data\n",
    "\n",
    "# Collect predictions\n",
    "y_true = []\n",
    "y_pred = []\n",
    "\n",
    "for X_batch, y_batch in test_gen:\n",
    "    batch_size = X_batch[0].shape[0]\n",
    "    for i in range(batch_size):\n",
    "        rtm = X_batch[0][i:i+1]  # shape: (1, 5, 32, 32, 3)\n",
    "        dtm = X_batch[1][i:i+1]\n",
    "        atm = X_batch[2][i:i+1]\n",
    "        output = run_tflite_inference(rtm, dtm, atm)\n",
    "        y_pred.append(np.argmax(output))\n",
    "        y_true.append(y_batch[i])\n",
    "\n",
    "# Convert to arrays\n",
    "y_true = np.array(y_true)\n",
    "y_pred = np.array(y_pred)\n",
    "\n",
    "# Evaluate: confusion matrix and report\n",
    "cm = confusion_matrix(y_true, y_pred)\n",
    "cm_percent = cm.astype('float') / cm.sum(axis=1, keepdims=True) * 100\n",
    "gesture_names = list(label_map.keys())\n",
    "\n",
    "plt.figure(figsize=(10, 8))\n",
    "sns.heatmap(cm_percent, annot=True, fmt='.1f', cmap='Blues',\n",
    "            xticklabels=gesture_names, yticklabels=gesture_names)\n",
    "plt.xlabel('Predicted Label')\n",
    "plt.ylabel('True Label')\n",
    "plt.title('Confusion Matrix (%) on TFLite Test Set')\n",
    "plt.tight_layout()\n",
    "plt.show()\n",
    "\n",
    "print(classification_report(y_true, y_pred, target_names=gesture_names))"
   ]
  },
  {
   "cell_type": "markdown",
   "id": "4f1fa651",
   "metadata": {},
   "source": [
    "# Quantization int8"
   ]
  },
  {
   "cell_type": "code",
   "execution_count": 37,
   "id": "864c48f8",
   "metadata": {},
   "outputs": [
    {
     "name": "stdout",
     "output_type": "stream",
     "text": [
      "WARNING:tensorflow:Error in loading the saved optimizer state. As a result, your model is starting with a freshly initialized optimizer.\n"
     ]
    },
    {
     "name": "stderr",
     "output_type": "stream",
     "text": [
      "WARNING:tensorflow:Error in loading the saved optimizer state. As a result, your model is starting with a freshly initialized optimizer.\n",
      "WARNING:absl:Please consider providing the trackable_obj argument in the from_concrete_functions. Providing without the trackable_obj argument is deprecated and it will use the deprecated conversion path.\n"
     ]
    },
    {
     "name": "stdout",
     "output_type": "stream",
     "text": [
      "INT8 quantization failed: Could not translate MLIR to FlatBuffer. UNKNOWN: c:\\Users\\ioana\\anaconda3\\envs\\tiny_radar\\lib\\site-packages\\tensorflow\\python\\eager\\polymorphic_function\\polymorphic_function.py:695:1: error: 'tf.TensorListReserve' op is neither a custom op nor a flex op\n",
      "    self._concrete_variable_creation_fn = tracing_compilation.trace_function(\n",
      "^\n",
      "c:\\Users\\ioana\\anaconda3\\envs\\tiny_radar\\lib\\site-packages\\tensorflow\\python\\eager\\polymorphic_function\\tracing_compilation.py:178:1: note: called from\n",
      "    concrete_function = _maybe_define_function(\n",
      "^\n",
      "c:\\Users\\ioana\\anaconda3\\envs\\tiny_radar\\lib\\site-packages\\tensorflow\\python\\eager\\polymorphic_function\\tracing_compilation.py:283:1: note: called from\n",
      "        concrete_function = _create_concrete_function(\n",
      "^\n",
      "c:\\Users\\ioana\\anaconda3\\envs\\tiny_radar\\lib\\site-packages\\tensorflow\\python\\eager\\polymorphic_function\\tracing_compilation.py:310:1: note: called from\n",
      "  traced_func_graph = func_graph_module.func_graph_from_py_func(\n",
      "^\n",
      "c:\\Users\\ioana\\anaconda3\\envs\\tiny_radar\\lib\\site-packages\\tensorflow\\python\\framework\\func_graph.py:1059:1: note: called from\n",
      "    func_outputs = python_func(*func_args, **func_kwargs)\n",
      "^\n",
      "c:\\Users\\ioana\\anaconda3\\envs\\tiny_radar\\lib\\site-packages\\tensorflow\\python\\eager\\polymorphic_function\\polymorphic_function.py:598:1: note: called from\n",
      "          out = weak_wrapped_fn().__wrapped__(*args, **kwds)\n",
      "^\n",
      "c:\\Users\\ioana\\anaconda3\\envs\\tiny_radar\\lib\\site-packages\\tensorflow\\python\\eager\\polymorphic_function\\autograph_util.py:41:1: note: called from\n",
      "      return api.converted_call(\n",
      "^\n",
      "C:\\Users\\ioana\\AppData\\Local\\Temp\\ipykernel_29772\\1139865724.py:12:1: note: called from\n",
      "c:\\Users\\ioana\\anaconda3\\envs\\tiny_radar\\lib\\site-packages\\keras\\src\\utils\\traceback_utils.py:65:1: note: called from\n",
      "            return fn(*args, **kwargs)\n",
      "^\n",
      "c:\\Users\\ioana\\anaconda3\\envs\\tiny_radar\\lib\\site-packages\\keras\\src\\engine\\training.py:590:1: note: called from\n",
      "        return super().__call__(*args, **kwargs)\n",
      "^\n",
      "c:\\Users\\ioana\\anaconda3\\envs\\tiny_radar\\lib\\site-packages\\tensorflow\\python\\eager\\polymorphic_function\\polymorphic_function.py:695:1: note: Error code: ERROR_NEEDS_FLEX_OPS\n",
      "    self._concrete_variable_creation_fn = tracing_compilation.trace_function(\n",
      "^\n",
      "c:\\Users\\ioana\\anaconda3\\envs\\tiny_radar\\lib\\site-packages\\tensorflow\\python\\eager\\polymorphic_function\\polymorphic_function.py:695:1: error: 'tf.TensorListStack' op is neither a custom op nor a flex op\n",
      "    self._concrete_variable_creation_fn = tracing_compilation.trace_function(\n",
      "^\n",
      "c:\\Users\\ioana\\anaconda3\\envs\\tiny_radar\\lib\\site-packages\\tensorflow\\python\\eager\\polymorphic_function\\tracing_compilation.py:178:1: note: called from\n",
      "    concrete_function = _maybe_define_function(\n",
      "^\n",
      "c:\\Users\\ioana\\anaconda3\\envs\\tiny_radar\\lib\\site-packages\\tensorflow\\python\\eager\\polymorphic_function\\tracing_compilation.py:283:1: note: called from\n",
      "        concrete_function = _create_concrete_function(\n",
      "^\n",
      "c:\\Users\\ioana\\anaconda3\\envs\\tiny_radar\\lib\\site-packages\\tensorflow\\python\\eager\\polymorphic_function\\tracing_compilation.py:310:1: note: called from\n",
      "  traced_func_graph = func_graph_module.func_graph_from_py_func(\n",
      "^\n",
      "c:\\Users\\ioana\\anaconda3\\envs\\tiny_radar\\lib\\site-packages\\tensorflow\\python\\framework\\func_graph.py:1059:1: note: called from\n",
      "    func_outputs = python_func(*func_args, **func_kwargs)\n",
      "^\n",
      "c:\\Users\\ioana\\anaconda3\\envs\\tiny_radar\\lib\\site-packages\\tensorflow\\python\\eager\\polymorphic_function\\polymorphic_function.py:598:1: note: called from\n",
      "          out = weak_wrapped_fn().__wrapped__(*args, **kwds)\n",
      "^\n",
      "c:\\Users\\ioana\\anaconda3\\envs\\tiny_radar\\lib\\site-packages\\tensorflow\\python\\eager\\polymorphic_function\\autograph_util.py:41:1: note: called from\n",
      "      return api.converted_call(\n",
      "^\n",
      "C:\\Users\\ioana\\AppData\\Local\\Temp\\ipykernel_29772\\1139865724.py:12:1: note: called from\n",
      "c:\\Users\\ioana\\anaconda3\\envs\\tiny_radar\\lib\\site-packages\\keras\\src\\utils\\traceback_utils.py:65:1: note: called from\n",
      "            return fn(*args, **kwargs)\n",
      "^\n",
      "c:\\Users\\ioana\\anaconda3\\envs\\tiny_radar\\lib\\site-packages\\keras\\src\\engine\\training.py:590:1: note: called from\n",
      "        return super().__call__(*args, **kwargs)\n",
      "^\n",
      "c:\\Users\\ioana\\anaconda3\\envs\\tiny_radar\\lib\\site-packages\\tensorflow\\python\\eager\\polymorphic_function\\polymorphic_function.py:695:1: note: Error code: ERROR_NEEDS_FLEX_OPS\n",
      "    self._concrete_variable_creation_fn = tracing_compilation.trace_function(\n",
      "^\n",
      "c:\\Users\\ioana\\anaconda3\\envs\\tiny_radar\\lib\\site-packages\\tensorflow\\python\\eager\\polymorphic_function\\polymorphic_function.py:695:1: error: 'tf.TensorListSetItem' op is neither a custom op nor a flex op\n",
      "    self._concrete_variable_creation_fn = tracing_compilation.trace_function(\n",
      "^\n",
      "c:\\Users\\ioana\\anaconda3\\envs\\tiny_radar\\lib\\site-packages\\tensorflow\\python\\eager\\polymorphic_function\\polymorphic_function.py:695:1: note: called from\n",
      "    self._concrete_variable_creation_fn = tracing_compilation.trace_function(\n",
      "^\n",
      "c:\\Users\\ioana\\anaconda3\\envs\\tiny_radar\\lib\\site-packages\\tensorflow\\python\\eager\\polymorphic_function\\tracing_compilation.py:178:1: note: called from\n",
      "    concrete_function = _maybe_define_function(\n",
      "^\n",
      "c:\\Users\\ioana\\anaconda3\\envs\\tiny_radar\\lib\\site-packages\\tensorflow\\python\\eager\\polymorphic_function\\tracing_compilation.py:283:1: note: called from\n",
      "        concrete_function = _create_concrete_function(\n",
      "^\n",
      "c:\\Users\\ioana\\anaconda3\\envs\\tiny_radar\\lib\\site-packages\\tensorflow\\python\\eager\\polymorphic_function\\tracing_compilation.py:310:1: note: called from\n",
      "  traced_func_graph = func_graph_module.func_graph_from_py_func(\n",
      "^\n",
      "c:\\Users\\ioana\\anaconda3\\envs\\tiny_radar\\lib\\site-packages\\tensorflow\\python\\framework\\func_graph.py:1059:1: note: called from\n",
      "    func_outputs = python_func(*func_args, **func_kwargs)\n",
      "^\n",
      "c:\\Users\\ioana\\anaconda3\\envs\\tiny_radar\\lib\\site-packages\\tensorflow\\python\\eager\\polymorphic_function\\polymorphic_function.py:598:1: note: called from\n",
      "          out = weak_wrapped_fn().__wrapped__(*args, **kwds)\n",
      "^\n",
      "c:\\Users\\ioana\\anaconda3\\envs\\tiny_radar\\lib\\site-packages\\tensorflow\\python\\eager\\polymorphic_function\\autograph_util.py:41:1: note: called from\n",
      "      return api.converted_call(\n",
      "^\n",
      "C:\\Users\\ioana\\AppData\\Local\\Temp\\ipykernel_29772\\1139865724.py:12:1: note: called from\n",
      "c:\\Users\\ioana\\anaconda3\\envs\\tiny_radar\\lib\\site-packages\\keras\\src\\utils\\traceback_utils.py:65:1: note: called from\n",
      "            return fn(*args, **kwargs)\n",
      "^\n",
      "c:\\Users\\ioana\\anaconda3\\envs\\tiny_radar\\lib\\site-packages\\keras\\src\\engine\\training.py:590:1: note: called from\n",
      "        return super().__call__(*args, **kwargs)\n",
      "^\n",
      "c:\\Users\\ioana\\anaconda3\\envs\\tiny_radar\\lib\\site-packages\\tensorflow\\python\\eager\\polymorphic_function\\polymorphic_function.py:695:1: note: Error code: ERROR_NEEDS_FLEX_OPS\n",
      "    self._concrete_variable_creation_fn = tracing_compilation.trace_function(\n",
      "^\n",
      "<unknown>:0: error: failed while converting: 'main': \n",
      "Some ops are not supported by the native TFLite runtime, you can enable TF kernels fallback using TF Select. See instructions: https://www.tensorflow.org/lite/guide/ops_select \n",
      "TF Select ops: TensorListReserve, TensorListSetItem, TensorListStack\n",
      "Details:\n",
      "\ttf.TensorListReserve(tensor<2xi32>, tensor<i32>) -> (tensor<!tf_type.variant<tensor<1x128xf32>>>) : {device = \"\"}\n",
      "\ttf.TensorListSetItem(tensor<!tf_type.variant<tensor<1x128xf32>>>, tensor<i32>, tensor<1x128xf32>) -> (tensor<!tf_type.variant<tensor<1x128xf32>>>) : {device = \"\", resize_if_index_out_of_bounds = false}\n",
      "\ttf.TensorListStack(tensor<!tf_type.variant<tensor<1x128xf32>>>, tensor<2xi32>) -> (tensor<1x1x128xf32>) : {device = \"\", num_elements = 1 : i64}\n",
      "\n",
      "\n"
     ]
    }
   ],
   "source": [
    "# Load your model\n",
    "best_model_path = r'C:\\Users\\ioana\\Documents\\VS Projects\\ML-on-Microcontrollers-Project-Ioana-Gidiuta\\Code\\model_training_grayscale_images\\Models\\3_radar_CNN\\best_model_epoch46_valacc0.9803.h5'\n",
    "model = tf.keras.models.load_model(best_model_path)\n",
    "\n",
    "# Wrap in tf.function with fixed input signature\n",
    "@tf.function(input_signature=[\n",
    "    tf.TensorSpec(shape=[1, 5, 32, 32, 1], dtype=tf.float32, name=\"rtm_input\"),\n",
    "    tf.TensorSpec(shape=[1, 5, 32, 32, 1], dtype=tf.float32, name=\"dtm_input\"),\n",
    "    tf.TensorSpec(shape=[1, 5, 32, 32, 1], dtype=tf.float32, name=\"atm_input\")\n",
    "])\n",
    "def wrapped_model(rtm, dtm, atm):\n",
    "    return model([rtm, dtm, atm])\n",
    "\n",
    "concrete_func = wrapped_model.get_concrete_function()\n",
    "\n",
    "# Define representative dataset for calibration\n",
    "def representative_dataset():\n",
    "    for X_batch, _ in test_gen:  # test_gen must be defined\n",
    "        for i in range(min(len(X_batch[0]), 100)):  # limit to 100 samples\n",
    "            rtm = X_batch[0][i:i+1].astype(np.float32)\n",
    "            dtm = X_batch[1][i:i+1].astype(np.float32)\n",
    "            atm = X_batch[2][i:i+1].astype(np.float32)\n",
    "            yield [rtm, dtm, atm]\n",
    "\n",
    "# Create TFLite converter\n",
    "converter = tf.lite.TFLiteConverter.from_concrete_functions([concrete_func])\n",
    "converter.optimizations = [tf.lite.Optimize.DEFAULT]\n",
    "converter.representative_dataset = representative_dataset\n",
    "\n",
    "# LSTM-safe settings\n",
    "converter.target_spec.supported_ops = [\n",
    "    tf.lite.OpsSet.TFLITE_BUILTINS,\n",
    "    # tf.lite.OpsSet.SELECT_TF_OPS\n",
    "]\n",
    "converter._experimental_lower_tensor_list_ops = False\n",
    "\n",
    "# 5. Convert\n",
    "try:\n",
    "    tflite_model_int8 = converter.convert()\n",
    "    save_path = \"bb_quantized_model_int8.tflite\"\n",
    "    with open(save_path, \"wb\") as f:\n",
    "        f.write(tflite_model_int8)\n",
    "    print(\"INT8 quantization successful\")\n",
    "    print(f\"Model size: {os.path.getsize(save_path) / 1024:.2f} KB\")\n",
    "except Exception as e:\n",
    "    print(f\"INT8 quantization failed: {str(e)}\")\n"
   ]
  },
  {
   "cell_type": "code",
   "execution_count": 26,
   "id": "d405790f",
   "metadata": {},
   "outputs": [],
   "source": [
    "# Load the TFLite model and allocate tensors\n",
    "interpreter = tf.lite.Interpreter(model_path=r\"C:\\Users\\ioana\\Documents\\VS Projects\\ML-on-Microcontrollers-Project-Ioana-Gidiuta\\Code\\model_training_grayscale_images\\aa_quantized_model_int8.tflite\")\n",
    "interpreter.allocate_tensors()\n",
    "\n",
    "# Get input and output tensor details\n",
    "input_details = interpreter.get_input_details()\n",
    "output_details = interpreter.get_output_details()"
   ]
  },
  {
   "cell_type": "code",
   "execution_count": 27,
   "id": "76dee51a",
   "metadata": {},
   "outputs": [
    {
     "name": "stdout",
     "output_type": "stream",
     "text": [
      "Input details: [{'name': 'rtm_input', 'index': 0, 'shape': array([ 1,  5, 32, 32,  1]), 'shape_signature': array([ 1,  5, 32, 32,  1]), 'dtype': <class 'numpy.float32'>, 'quantization': (0.0, 0), 'quantization_parameters': {'scales': array([], dtype=float32), 'zero_points': array([], dtype=int32), 'quantized_dimension': 0}, 'sparsity_parameters': {}}, {'name': 'dtm_input', 'index': 1, 'shape': array([ 1,  5, 32, 32,  1]), 'shape_signature': array([ 1,  5, 32, 32,  1]), 'dtype': <class 'numpy.float32'>, 'quantization': (0.0, 0), 'quantization_parameters': {'scales': array([], dtype=float32), 'zero_points': array([], dtype=int32), 'quantized_dimension': 0}, 'sparsity_parameters': {}}, {'name': 'atm_input', 'index': 2, 'shape': array([ 1,  5, 32, 32,  1]), 'shape_signature': array([ 1,  5, 32, 32,  1]), 'dtype': <class 'numpy.float32'>, 'quantization': (0.0, 0), 'quantization_parameters': {'scales': array([], dtype=float32), 'zero_points': array([], dtype=int32), 'quantized_dimension': 0}, 'sparsity_parameters': {}}]\n",
      "Output details: [{'name': 'Identity', 'index': 63, 'shape': array([ 1, 13]), 'shape_signature': array([ 1, 13]), 'dtype': <class 'numpy.float32'>, 'quantization': (0.0, 0), 'quantization_parameters': {'scales': array([], dtype=float32), 'zero_points': array([], dtype=int32), 'quantized_dimension': 0}, 'sparsity_parameters': {}}]\n"
     ]
    }
   ],
   "source": [
    "print(\"Input details:\", input_details)\n",
    "print(\"Output details:\", output_details)"
   ]
  },
  {
   "cell_type": "code",
   "execution_count": 28,
   "id": "b44a8a14",
   "metadata": {},
   "outputs": [
    {
     "data": {
      "image/png": "[encoded data removed]",
      "text/plain": [
       "<Figure size 1000x800 with 2 Axes>"
      ]
     },
     "metadata": {},
     "output_type": "display_data"
    },
    {
     "name": "stdout",
     "output_type": "stream",
     "text": [
      "               precision    recall  f1-score   support\n",
      "\n",
      "       Circle       1.00      1.00      1.00        90\n",
      "  FastSwipeRL       0.98      1.00      0.99        90\n",
      "    FingerRub       0.83      0.96      0.89        90\n",
      " FingerSlider       0.98      0.92      0.95        87\n",
      "       NoHand       1.00      1.00      1.00        90\n",
      "     PalmHold       1.00      1.00      1.00        89\n",
      "     PalmTilt       0.83      1.00      0.90        90\n",
      "   PinchIndex       0.67      0.50      0.57        90\n",
      "   PinchPinky       0.58      0.66      0.61        90\n",
      "         Pull       0.99      0.97      0.98        90\n",
      "         Push       1.00      0.99      0.99        90\n",
      "RandomGesture       0.91      0.77      0.83        90\n",
      "  SlowSwipeRL       1.00      0.98      0.99        90\n",
      "\n",
      "     accuracy                           0.90      1166\n",
      "    macro avg       0.90      0.90      0.90      1166\n",
      " weighted avg       0.90      0.90      0.90      1166\n",
      "\n"
     ]
    }
   ],
   "source": [
    "def run_tflite_inference(rtm, dtm, atm):\n",
    "    interpreter.set_tensor(input_details[0]['index'], rtm.astype(input_details[0]['dtype']))\n",
    "    interpreter.set_tensor(input_details[1]['index'], dtm.astype(input_details[1]['dtype']))\n",
    "    interpreter.set_tensor(input_details[2]['index'], atm.astype(input_details[2]['dtype']))\n",
    "    interpreter.invoke()\n",
    "    output_data = interpreter.get_tensor(output_details[0]['index'])\n",
    "    return output_data\n",
    "\n",
    "# Collect predictions\n",
    "y_true = []\n",
    "y_pred = []\n",
    "\n",
    "for X_batch, y_batch in test_gen:\n",
    "    batch_size = X_batch[0].shape[0]\n",
    "    for i in range(batch_size):\n",
    "        rtm = X_batch[0][i:i+1]  # shape: (1, 5, 32, 32, 1)\n",
    "        dtm = X_batch[1][i:i+1]\n",
    "        atm = X_batch[2][i:i+1]\n",
    "        output = run_tflite_inference(rtm, dtm, atm)\n",
    "        y_pred.append(np.argmax(output))\n",
    "        y_true.append(y_batch[i])\n",
    "\n",
    "# Convert to arrays\n",
    "y_true = np.array(y_true)\n",
    "y_pred = np.array(y_pred)\n",
    "\n",
    "# Evaluate: confusion matrix and report\n",
    "cm = confusion_matrix(y_true, y_pred)\n",
    "cm_percent = cm.astype('float') / cm.sum(axis=1, keepdims=True) * 100\n",
    "gesture_names = list(label_map.keys())\n",
    "\n",
    "plt.figure(figsize=(10, 8))\n",
    "sns.heatmap(cm_percent, annot=True, fmt='.1f', cmap='Blues',\n",
    "            xticklabels=gesture_names, yticklabels=gesture_names)\n",
    "plt.xlabel('Predicted Label')\n",
    "plt.ylabel('True Label')\n",
    "plt.title('Confusion Matrix (%) on TFLite Test Set')\n",
    "plt.tight_layout()\n",
    "plt.show()\n",
    "\n",
    "print(classification_report(y_true, y_pred, target_names=gesture_names))"
   ]
  },
  {
   "cell_type": "markdown",
   "id": "f3877916",
   "metadata": {},
   "source": [
    "# Conversion to TFLite of Pruned Model"
   ]
  },
  {
   "cell_type": "code",
   "execution_count": 7,
   "id": "876c5963",
   "metadata": {},
   "outputs": [],
   "source": [
    "test_gen = MultiRadarSequenceGenerator(\n",
    "    test_samples,\n",
    "    label_map,\n",
    "    batch_size=32,\n",
    "    seq_len=SEQ_LEN,\n",
    "    shuffle_data=False\n",
    ")"
   ]
  },
  {
   "cell_type": "code",
   "execution_count": 12,
   "id": "4b2c61e3",
   "metadata": {},
   "outputs": [
    {
     "name": "stdout",
     "output_type": "stream",
     "text": [
      "WARNING:tensorflow:From c:\\Users\\ioana\\anaconda3\\envs\\tiny_radar\\lib\\site-packages\\keras\\src\\backend.py:1398: The name tf.executing_eagerly_outside_functions is deprecated. Please use tf.compat.v1.executing_eagerly_outside_functions instead.\n",
      "\n",
      "WARNING:tensorflow:From c:\\Users\\ioana\\anaconda3\\envs\\tiny_radar\\lib\\site-packages\\keras\\src\\layers\\pooling\\max_pooling2d.py:161: The name tf.nn.max_pool is deprecated. Please use tf.nn.max_pool2d instead.\n",
      "\n",
      "WARNING:tensorflow:No training configuration found in the save file, so the model was *not* compiled. Compile it manually.\n"
     ]
    }
   ],
   "source": [
    "model_path = r'C:\\Users\\ioana\\Documents\\VS Projects\\ML-on-Microcontrollers-Project-Ioana-Gidiuta\\Code\\model_training\\Good_Models\\h5_models\\mmWave_orig_pruned_float32.h5'\n",
    "pruned_model = tf.keras.models.load_model(model_path)\n",
    "model = tfmot.sparsity.keras.strip_pruning(pruned_model)"
   ]
  },
  {
   "cell_type": "code",
   "execution_count": 14,
   "id": "23196f55",
   "metadata": {},
   "outputs": [
    {
     "name": "stderr",
     "output_type": "stream",
     "text": [
      "WARNING:absl:Please consider providing the trackable_obj argument in the from_concrete_functions. Providing without the trackable_obj argument is deprecated and it will use the deprecated conversion path.\n"
     ]
    },
    {
     "name": "stdout",
     "output_type": "stream",
     "text": [
      "Saved: mmWave_orig_pruned_float32.tflite\n"
     ]
    }
   ],
   "source": [
    "@tf.function(input_signature=[\n",
    "    tf.TensorSpec(shape=[1, 5, 32, 32, 3], dtype=tf.float32, name=\"rtm\"),\n",
    "    tf.TensorSpec(shape=[1, 5, 32, 32, 3], dtype=tf.float32, name=\"dtm\"),\n",
    "    tf.TensorSpec(shape=[1, 5, 32, 32, 3], dtype=tf.float32, name=\"atm\"),\n",
    "])\n",
    "def wrapped_model(rtm, dtm, atm):\n",
    "    return model([rtm, dtm, atm])\n",
    "concrete_func = wrapped_model.get_concrete_function()\n",
    "converter = tf.lite.TFLiteConverter.from_concrete_functions([concrete_func])\n",
    "converter.optimizations = []  # No quantization (pure float32)\n",
    "\n",
    "tflite_model = converter.convert()\n",
    "\n",
    "# Save\n",
    "with open(\"mmWave_orig_pruned_float32.tflite\", \"wb\") as f:\n",
    "    f.write(tflite_model)\n",
    "\n",
    "print(\"Saved: mmWave_orig_pruned_float32.tflite\")"
   ]
  },
  {
   "cell_type": "markdown",
   "id": "11468b0c",
   "metadata": {},
   "source": [
    "# Float16 Quantization for pruned model"
   ]
  },
  {
   "cell_type": "code",
   "execution_count": null,
   "id": "ebffe38f",
   "metadata": {},
   "outputs": [],
   "source": [
    "model_path = r'C:\\Users\\ioana\\Documents\\VS Projects\\ML-on-Microcontrollers-Project-Ioana-Gidiuta\\Code\\model_training\\Good_Models\\h5_models\\mmWave_orig_pruned_float32.h5'\n",
    "pruned_model = tf.keras.models.load_model(model_path)\n",
    "model = tfmot.sparsity.keras.strip_pruning(pruned_model)"
   ]
  },
  {
   "cell_type": "code",
   "execution_count": 19,
   "id": "ccc0e347",
   "metadata": {},
   "outputs": [
    {
     "name": "stderr",
     "output_type": "stream",
     "text": [
      "WARNING:absl:Please consider providing the trackable_obj argument in the from_concrete_functions. Providing without the trackable_obj argument is deprecated and it will use the deprecated conversion path.\n"
     ]
    },
    {
     "name": "stdout",
     "output_type": "stream",
     "text": [
      "Saved: mmWave_orig_pruned_float16.tflite\n"
     ]
    }
   ],
   "source": [
    "@tf.function(input_signature=[\n",
    "    tf.TensorSpec(shape=[1, 5, 32, 32, 3], dtype=tf.float32, name=\"rtm\"),\n",
    "    tf.TensorSpec(shape=[1, 5, 32, 32, 3], dtype=tf.float32, name=\"dtm\"),\n",
    "    tf.TensorSpec(shape=[1, 5, 32, 32, 3], dtype=tf.float32, name=\"atm\"),\n",
    "])\n",
    "def wrapped_model(rtm, dtm, atm):\n",
    "    return model([rtm, dtm, atm])\n",
    "concrete_func = wrapped_model.get_concrete_function()\n",
    "\n",
    "converter = tf.lite.TFLiteConverter.from_concrete_functions([concrete_func])\n",
    "converter.optimizations = [tf.lite.Optimize.DEFAULT]\n",
    "\n",
    "# Enable float16 quantization\n",
    "converter.target_spec.supported_types = [tf.float16]\n",
    "\n",
    "# Still allow float32 inputs/outputs for compatibility\n",
    "converter.inference_input_type = tf.float32\n",
    "converter.inference_output_type = tf.float32\n",
    "\n",
    "# Convert\n",
    "tflite_model_fp16 = converter.convert()\n",
    "with open(\"mmWave_orig_pruned_float16.tflite\", \"wb\") as f:\n",
    "    f.write(tflite_model_fp16)\n",
    "\n",
    "print(\"Saved: mmWave_orig_pruned_float16.tflite\")\n"
   ]
  },
  {
   "cell_type": "code",
   "execution_count": null,
   "id": "7e9a9327",
   "metadata": {},
   "outputs": [
    {
     "data": {
      "image/png": "[encoded data removed]",
      "text/plain": [
       "<Figure size 1000x800 with 2 Axes>"
      ]
     },
     "metadata": {},
     "output_type": "display_data"
    },
    {
     "name": "stdout",
     "output_type": "stream",
     "text": [
      "\n",
      "Classification Report:\n",
      "               precision    recall  f1-score   support\n",
      "\n",
      "       Circle     1.0000    1.0000    1.0000        90\n",
      "  FastSwipeRL     0.9783    1.0000    0.9890        90\n",
      "    FingerRub     0.9140    0.9444    0.9290        90\n",
      " FingerSlider     0.9880    0.9425    0.9647        87\n",
      "       NoHand     1.0000    1.0000    1.0000        90\n",
      "     PalmHold     1.0000    1.0000    1.0000        89\n",
      "     PalmTilt     0.8824    1.0000    0.9375        90\n",
      "   PinchIndex     0.8197    0.5556    0.6623        90\n",
      "   PinchPinky     0.6387    0.8444    0.7273        90\n",
      "         Pull     1.0000    0.9667    0.9831        90\n",
      "         Push     0.9574    1.0000    0.9783        90\n",
      "RandomGesture     1.0000    0.8667    0.9286        90\n",
      "  SlowSwipeRL     1.0000    0.9778    0.9888        90\n",
      "\n",
      "     accuracy                         0.9305      1166\n",
      "    macro avg     0.9368    0.9306    0.9299      1166\n",
      " weighted avg     0.9366    0.9305    0.9297      1166\n",
      "\n"
     ]
    }
   ],
   "source": [
    "interpreter = tf.lite.Interpreter(model_path=\"mmWave_orig_pruned_float16.tflite\")\n",
    "interpreter.allocate_tensors()\n",
    "input_details = interpreter.get_input_details()\n",
    "output_details = interpreter.get_output_details()\n",
    "y_true = []\n",
    "y_pred = []\n",
    "\n",
    "for X_batch, y_batch in test_gen:\n",
    "    batch_size = len(y_batch)\n",
    "    \n",
    "    for i in range(batch_size):\n",
    "        input_data = [\n",
    "            X[i:i+1].astype(np.float32)\n",
    "            for X in X_batch\n",
    "        ]\n",
    "        \n",
    "        # Set input tensors\n",
    "        for idx, detail in enumerate(input_details):\n",
    "            interpreter.set_tensor(detail['index'], input_data[idx])\n",
    "\n",
    "        interpreter.invoke()\n",
    "        \n",
    "        # Get output\n",
    "        output = interpreter.get_tensor(output_details[0]['index'])\n",
    "        predicted_label = np.argmax(output[0])\n",
    "\n",
    "        y_true.append(y_batch[i])\n",
    "        y_pred.append(predicted_label)\n",
    "\n",
    "# Convert to arrays\n",
    "y_true = np.array(y_true)\n",
    "y_pred = np.array(y_pred)\n",
    "# Reverse label_map to get names\n",
    "inv_label_map = {v: k for k, v in label_map.items()}\n",
    "gesture_names = [inv_label_map[i] for i in sorted(inv_label_map)]\n",
    "\n",
    "# Confusion Matrix\n",
    "cm = confusion_matrix(y_true, y_pred)\n",
    "cm_percent = cm.astype('float') / cm.sum(axis=1, keepdims=True) * 100\n",
    "\n",
    "plt.figure(figsize=(10, 8))\n",
    "sns.heatmap(cm_percent, annot=True, fmt='.1f', cmap='Blues',\n",
    "            xticklabels=gesture_names, yticklabels=gesture_names)\n",
    "plt.xlabel('Predicted Label')\n",
    "plt.ylabel('True Label')\n",
    "plt.title('Confusion Matrix (%) on TFLite Model')\n",
    "plt.tight_layout()\n",
    "plt.show()\n",
    "\n",
    "# Classification Report\n",
    "print(\"\\nClassification Report:\")\n",
    "print(classification_report(y_true, y_pred, target_names=gesture_names, digits=4))\n"
   ]
  },
  {
   "cell_type": "markdown",
   "id": "2b598709",
   "metadata": {},
   "source": [
    "# Pruning for int8 model"
   ]
  },
  {
   "cell_type": "code",
   "execution_count": 6,
   "id": "11a7eeeb",
   "metadata": {},
   "outputs": [],
   "source": [
    "test_gen = MultiRadarSequenceGenerator(\n",
    "    test_samples,\n",
    "    label_map,\n",
    "    batch_size=32,\n",
    "    seq_len=SEQ_LEN,\n",
    "    shuffle_data=False\n",
    ")"
   ]
  },
  {
   "cell_type": "code",
   "execution_count": 31,
   "id": "6a9c81be",
   "metadata": {},
   "outputs": [
    {
     "name": "stdout",
     "output_type": "stream",
     "text": [
      "WARNING:tensorflow:Error in loading the saved optimizer state. As a result, your model is starting with a freshly initialized optimizer.\n"
     ]
    },
    {
     "name": "stderr",
     "output_type": "stream",
     "text": [
      "WARNING:tensorflow:Error in loading the saved optimizer state. As a result, your model is starting with a freshly initialized optimizer.\n"
     ]
    },
    {
     "name": "stdout",
     "output_type": "stream",
     "text": [
      "=== Prunable Layer Summary ===\n",
      "conv2d_14: 1,216 parameters\n",
      "dense_42: 524,416 parameters\n",
      "conv2d_14: 1,216 parameters\n",
      "dense_42: 524,416 parameters\n",
      "conv2d_14: 1,216 parameters\n",
      "dense_42: 524,416 parameters\n",
      "dense_43: 8,256 parameters\n",
      "dense_44: 845 parameters\n",
      "Total prunable parameters: 1,585,997\n"
     ]
    }
   ],
   "source": [
    "def count_prunable_params(model):\n",
    "    total_params = 0\n",
    "    layer_info = []\n",
    "\n",
    "    def collect_prunable_layers(layer):\n",
    "        nonlocal total_params\n",
    "\n",
    "        # Handle TimeDistributed or wrapper layers\n",
    "        if isinstance(layer, tf.keras.layers.TimeDistributed):\n",
    "            return collect_prunable_layers(layer.layer)\n",
    "        elif isinstance(layer, tf.keras.Model):  # Handle nested models\n",
    "            for sublayer in layer.layers:\n",
    "                collect_prunable_layers(sublayer)\n",
    "        elif isinstance(layer, (tf.keras.layers.Conv2D, tf.keras.layers.Dense)):\n",
    "            params = layer.count_params()\n",
    "            total_params += params\n",
    "            layer_info.append((layer.name, params))\n",
    "    \n",
    "    for layer in model.layers:\n",
    "        collect_prunable_layers(layer)\n",
    "\n",
    "    print(\"=== Prunable Layer Summary ===\")\n",
    "    for name, params in layer_info:\n",
    "        print(f\"{name}: {params:,} parameters\")\n",
    "    print(f\"Total prunable parameters: {total_params:,}\")\n",
    "\n",
    "# Usage\n",
    "model = tf.keras.models.load_model(\n",
    "    r\"C:\\Users\\ioana\\Documents\\VS Projects\\ML-on-Microcontrollers-Project-Ioana-Gidiuta\\Code\\model_training\\Good_Models\\mmWave_orig_float32.h5\"\n",
    ")\n",
    "count_prunable_params(model)"
   ]
  },
  {
   "cell_type": "code",
   "execution_count": null,
   "id": "0b4cc16c",
   "metadata": {},
   "outputs": [
    {
     "name": "stdout",
     "output_type": "stream",
     "text": [
      "Epoch 1/5\n",
      "26/26 [==============================] - 48s 2s/step - loss: 0.1364 - accuracy: 0.9593 - val_loss: 0.1380 - val_accuracy: 0.9495\n",
      "Epoch 2/5\n",
      "26/26 [==============================] - 41s 2s/step - loss: 0.0150 - accuracy: 0.9965 - val_loss: 0.1001 - val_accuracy: 0.9655\n",
      "Epoch 3/5\n",
      "26/26 [==============================] - 41s 2s/step - loss: 0.0037 - accuracy: 1.0000 - val_loss: 0.0805 - val_accuracy: 0.9778\n",
      "Epoch 4/5\n",
      "26/26 [==============================] - 40s 2s/step - loss: 0.0019 - accuracy: 0.9998 - val_loss: 0.0707 - val_accuracy: 0.9778\n",
      "Epoch 5/5\n",
      "26/26 [==============================] - 39s 1s/step - loss: 0.0013 - accuracy: 1.0000 - val_loss: 0.0675 - val_accuracy: 0.9815\n",
      "WARNING:tensorflow:Compiled the loaded model, but the compiled metrics have yet to be built. `model.compile_metrics` will be empty until you train or evaluate the model.\n"
     ]
    },
    {
     "name": "stderr",
     "output_type": "stream",
     "text": [
      "WARNING:tensorflow:Compiled the loaded model, but the compiled metrics have yet to be built. `model.compile_metrics` will be empty until you train or evaluate the model.\n"
     ]
    }
   ],
   "source": [
    "pruning_schedule = tfmot.sparsity.keras.PolynomialDecay(\n",
    "    initial_sparsity=0.0,\n",
    "    final_sparsity=0.5,\n",
    "    begin_step=0,\n",
    "    end_step=1000\n",
    ")\n",
    "\n",
    "# === Recursive pruning ===\n",
    "def prune_recursively(layer):\n",
    "    if isinstance(layer, tf.keras.models.Sequential):\n",
    "        return tf.keras.Sequential([prune_recursively(l) for l in layer.layers])\n",
    "    elif isinstance(layer, tf.keras.Model):\n",
    "        return tf.keras.models.clone_model(layer, clone_function=prune_recursively)\n",
    "    elif isinstance(layer, tf.keras.layers.TimeDistributed):\n",
    "        layer.layer = prune_recursively(layer.layer)\n",
    "        return layer\n",
    "    elif isinstance(layer, (tf.keras.layers.Dense, tf.keras.layers.Conv2D)):\n",
    "        return tfmot.sparsity.keras.prune_low_magnitude(layer, pruning_schedule)\n",
    "    else:\n",
    "        return layer\n",
    "\n",
    "# === Clone and prune model ===\n",
    "model_for_pruning = tf.keras.models.clone_model(model, clone_function=prune_recursively)\n",
    "model_for_pruning.build(model.input_shape)\n",
    "\n",
    "# === Copy weights recursively ===\n",
    "def copy_weights_recursive(orig_layer, pruned_layer):\n",
    "    if hasattr(orig_layer, 'layers') and hasattr(pruned_layer, 'layers'):\n",
    "        for ol, pl in zip(orig_layer.layers, pruned_layer.layers):\n",
    "            copy_weights_recursive(ol, pl)\n",
    "    elif hasattr(orig_layer, 'layer') and hasattr(pruned_layer, 'layer'):\n",
    "        copy_weights_recursive(orig_layer.layer, pruned_layer.layer)\n",
    "    else:\n",
    "        try:\n",
    "            pruned_layer.set_weights(orig_layer.get_weights())\n",
    "        except Exception as e:\n",
    "            print(f\"Could not copy weights for {pruned_layer.name}: {e}\")\n",
    "\n",
    "copy_weights_recursive(model, model_for_pruning)\n",
    "\n",
    "# === Compile ===\n",
    "model_for_pruning.compile(\n",
    "    optimizer='adam',\n",
    "    loss='sparse_categorical_crossentropy',\n",
    "    metrics=['accuracy']\n",
    ")\n",
    "\n",
    "# === Required pruning callback ===\n",
    "callbacks = [\n",
    "    tfmot.sparsity.keras.UpdatePruningStep(),\n",
    "    tfmot.sparsity.keras.PruningSummaries(log_dir=\"./prune_logs\")\n",
    "]\n",
    "\n",
    "# === Train on CPU ===\n",
    "with tf.device('/CPU:0'):\n",
    "    model_for_pruning.fit(\n",
    "        train_gen,\n",
    "        validation_data=val_gen,\n",
    "        epochs=5,\n",
    "        callbacks=callbacks\n",
    "    )\n",
    "\n",
    "# === Strip pruning wrappers ===\n",
    "stripped_model = tfmot.sparsity.keras.strip_pruning(model_for_pruning)\n",
    "stripped_model.save(\"pruned_model_final.h5\")"
   ]
  },
  {
   "cell_type": "code",
   "execution_count": null,
   "id": "7a1cc738",
   "metadata": {},
   "outputs": [
    {
     "name": "stdout",
     "output_type": "stream",
     "text": [
      "WARNING:tensorflow:No training configuration found in the save file, so the model was *not* compiled. Compile it manually.\n"
     ]
    },
    {
     "data": {
      "image/png": "[encoded data removed]",
      "text/plain": [
       "<Figure size 1000x800 with 2 Axes>"
      ]
     },
     "metadata": {},
     "output_type": "display_data"
    },
    {
     "name": "stdout",
     "output_type": "stream",
     "text": [
      "               precision    recall  f1-score   support\n",
      "\n",
      "       Circle       1.00      1.00      1.00        90\n",
      "  FastSwipeRL       0.98      1.00      0.99        90\n",
      "    FingerRub       0.91      0.94      0.93        90\n",
      " FingerSlider       0.99      0.94      0.96        87\n",
      "       NoHand       1.00      1.00      1.00        90\n",
      "     PalmHold       1.00      1.00      1.00        89\n",
      "     PalmTilt       0.88      1.00      0.94        90\n",
      "   PinchIndex       0.82      0.56      0.66        90\n",
      "   PinchPinky       0.64      0.84      0.73        90\n",
      "         Pull       1.00      0.97      0.98        90\n",
      "         Push       0.96      1.00      0.98        90\n",
      "RandomGesture       1.00      0.87      0.93        90\n",
      "  SlowSwipeRL       1.00      0.98      0.99        90\n",
      "\n",
      "     accuracy                           0.93      1166\n",
      "    macro avg       0.94      0.93      0.93      1166\n",
      " weighted avg       0.94      0.93      0.93      1166\n",
      "\n"
     ]
    }
   ],
   "source": [
    "model = tf.keras.models.load_model(\"pruned_model_final.h5\")\n",
    "test_gen = MultiRadarSequenceGenerator(\n",
    "    test_samples,\n",
    "    label_map,\n",
    "    batch_size=32,\n",
    "    seq_len=SEQ_LEN,\n",
    "    shuffle_data=False\n",
    ")\n",
    "\n",
    "best_model_path = r'C:\\Users\\ioana\\Documents\\VS Projects\\ML-on-Microcontrollers-Project-Ioana-Gidiuta\\Code\\model_training\\Models\\3_radar_CNN\\final_model.h5'\n",
    "model = tf.keras.models.load_model(\"pruned_model_final.h5\")\n",
    "\n",
    "# Predict on test generator\n",
    "y_true = []\n",
    "y_pred = []\n",
    "\n",
    "for X, y in test_gen:\n",
    "    preds = model.predict(X, verbose=0)\n",
    "    y_true.extend(y)\n",
    "    y_pred.extend(np.argmax(preds, axis=1))\n",
    "\n",
    "y_true = np.array(y_true)\n",
    "y_pred = np.array(y_pred)\n",
    "\n",
    "# Confusion matrix\n",
    "cm = confusion_matrix(y_true, y_pred)\n",
    "cm_percent = cm.astype('float') / cm.sum(axis=1, keepdims=True)\n",
    "gesture_names = list(label_map.keys())\n",
    "\n",
    "# Plot\n",
    "plt.figure(figsize=(10, 8))\n",
    "sns.heatmap(cm_percent, annot=True, fmt='.1f', cmap='Blues',\n",
    "            xticklabels=gesture_names, yticklabels=gesture_names)\n",
    "plt.xlabel('Predicted Label')\n",
    "plt.ylabel('True Label')\n",
    "plt.title('Confusion Matrix (%) on Test Set')\n",
    "plt.tight_layout()\n",
    "plt.show()\n",
    "\n",
    "# Classification report\n",
    "print(classification_report(y_true, y_pred, target_names=gesture_names))"
   ]
  },
  {
   "cell_type": "code",
   "execution_count": null,
   "id": "2de65ed9",
   "metadata": {},
   "outputs": [],
   "source": [
    "model_path = r'C:\\Users\\ioana\\Documents\\VS Projects\\ML-on-Microcontrollers-Project-Ioana-Gidiuta\\Code\\model_training\\Good_Models\\mmWave_pruned_model_float32.h5'"
   ]
  },
  {
   "cell_type": "code",
   "execution_count": null,
   "id": "ae1f5315",
   "metadata": {},
   "outputs": [],
   "source": [
    "# === 1. Dynamically get PruneLowMagnitude class ===\n",
    "dummy = tfmot.sparsity.keras.prune_low_magnitude(tf.keras.layers.Dense(1), input_shape=(1,))\n",
    "PruneLowMagnitude = type(dummy)\n",
    "\n",
    "# === 2. Load the model with custom object mapping ===\n",
    "model = tf.keras.models.load_model(\n",
    "    r'C:\\Users\\ioana\\Documents\\VS Projects\\ML-on-Microcontrollers-Project-Ioana-Gidiuta\\Code\\model_training\\Good_Models\\mmWave_pruned_model_float32.h5',\n",
    "    custom_objects={'PruneLowMagnitude': PruneLowMagnitude}\n",
    ")\n",
    "\n",
    "# === 3. Strip pruning wrappers (critical before converting) ===\n",
    "model = tfmot.sparsity.keras.strip_pruning(model)\n",
    "\n",
    "# === 4. Wrap model in concrete function ===\n",
    "@tf.function(input_signature=[\n",
    "    tf.TensorSpec(shape=[1, 5, 32, 32, 3], dtype=tf.float32, name=\"rtm_input\"),\n",
    "    tf.TensorSpec(shape=[1, 5, 32, 32, 3], dtype=tf.float32, name=\"dtm_input\"),\n",
    "    tf.TensorSpec(shape=[1, 5, 32, 32, 3], dtype=tf.float32, name=\"atm_input\")\n",
    "])\n",
    "def wrapped_model(rtm, dtm, atm):\n",
    "    return model([rtm, dtm, atm])\n",
    "\n",
    "concrete_func = wrapped_model.get_concrete_function()\n",
    "\n",
    "# === 5. Define representative dataset ===\n",
    "def representative_dataset():\n",
    "    for X_batch, _ in test_gen:  # Ensure this is defined\n",
    "        for i in range(min(len(X_batch[0]), 100)):\n",
    "            rtm = X_batch[0][i:i+1].astype(np.float32)\n",
    "            dtm = X_batch[1][i:i+1].astype(np.float32)\n",
    "            atm = X_batch[2][i:i+1].astype(np.float32)\n",
    "            yield [rtm, dtm, atm]\n",
    "\n",
    "# === 6. Convert to INT8 TFLite ===\n",
    "converter = tf.lite.TFLiteConverter.from_concrete_functions(\n",
    "    [concrete_func], model  # Pass `model` as `trackable_obj` to avoid the warning\n",
    ")\n",
    "converter.optimizations = [tf.lite.Optimize.DEFAULT]\n",
    "converter.representative_dataset = representative_dataset\n",
    "converter.target_spec.supported_ops = [\n",
    "    tf.lite.OpsSet.TFLITE_BUILTINS_INT8,\n",
    "    tf.lite.OpsSet.SELECT_TF_OPS\n",
    "]\n",
    "converter._experimental_lower_tensor_list_ops = False\n",
    "\n",
    "# === 7. Convert and save ===\n",
    "tflite_model = converter.convert()\n",
    "with open(\"pruned_quantized_model_int8.tflite\", \"wb\") as f:\n",
    "    f.write(tflite_model)\n",
    "\n",
    "print(\"Model converted to INT8 and saved.\")"
   ]
  },
  {
   "cell_type": "code",
   "execution_count": 67,
   "id": "060a5769",
   "metadata": {},
   "outputs": [
    {
     "name": "stdout",
     "output_type": "stream",
     "text": [
      "WARNING:tensorflow:Error in loading the saved optimizer state. As a result, your model is starting with a freshly initialized optimizer.\n"
     ]
    },
    {
     "name": "stderr",
     "output_type": "stream",
     "text": [
      "WARNING:tensorflow:Error in loading the saved optimizer state. As a result, your model is starting with a freshly initialized optimizer.\n"
     ]
    },
    {
     "name": "stdout",
     "output_type": "stream",
     "text": [
      "Estimated model size (pruned, INT8): 1805.33 KB\n",
      "Theoretical dense INT8 size: 1805.33 KB\n"
     ]
    }
   ],
   "source": [
    "best_model_path = r'C:\\Users\\ioana\\Documents\\VS Projects\\ML-on-Microcontrollers-Project-Ioana-Gidiuta\\Code\\model_training\\Good_Models\\mmWave_orig_float32.h5'\n",
    "model = tf.keras.models.load_model(best_model_path)\n",
    "# Count weights\n",
    "total_weights = 0\n",
    "nonzero_weights = 0\n",
    "\n",
    "for layer in model.layers:\n",
    "    for weight in layer.get_weights():\n",
    "        total_weights += weight.size\n",
    "        nonzero_weights += np.count_nonzero(weight)\n",
    "\n",
    "# Compute storage assuming INT8 (1 byte per weight)\n",
    "theoretical_size_bytes = nonzero_weights  # 1 byte per non-zero\n",
    "theoretical_size_kb = theoretical_size_bytes / 1024\n",
    "\n",
    "# Optional: full model size if fully dense INT8\n",
    "full_dense_size_kb = total_weights / 1024\n",
    "\n",
    "print(f\"Estimated model size (pruned, INT8): {theoretical_size_kb:.2f} KB\")\n",
    "print(f\"Theoretical dense INT8 size: {full_dense_size_kb:.2f} KB\")"
   ]
  }
 ],
 "metadata": {
  "kernelspec": {
   "display_name": "tiny_radar",
   "language": "python",
   "name": "python3"
  },
  "language_info": {
   "codemirror_mode": {
    "name": "ipython",
    "version": 3
   },
   "file_extension": ".py",
   "mimetype": "text/x-python",
   "name": "python",
   "nbconvert_exporter": "python",
   "pygments_lexer": "ipython3",
   "version": "3.10.18"
  }
 },
 "nbformat": 4,
 "nbformat_minor": 5
}
